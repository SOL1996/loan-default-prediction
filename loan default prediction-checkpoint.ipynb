{
 "cells": [
  {
   "cell_type": "markdown",
   "metadata": {
    "id": "72nDyfmdbI76"
   },
   "source": [
    "# JIGSAW Data Science Bootcamp Capstone Project"
   ]
  },
  {
   "cell_type": "markdown",
   "metadata": {
    "id": "P9s4W1ZdbI79"
   },
   "source": [
    "<ul>\n",
    " <li>**Project Title** : Financial Services Loan Default Analysis </li> <br>\n",
    " <li>**Project Outline** : Assigned Capstone project is on **L&T Financial Services - Customers' Loan Defualt data** . The objective of this project is to connect business problems into analytics solutions by applying Data Science Frameworks learned in the Bootcamp sessions conducted by JIGSAW organized by TVS Credit Services. Here the Problem statement is to built a prediction model which helps L&T Credit Team to disburse Loan to new customers with high probability of servicing the loan. Thus ensuring a robust system which could able to reject customers' who doesn't have the capacity,capability & Intention to service the loan. This is done by building ML model by feeding existing customers' Loan service data, This broadly covers array of features which could help model to accept customers' loan application with good loan behavior, Credit History with repayment ability. </li>\n",
    " </ul>"
   ]
  },
  {
   "cell_type": "markdown",
   "metadata": {
    "id": "Q6ImDq_KbI7-"
   },
   "source": [
    "### Abstract"
   ]
  },
  {
   "cell_type": "markdown",
   "metadata": {
    "id": "jgH7Gsv4bI7_"
   },
   "source": [
    "The objective of this project is to use machine learning methodologies to built a predictive model on L&T Financial Services data for their new customer acquisition and loan approvals. EDA is done on the dataset to uncover valuable insights.ML models namely Logistic regression, Random forest, Ada Boost, XG Boost & Decision Tree are built. The best performing base model algorithm was Adaboost with varaince threshold selection with test Accuracy as 77.92% and AUC (Area under ROC) of 62.3% and checked for miss-classification results, Which didn't yield a good results warranted to build further classifier with hyper parameter tuning and selected the XG Boost model by looking at miss-classification rate compared to our selected base model."
   ]
  },
  {
   "cell_type": "markdown",
   "metadata": {
    "id": "Oo4KLkQobI7_"
   },
   "source": [
    "### Project Background"
   ]
  },
  {
   "cell_type": "markdown",
   "metadata": {
    "id": "bZSXL574bI8A"
   },
   "source": [
    "Finance is a field that is concerned with the allocation (investment) of assets and liabilities over space and time, often under conditions of risk or uncertainty. Finance can also be defined as the art of money management. Participants in the market aim to price assets based on their risk level, fundamental value, and their expected rate of return. <br>\n",
    "\n",
    "The dataset consists of customer information of L&T financial services. It is a finance dataset, which consists of customers demographics, loan disbursed, asset cost being purchased and the customers previous account and loan history. The dataset also consists of the state and branch id of L&T from where the loan was disbursed, the customer’s account history. It also contains the CNS score and score description provided by the Credit Bureaus of India.  <br>\n",
    "\n",
    "The Goal is to build a Robust Predictive Model which discriminates good and a bad customers and selects right customer who have the capacity to service the loan. Built Classification Models and evaluated them with various performance metrics. <br>\n",
    "\n",
    "**Project WorkFlow** Before building the model I tried to understand the importance of building a predictive model and this could better be undertood by knowing the incremental benefit it could bring in to L&T Financial services which are reducing NPA overall exposure, Increase Profitability and these are few enabler for better positioning L&T Finance in the lending market. After aligning with the objective and its outcome I started off with the project with a SOW,\n",
    "\n",
    "<ol>\n",
    "<li>Understand Problem statement & Gain Domain Knowledge</li>\n",
    "<li>Data Selection for Model Development & Validation</li>\n",
    "<li>Exploratory Data Analysis</li>\n",
    "<li>Feature Engineering & Model Development </li>\n",
    "<li>Evaluation & Business Presentation</li>\n",
    "<li>Productionisation and Continous Integration & Continous Development</li>\n",
    "</ol>"
   ]
  },
  {
   "cell_type": "markdown",
   "metadata": {
    "id": "6-icxFYdbI8N"
   },
   "source": [
    "### Data Description"
   ]
  },
  {
   "cell_type": "markdown",
   "metadata": {
    "id": "QK3h9mgMbI8O"
   },
   "source": [
    "L&T Financial Services is a lending arm of L&T Finance Holding Limited iincorporated in 2008 as an Non-Banking financial institution in Mumbai.\n",
    "\n",
    "L&T Financial Holdings is a financial solutions provider that \n",
    "caters to the diverse financing needs of its customers across various \n",
    "sectors, including Rural (Farm-Equipment Finance, Two-Wheeler Finance, \n",
    "Micro Loans and Consumer Loans), Housing (Home Loan, Loan Against \n",
    "Property and Real Estate Finance), Infrastructure and Mutual Funds. \n",
    "These businesses offer varied products and services that help customers \n",
    "secure both their financing needs as well as their future, including in the \n",
    "unserved and underserved segments of the society.\n",
    "\n",
    "As on Mar 31th 2021, The company have 197 branches with 1395 micro loans lendings centers focuses to serve customers from different businesses.\n",
    "\n",
    "L&T Financial Holdings has over 11 million customers, AUM of ~72 Thousand Crores, over 22500 employee, operational across India.\n",
    "\n",
    "L&T Financial Holdings currently harnesses the power of digital and Data Analytics for \n",
    "<ul>\n",
    "<li>Smart sourcing with digital first approach</li>\n",
    "<li> Greater Understanding of Customers for Credit \n",
    "Decisioning</li>\n",
    "<li>Focus on Strengthening Collections:\n",
    "</li>\n",
    "<li>Shift to Self-servicing </li>\n",
    "<li>Data driven Risk Identification & Risk Mitigation</li>\n",
    "</ul>\n",
    "<br>\n",
    "**Loan details file**  contains data points of 23315 customer who have taken loans from L&T finance contain dimensions capturing loan details, Customers' - Age, Unique_ID, DOB, Employment_Type, Bureau history. <br>\n",
    "<br>\n",
    "**Loan status file**  contains the **TARGET variable**, **Loan Defualt Status** were 0 : Customer Re-paid the loan & 1 : Customer not paid the loan.<br>\n",
    "<br>\n",
    "**Branch Region Mapping** contains columns namely Branch_ID & Region.<br>\n",
    "<br>\n"
   ]
  },
  {
   "cell_type": "markdown",
   "metadata": {
    "id": "CFYv0JvJbI8Q"
   },
   "source": [
    "![image.png](attachment:image.png)"
   ]
  },
  {
   "cell_type": "code",
   "execution_count": null,
   "metadata": {
    "id": "939NE3XObI8R"
   },
   "outputs": [],
   "source": [
    "import pandas as pd\n",
    "import numpy as np\n",
    "import matplotlib.pyplot as plt\n",
    "import seaborn as sns\n",
    "%matplotlib inline\n",
    "import warnings\n",
    "warnings.filterwarnings('ignore')\n",
    "from IPython.core.interactiveshell import InteractiveShell  \n",
    "InteractiveShell.ast_node_interactivity = \"all\""
   ]
  },
  {
   "cell_type": "code",
   "execution_count": null,
   "metadata": {
    "id": "WtBiTj8bbI8S"
   },
   "outputs": [],
   "source": [
    "Loan_Details = pd.read_csv(r'\\Data\\Loan_details.csv')\n",
    "Target = pd.read_csv(r'\\Data\\Loan_status.csv')\n",
    "Region = pd.read_csv(r'\\Data\\Branch_region_mapping.csv')"
   ]
  },
  {
   "cell_type": "code",
   "execution_count": null,
   "metadata": {
    "id": "UbQRhlUcbI8T"
   },
   "outputs": [],
   "source": [
    "print(\"Shape of Loan_Details :\", Loan_Details.shape)\n",
    "print(\"Shape of Target :\", Target.shape)"
   ]
  },
  {
   "cell_type": "markdown",
   "metadata": {
    "id": "gs9w1ljcbI8V"
   },
   "source": [
    "From the above we can observe we have loan defualt status data point available for all customers considered for Model Development & Validation."
   ]
  },
  {
   "cell_type": "code",
   "execution_count": null,
   "metadata": {
    "id": "AtZ-1RAhbI8V",
    "outputId": "7209cf6c-3bfe-4d81-bc7e-01b1ddf71c5a"
   },
   "outputs": [
    {
     "data": {
      "text/html": [
       "<div>\n",
       "<style scoped>\n",
       "    .dataframe tbody tr th:only-of-type {\n",
       "        vertical-align: middle;\n",
       "    }\n",
       "\n",
       "    .dataframe tbody tr th {\n",
       "        vertical-align: top;\n",
       "    }\n",
       "\n",
       "    .dataframe thead th {\n",
       "        text-align: right;\n",
       "    }\n",
       "</style>\n",
       "<table border=\"1\" class=\"dataframe\">\n",
       "  <thead>\n",
       "    <tr style=\"text-align: right;\">\n",
       "      <th></th>\n",
       "      <th>Loan_id</th>\n",
       "      <th>disbursed_amount</th>\n",
       "      <th>asset_cost</th>\n",
       "      <th>ltv</th>\n",
       "      <th>branch_id</th>\n",
       "      <th>Date.of.Birth</th>\n",
       "      <th>Employment.Type</th>\n",
       "      <th>DisbursalDate</th>\n",
       "      <th>MobileNo_Avl_Flag</th>\n",
       "      <th>Aadhar_flag</th>\n",
       "      <th>PAN_flag</th>\n",
       "      <th>VoterID_flag</th>\n",
       "      <th>Driving_flag</th>\n",
       "      <th>Passport_flag</th>\n",
       "      <th>PERFORM_CNS.SCORE</th>\n",
       "      <th>DELINQUENT.ACCTS.IN.LAST.SIX.MONTHS</th>\n",
       "      <th>CREDIT.HISTORY.LENGTH</th>\n",
       "      <th>NO.OF_INQUIRIES</th>\n",
       "    </tr>\n",
       "  </thead>\n",
       "  <tbody>\n",
       "    <tr>\n",
       "      <th>0</th>\n",
       "      <td>1</td>\n",
       "      <td>36439</td>\n",
       "      <td>65850</td>\n",
       "      <td>56.19</td>\n",
       "      <td>64</td>\n",
       "      <td>14-06-1990</td>\n",
       "      <td>Self employed</td>\n",
       "      <td>28-09-2018</td>\n",
       "      <td>1</td>\n",
       "      <td>1</td>\n",
       "      <td>0</td>\n",
       "      <td>0</td>\n",
       "      <td>0</td>\n",
       "      <td>0</td>\n",
       "      <td>0</td>\n",
       "      <td>0</td>\n",
       "      <td>0yrs 0mon</td>\n",
       "      <td>0</td>\n",
       "    </tr>\n",
       "    <tr>\n",
       "      <th>1</th>\n",
       "      <td>2</td>\n",
       "      <td>48749</td>\n",
       "      <td>69303</td>\n",
       "      <td>72.15</td>\n",
       "      <td>67</td>\n",
       "      <td>01-01-1991</td>\n",
       "      <td>Salaried</td>\n",
       "      <td>10-09-2018</td>\n",
       "      <td>1</td>\n",
       "      <td>1</td>\n",
       "      <td>0</td>\n",
       "      <td>0</td>\n",
       "      <td>0</td>\n",
       "      <td>0</td>\n",
       "      <td>783</td>\n",
       "      <td>0</td>\n",
       "      <td>2yrs 6mon</td>\n",
       "      <td>0</td>\n",
       "    </tr>\n",
       "  </tbody>\n",
       "</table>\n",
       "</div>"
      ],
      "text/plain": [
       "   Loan_id  disbursed_amount  asset_cost    ltv  branch_id Date.of.Birth  \\\n",
       "0        1             36439       65850  56.19         64    14-06-1990   \n",
       "1        2             48749       69303  72.15         67    01-01-1991   \n",
       "\n",
       "  Employment.Type DisbursalDate  MobileNo_Avl_Flag  Aadhar_flag  PAN_flag  \\\n",
       "0   Self employed    28-09-2018                  1            1         0   \n",
       "1        Salaried    10-09-2018                  1            1         0   \n",
       "\n",
       "   VoterID_flag  Driving_flag  Passport_flag  PERFORM_CNS.SCORE  \\\n",
       "0             0             0              0                  0   \n",
       "1             0             0              0                783   \n",
       "\n",
       "   DELINQUENT.ACCTS.IN.LAST.SIX.MONTHS CREDIT.HISTORY.LENGTH  NO.OF_INQUIRIES  \n",
       "0                                    0             0yrs 0mon                0  \n",
       "1                                    0             2yrs 6mon                0  "
      ]
     },
     "execution_count": 4,
     "metadata": {},
     "output_type": "execute_result"
    }
   ],
   "source": [
    "Loan_Details.head(2)"
   ]
  },
  {
   "cell_type": "code",
   "execution_count": null,
   "metadata": {
    "id": "TlOM7PPrbI8W",
    "outputId": "89bacfe0-8fa6-4a30-aff3-f0774fd96183"
   },
   "outputs": [
    {
     "data": {
      "text/plain": [
       "Index(['Loan_id', 'loan_default'], dtype='object')"
      ]
     },
     "execution_count": 5,
     "metadata": {},
     "output_type": "execute_result"
    }
   ],
   "source": [
    "Target.columns"
   ]
  },
  {
   "cell_type": "code",
   "execution_count": null,
   "metadata": {
    "id": "cx_Xjge6bI8X"
   },
   "outputs": [],
   "source": [
    "Data = pd.merge(Loan_Details,Target,on='Loan_id',how='inner')\n",
    "Data.shape"
   ]
  },
  {
   "cell_type": "markdown",
   "metadata": {
    "id": "b39-uO6zbI8Y"
   },
   "source": [
    "Mapped Target variable and created a object, DataFrame."
   ]
  },
  {
   "cell_type": "code",
   "execution_count": null,
   "metadata": {
    "id": "ZuBGzwTPbI8Z"
   },
   "outputs": [],
   "source": [
    "Data.dtypes"
   ]
  },
  {
   "cell_type": "code",
   "execution_count": null,
   "metadata": {
    "id": "bGf98MmhbI8a"
   },
   "outputs": [],
   "source": [
    "Data.isnull().sum()"
   ]
  },
  {
   "cell_type": "markdown",
   "metadata": {
    "id": "s57FsqK_bI8a"
   },
   "source": [
    "We've Null values or NANs for 770 instances in the Employment_Type column."
   ]
  },
  {
   "cell_type": "code",
   "execution_count": null,
   "metadata": {
    "id": "ifhPyKcdbI8b",
    "outputId": "d91fe0fa-904f-4d9c-9a9e-3c21ab137977"
   },
   "outputs": [
    {
     "data": {
      "text/plain": [
       "Self employed    12724\n",
       "Salaried          9821\n",
       "Name: Employment.Type, dtype: int64"
      ]
     },
     "execution_count": 9,
     "metadata": {},
     "output_type": "execute_result"
    }
   ],
   "source": [
    "Data['Employment.Type'].value_counts()"
   ]
  },
  {
   "cell_type": "code",
   "execution_count": null,
   "metadata": {
    "id": "9mhf44hxbI8b"
   },
   "outputs": [],
   "source": [
    "Data['Employment.Type'].fillna('Others',inplace = True)"
   ]
  },
  {
   "cell_type": "markdown",
   "metadata": {
    "id": "YYdArDHXbI8c"
   },
   "source": [
    "Filling the missing instances with Others since imputing at employment class at random may not be an good approach to tackle here."
   ]
  },
  {
   "cell_type": "code",
   "execution_count": null,
   "metadata": {
    "id": "dibiK4elbI8c",
    "outputId": "8ba1d1b5-c502-4ac3-c6a4-21c8e1bfe006"
   },
   "outputs": [
    {
     "data": {
      "text/html": [
       "<div>\n",
       "<style scoped>\n",
       "    .dataframe tbody tr th:only-of-type {\n",
       "        vertical-align: middle;\n",
       "    }\n",
       "\n",
       "    .dataframe tbody tr th {\n",
       "        vertical-align: top;\n",
       "    }\n",
       "\n",
       "    .dataframe thead th {\n",
       "        text-align: right;\n",
       "    }\n",
       "</style>\n",
       "<table border=\"1\" class=\"dataframe\">\n",
       "  <thead>\n",
       "    <tr style=\"text-align: right;\">\n",
       "      <th>loan_default</th>\n",
       "      <th>0</th>\n",
       "      <th>1</th>\n",
       "    </tr>\n",
       "    <tr>\n",
       "      <th>Employment.Type</th>\n",
       "      <th></th>\n",
       "      <th></th>\n",
       "    </tr>\n",
       "  </thead>\n",
       "  <tbody>\n",
       "    <tr>\n",
       "      <th>Others</th>\n",
       "      <td>0.768831</td>\n",
       "      <td>0.231169</td>\n",
       "    </tr>\n",
       "    <tr>\n",
       "      <th>Salaried</th>\n",
       "      <td>0.794827</td>\n",
       "      <td>0.205173</td>\n",
       "    </tr>\n",
       "    <tr>\n",
       "      <th>Self employed</th>\n",
       "      <td>0.769491</td>\n",
       "      <td>0.230509</td>\n",
       "    </tr>\n",
       "  </tbody>\n",
       "</table>\n",
       "</div>"
      ],
      "text/plain": [
       "loan_default            0         1\n",
       "Employment.Type                    \n",
       "Others           0.768831  0.231169\n",
       "Salaried         0.794827  0.205173\n",
       "Self employed    0.769491  0.230509"
      ]
     },
     "execution_count": 11,
     "metadata": {},
     "output_type": "execute_result"
    }
   ],
   "source": [
    "pd.crosstab(Data['Employment.Type'],Data['loan_default'], normalize='index')"
   ]
  },
  {
   "cell_type": "markdown",
   "metadata": {
    "id": "3Y5Stk3YbI8d"
   },
   "source": [
    "Roughly for 170 Loan Defualt cases we have tagged others in the Employment type column."
   ]
  },
  {
   "cell_type": "code",
   "execution_count": null,
   "metadata": {
    "id": "6IC0I3XJbI8d"
   },
   "outputs": [],
   "source": [
    "fig, axes = plt.subplots(1,2,figsize=(12,6))\n",
    "Data['loan_default'].value_counts().plot.pie(explode=[0,0.1],autopct='%1.1f%%',ax=axes[0])\n",
    "axes[0].set_title('Loan_Default_Distribution')\n",
    "sns.countplot('loan_default',data=Data,ax=axes[1])\n",
    "axes[1].set_title('Loan_Default_Distribution')\n",
    "plt.show()"
   ]
  },
  {
   "cell_type": "markdown",
   "metadata": {
    "id": "x7bOAmMObI8e"
   },
   "source": [
    "5126 Customers have defualted on their loan out of customer pool of around 23315 with **21%** as the avg loan defualt rate"
   ]
  },
  {
   "cell_type": "code",
   "execution_count": null,
   "metadata": {
    "id": "kmDIge72bI8e",
    "outputId": "9013e309-b00e-4ce1-d914-ad4ba6b04d36"
   },
   "outputs": [
    {
     "data": {
      "text/plain": [
       "54297.64730859961"
      ]
     },
     "execution_count": 13,
     "metadata": {},
     "output_type": "execute_result"
    }
   ],
   "source": [
    "Data['disbursed_amount'].mean()"
   ]
  },
  {
   "cell_type": "markdown",
   "metadata": {
    "id": "632Cl_febI8f"
   },
   "source": [
    "**ATS**, *Average Ticket Size of the portfolio is* **54298**"
   ]
  },
  {
   "cell_type": "code",
   "execution_count": null,
   "metadata": {
    "id": "Oo_BuU9WbI8f",
    "outputId": "1094b1e9-7bd9-4ba9-cf77-c34ccae28863"
   },
   "outputs": [
    {
     "data": {
      "text/html": [
       "<div>\n",
       "<style scoped>\n",
       "    .dataframe tbody tr th:only-of-type {\n",
       "        vertical-align: middle;\n",
       "    }\n",
       "\n",
       "    .dataframe tbody tr th {\n",
       "        vertical-align: top;\n",
       "    }\n",
       "\n",
       "    .dataframe thead th {\n",
       "        text-align: right;\n",
       "    }\n",
       "</style>\n",
       "<table border=\"1\" class=\"dataframe\">\n",
       "  <thead>\n",
       "    <tr style=\"text-align: right;\">\n",
       "      <th></th>\n",
       "      <th>count</th>\n",
       "      <th>mean</th>\n",
       "      <th>std</th>\n",
       "      <th>min</th>\n",
       "      <th>25%</th>\n",
       "      <th>50%</th>\n",
       "      <th>75%</th>\n",
       "      <th>max</th>\n",
       "    </tr>\n",
       "    <tr>\n",
       "      <th>loan_default</th>\n",
       "      <th></th>\n",
       "      <th></th>\n",
       "      <th></th>\n",
       "      <th></th>\n",
       "      <th></th>\n",
       "      <th></th>\n",
       "      <th></th>\n",
       "      <th></th>\n",
       "    </tr>\n",
       "  </thead>\n",
       "  <tbody>\n",
       "    <tr>\n",
       "      <th>0</th>\n",
       "      <td>18189.0</td>\n",
       "      <td>53862.158667</td>\n",
       "      <td>13322.107774</td>\n",
       "      <td>13600.0</td>\n",
       "      <td>46349.00</td>\n",
       "      <td>53303.0</td>\n",
       "      <td>60047.0</td>\n",
       "      <td>592460.0</td>\n",
       "    </tr>\n",
       "    <tr>\n",
       "      <th>1</th>\n",
       "      <td>5126.0</td>\n",
       "      <td>55842.926844</td>\n",
       "      <td>11967.380881</td>\n",
       "      <td>13369.0</td>\n",
       "      <td>49150.75</td>\n",
       "      <td>55259.0</td>\n",
       "      <td>61459.0</td>\n",
       "      <td>144085.0</td>\n",
       "    </tr>\n",
       "  </tbody>\n",
       "</table>\n",
       "</div>"
      ],
      "text/plain": [
       "                count          mean           std      min       25%      50%  \\\n",
       "loan_default                                                                    \n",
       "0             18189.0  53862.158667  13322.107774  13600.0  46349.00  53303.0   \n",
       "1              5126.0  55842.926844  11967.380881  13369.0  49150.75  55259.0   \n",
       "\n",
       "                  75%       max  \n",
       "loan_default                     \n",
       "0             60047.0  592460.0  \n",
       "1             61459.0  144085.0  "
      ]
     },
     "execution_count": 14,
     "metadata": {},
     "output_type": "execute_result"
    }
   ],
   "source": [
    "Data.groupby(['loan_default'])['disbursed_amount'].describe()"
   ]
  },
  {
   "cell_type": "code",
   "execution_count": null,
   "metadata": {
    "id": "xXx7Xrq5bI8g",
    "outputId": "55170be0-04ed-41de-9449-6f99a43d91a1"
   },
   "outputs": [
    {
     "data": {
      "text/plain": [
       "0    8278\n",
       "1    2781\n",
       "Name: loan_default, dtype: int64"
      ]
     },
     "execution_count": 15,
     "metadata": {},
     "output_type": "execute_result"
    }
   ],
   "source": [
    "Data['loan_default'][Data['disbursed_amount'] > 54300].value_counts()"
   ]
  },
  {
   "cell_type": "markdown",
   "metadata": {
    "id": "a5GIaDXNbI8g"
   },
   "source": [
    "Interesting, We can observe customer with disbursed amount less than mean portfolio amout of 55400 have a default rate of **~19%** percent Whereas customer with loan amount greater than 55400 have a defualt rate of **~25.1%** percent. A 600 basis point spread reinforces us to uncover insights & take pro active measures."
   ]
  },
  {
   "cell_type": "code",
   "execution_count": null,
   "metadata": {
    "id": "MTyEx46hbI8h",
    "outputId": "06034cbd-65c4-4f59-9f16-b7cf75bff56e"
   },
   "outputs": [
    {
     "data": {
      "text/plain": [
       "(23315, 20)"
      ]
     },
     "execution_count": 16,
     "metadata": {},
     "output_type": "execute_result"
    }
   ],
   "source": [
    "FNL = pd.merge(Data,Region,on='branch_id',how='left')\n",
    "FNL.shape"
   ]
  },
  {
   "cell_type": "markdown",
   "metadata": {
    "id": "ScD7mlY2bI8i"
   },
   "source": [
    "Left Joining Region on branch id and create a final data"
   ]
  },
  {
   "cell_type": "code",
   "execution_count": null,
   "metadata": {
    "id": "xw3k4fVKbI8i",
    "outputId": "0d172d6b-c10b-47b1-88eb-ad54a404f65c"
   },
   "outputs": [
    {
     "data": {
      "text/plain": [
       "<matplotlib.axes._subplots.AxesSubplot at 0x19d2ded1588>"
      ]
     },
     "execution_count": 17,
     "metadata": {},
     "output_type": "execute_result"
    },
    {
     "data": {
      "text/plain": [
       "Text(0.5,1,'Distribution Customers Birth Year')"
      ]
     },
     "execution_count": 17,
     "metadata": {},
     "output_type": "execute_result"
    },
    {
     "data": {
      "image/png": "[encoded data removed]",
      "text/plain": [
       "<Figure size 432x288 with 1 Axes>"
      ]
     },
     "metadata": {},
     "output_type": "display_data"
    }
   ],
   "source": [
    "FNL['Date.of.Birth'] = pd.to_datetime(FNL['Date.of.Birth'])\n",
    "FNL['Year_of_birth'] = FNL['Date.of.Birth'].dt.year\n",
    "sns.distplot(FNL['Year_of_birth'], color = 'Orange')\n",
    "plt.title('Distribution Customers Birth Year')"
   ]
  },
  {
   "cell_type": "markdown",
   "metadata": {
    "id": "f0Llt5dKbI8i"
   },
   "source": [
    "Extracted year of birth since customer how are in age bracked of 35 to 50 generally have good income streams unlike to customer under 30 years of age."
   ]
  },
  {
   "cell_type": "code",
   "execution_count": null,
   "metadata": {
    "id": "EIakStGQbI8j",
    "outputId": "a14fe890-0581-41ad-9d39-456f84d09509"
   },
   "outputs": [
    {
     "data": {
      "text/plain": [
       "0    7676\n",
       "1    2094\n",
       "Name: loan_default, dtype: int64"
      ]
     },
     "execution_count": 18,
     "metadata": {},
     "output_type": "execute_result"
    }
   ],
   "source": [
    "FNL['loan_default'][FNL['Year_of_birth'] > 1972][FNL['Year_of_birth'] <= 1987].value_counts()"
   ]
  },
  {
   "cell_type": "markdown",
   "metadata": {
    "id": "Caza5E7MbI8j"
   },
   "source": [
    "But here we can observe customer's who are born between 1972 to 1987 have a avg defualt rate of **~21%** percent"
   ]
  },
  {
   "cell_type": "code",
   "execution_count": null,
   "metadata": {
    "id": "qdYIRTNQbI8j"
   },
   "outputs": [],
   "source": [
    "sns.countplot(FNL['NO.OF_INQUIRIES'])\n",
    "plt.title('Number of Inquiries Distribution')"
   ]
  },
  {
   "cell_type": "markdown",
   "metadata": {
    "id": "jlA5bjIzbI8k"
   },
   "source": [
    "Only 3115 customers made more than 1 inquiries "
   ]
  },
  {
   "cell_type": "code",
   "execution_count": null,
   "metadata": {
    "id": "q0GeNfBUbI8k"
   },
   "outputs": [],
   "source": [
    "FNL['DisbursalDate'] = pd.to_datetime(FNL['DisbursalDate'])\n",
    "FNL['DisbursalMonth'] = FNL['DisbursalDate'].dt.month\n",
    "sns.countplot(FNL['DisbursalMonth'])\n",
    "plt.title('Disbursal Months Distributions')"
   ]
  },
  {
   "cell_type": "markdown",
   "metadata": {
    "id": "JrQxT_4_bI8k"
   },
   "source": [
    "We can observe a trend in disbursal, Sum total of disbursal in **August** , **September**, **October** is higher than disbursal happening in rest of nine months."
   ]
  },
  {
   "cell_type": "code",
   "execution_count": null,
   "metadata": {
    "id": "3OMVfmpcbI8l"
   },
   "outputs": [],
   "source": [
    "FNL['CY'] = 2022"
   ]
  },
  {
   "cell_type": "code",
   "execution_count": null,
   "metadata": {
    "id": "cMhBvLH_bI8l"
   },
   "outputs": [],
   "source": [
    "FNL['AGE'] = FNL['CY']- FNL['Year_of_birth']\n",
    "FNL['AGE'].head(2)"
   ]
  },
  {
   "cell_type": "code",
   "execution_count": null,
   "metadata": {
    "id": "s5l1mzmPbI8l",
    "outputId": "758205da-c58f-4a01-f2c0-57f46fa5fd6c"
   },
   "outputs": [
    {
     "data": {
      "image/png": "[encoded data removed]",
      "text/plain": [
       "<Figure size 576x504 with 2 Axes>"
      ]
     },
     "metadata": {},
     "output_type": "display_data"
    }
   ],
   "source": [
    "age_hist = FNL['AGE'].hist(by=FNL['loan_default'], bins=20, layout=(2,1),figsize=(8,7))\n",
    "age_hist[0].set_xlim((0,100))\n",
    "age_hist[0].set_title('loan_default = 0')\n",
    "age_hist[1].set_xlim((0,100))\n",
    "age_hist[1].set_title('loan_default = 1');"
   ]
  },
  {
   "cell_type": "code",
   "execution_count": null,
   "metadata": {
    "id": "Dkm-tNC4bI8m",
    "outputId": "2803988e-56e3-4829-b857-07ab3e3b9062"
   },
   "outputs": [
    {
     "data": {
      "image/png": "[encoded data removed]",
      "text/plain": [
       "<Figure size 432x432 with 1 Axes>"
      ]
     },
     "metadata": {},
     "output_type": "display_data"
    }
   ],
   "source": [
    "plt.figure(figsize=(6,6))\n",
    "sns.boxplot(y='AGE',x='loan_default',data=FNL)\n",
    "plt.ylabel('AGE')\n",
    "plt.xlabel('loan_default')\n",
    "plt.title('Distribution of loan_default Vs. Age');"
   ]
  },
  {
   "cell_type": "markdown",
   "metadata": {
    "id": "vKHZNhI5bI8m"
   },
   "source": [
    " The above helps us to infer customers' who have failed to service the loan are in the age bracket of 30 to 40"
   ]
  },
  {
   "cell_type": "code",
   "execution_count": null,
   "metadata": {
    "id": "PpdSsgmNbI8m",
    "outputId": "269a46ac-30c3-41e5-9e4d-929c8f437348"
   },
   "outputs": [
    {
     "data": {
      "text/plain": [
       "1    0.845078\n",
       "0    0.154922\n",
       "Name: Aadhar_flag, dtype: float64"
      ]
     },
     "execution_count": 25,
     "metadata": {},
     "output_type": "execute_result"
    },
    {
     "data": {
      "text/plain": [
       "0    0.924469\n",
       "1    0.075531\n",
       "Name: PAN_flag, dtype: float64"
      ]
     },
     "execution_count": 25,
     "metadata": {},
     "output_type": "execute_result"
    },
    {
     "data": {
      "text/plain": [
       "0    0.858932\n",
       "1    0.141068\n",
       "Name: VoterID_flag, dtype: float64"
      ]
     },
     "execution_count": 25,
     "metadata": {},
     "output_type": "execute_result"
    },
    {
     "data": {
      "text/plain": [
       "0    0.976839\n",
       "1    0.023161\n",
       "Name: Driving_flag, dtype: float64"
      ]
     },
     "execution_count": 25,
     "metadata": {},
     "output_type": "execute_result"
    },
    {
     "data": {
      "text/plain": [
       "0    0.997941\n",
       "1    0.002059\n",
       "Name: Passport_flag, dtype: float64"
      ]
     },
     "execution_count": 25,
     "metadata": {},
     "output_type": "execute_result"
    }
   ],
   "source": [
    "FNL['Aadhar_flag'].value_counts(normalize=True)\n",
    "FNL['PAN_flag'].value_counts(normalize=True)\n",
    "FNL['VoterID_flag'].value_counts(normalize=True)\n",
    "FNL['Driving_flag'].value_counts(normalize=True)\n",
    "FNL['Passport_flag'].value_counts(normalize=True)"
   ]
  },
  {
   "cell_type": "code",
   "execution_count": null,
   "metadata": {
    "id": "EMbS-KQxbI8n",
    "outputId": "2af68bff-c5a7-4255-e918-15cccbeba02e"
   },
   "outputs": [
    {
     "data": {
      "text/plain": [
       "<matplotlib.axes._subplots.AxesSubplot at 0x19d2e4e0160>"
      ]
     },
     "execution_count": 26,
     "metadata": {},
     "output_type": "execute_result"
    },
    {
     "data": {
      "image/png": "[encoded data removed]",
      "text/plain": [
       "<Figure size 432x288 with 1 Axes>"
      ]
     },
     "metadata": {},
     "output_type": "display_data"
    }
   ],
   "source": [
    "FNL.groupby(['region']).sum().plot(kind='pie', y='loan_default', autopct='%1.0f%%')"
   ]
  },
  {
   "cell_type": "markdown",
   "metadata": {
    "id": "67TNGZxVbI8n"
   },
   "source": [
    "Loan defualt contribution region wise East & West Regions contributes to about **~63%** percent of overall defualt rates"
   ]
  },
  {
   "cell_type": "code",
   "execution_count": null,
   "metadata": {
    "id": "qUmKzEV8bI8n"
   },
   "outputs": [],
   "source": [
    "plt.figure(figsize=(3,8))\n",
    "heatmap = sns.heatmap(FNL.corr()[['loan_default']].sort_values(by='loan_default',ascending=False),vmin=-1,vmax=1,annot=True)\n",
    "heatmap.set_title('Features Correlating with loan_default',fontdict={'fontsize':12},pad=12)"
   ]
  },
  {
   "cell_type": "markdown",
   "metadata": {
    "id": "dSMmOZzobI8n"
   },
   "source": [
    "From simple correaltion analysis we can observe features which are positively & negatively correalated with the response variable i.e Loan defualt"
   ]
  },
  {
   "cell_type": "code",
   "execution_count": null,
   "metadata": {
    "id": "odOou0SrbI8o"
   },
   "outputs": [],
   "source": [
    "FNL['asset_disburse']=(FNL['asset_cost']-FNL['disbursed_amount'])/FNL['disbursed_amount']\n",
    "FNL['CREDIT.HISTORY.LENGTH.YEAR']=FNL['CREDIT.HISTORY.LENGTH'].apply(lambda x: int(x.split(\" \")[0][:-3]))\n",
    "FNL['CREDIT.HISTORY.LENGTH.MONTH']=FNL['CREDIT.HISTORY.LENGTH'].apply(lambda x: int(x.split(\" \")[1][:-3]))"
   ]
  },
  {
   "cell_type": "code",
   "execution_count": null,
   "metadata": {
    "id": "jgb0mTjPbI8o"
   },
   "outputs": [],
   "source": [
    "FNL['branch_id'] = FNL['branch_id'].astype('category')\n",
    "from sklearn.preprocessing import LabelEncoder\n",
    "le = LabelEncoder()\n",
    "FNL['branch_id'] = le.fit_transform(FNL['branch_id'])"
   ]
  },
  {
   "cell_type": "code",
   "execution_count": null,
   "metadata": {
    "id": "VB2szrnwbI8o"
   },
   "outputs": [],
   "source": [
    "FNL.drop(['MobileNo_Avl_Flag', 'Loan_id','Date.of.Birth','DisbursalDate'], axis=1, inplace=True)"
   ]
  },
  {
   "cell_type": "code",
   "execution_count": null,
   "metadata": {
    "id": "5N8FyCprbI8o"
   },
   "outputs": [],
   "source": [
    "FNL['CREDIT.HISTORY.LENGTH'] = FNL['CREDIT.HISTORY.LENGTH'].apply(lambda x: x.split(' ')[0])\n",
    "FNL['CREDIT.HISTORY.LENGTH'] = FNL['CREDIT.HISTORY.LENGTH'].apply(lambda x: x.split('yrs')[0])\n",
    "FNL['Employment.Type'] = FNL['Employment.Type'].replace(('Self employed', 'Salaried', 'Others'), (2, 1, 0))\n",
    "FNL['region'] = FNL['region'].replace(('South', 'East', 'North', 'West'), (1,2,3,4))"
   ]
  },
  {
   "cell_type": "code",
   "execution_count": null,
   "metadata": {
    "id": "qNYCPydTbI8p"
   },
   "outputs": [],
   "source": [
    "FNL.columns"
   ]
  },
  {
   "cell_type": "code",
   "execution_count": null,
   "metadata": {
    "id": "b9OkguuQbI8p",
    "outputId": "4be54548-4ff6-4111-a0c5-079f2df5dfc4"
   },
   "outputs": [
    {
     "data": {
      "text/html": [
       "<style  type=\"text/css\" >\n",
       "    #T_391b25be_cc9d_11ec_98b0_f4ee08992b84row0_col0 {\n",
       "            background-color:  #b40426;\n",
       "        }    #T_391b25be_cc9d_11ec_98b0_f4ee08992b84row0_col1 {\n",
       "            background-color:  #ec7f63;\n",
       "        }    #T_391b25be_cc9d_11ec_98b0_f4ee08992b84row0_col2 {\n",
       "            background-color:  #f7b599;\n",
       "        }    #T_391b25be_cc9d_11ec_98b0_f4ee08992b84row0_col3 {\n",
       "            background-color:  #465ecf;\n",
       "        }    #T_391b25be_cc9d_11ec_98b0_f4ee08992b84row0_col4 {\n",
       "            background-color:  #5a78e4;\n",
       "        }    #T_391b25be_cc9d_11ec_98b0_f4ee08992b84row0_col5 {\n",
       "            background-color:  #d1dae9;\n",
       "        }    #T_391b25be_cc9d_11ec_98b0_f4ee08992b84row0_col6 {\n",
       "            background-color:  #7093f3;\n",
       "        }    #T_391b25be_cc9d_11ec_98b0_f4ee08992b84row0_col7 {\n",
       "            background-color:  #d5dbe5;\n",
       "        }    #T_391b25be_cc9d_11ec_98b0_f4ee08992b84row0_col8 {\n",
       "            background-color:  #82a6fb;\n",
       "        }    #T_391b25be_cc9d_11ec_98b0_f4ee08992b84row0_col9 {\n",
       "            background-color:  #516ddb;\n",
       "        }    #T_391b25be_cc9d_11ec_98b0_f4ee08992b84row0_col10 {\n",
       "            background-color:  #6b8df0;\n",
       "        }    #T_391b25be_cc9d_11ec_98b0_f4ee08992b84row0_col11 {\n",
       "            background-color:  #5673e0;\n",
       "        }    #T_391b25be_cc9d_11ec_98b0_f4ee08992b84row0_col12 {\n",
       "            background-color:  #5977e3;\n",
       "        }    #T_391b25be_cc9d_11ec_98b0_f4ee08992b84row0_col13 {\n",
       "            background-color:  #6485ec;\n",
       "        }    #T_391b25be_cc9d_11ec_98b0_f4ee08992b84row0_col14 {\n",
       "            background-color:  #6485ec;\n",
       "        }    #T_391b25be_cc9d_11ec_98b0_f4ee08992b84row0_col15 {\n",
       "            background-color:  #e5d8d1;\n",
       "        }    #T_391b25be_cc9d_11ec_98b0_f4ee08992b84row0_col16 {\n",
       "            background-color:  #5470de;\n",
       "        }    #T_391b25be_cc9d_11ec_98b0_f4ee08992b84row0_col17 {\n",
       "            background-color:  #3b4cc0;\n",
       "        }    #T_391b25be_cc9d_11ec_98b0_f4ee08992b84row0_col18 {\n",
       "            background-color:  #d4dbe6;\n",
       "        }    #T_391b25be_cc9d_11ec_98b0_f4ee08992b84row0_col19 {\n",
       "            background-color:  #96b7ff;\n",
       "        }    #T_391b25be_cc9d_11ec_98b0_f4ee08992b84row0_col20 {\n",
       "            background-color:  #86a9fc;\n",
       "        }    #T_391b25be_cc9d_11ec_98b0_f4ee08992b84row0_col21 {\n",
       "            background-color:  #6180e9;\n",
       "        }    #T_391b25be_cc9d_11ec_98b0_f4ee08992b84row1_col0 {\n",
       "            background-color:  #e97a5f;\n",
       "        }    #T_391b25be_cc9d_11ec_98b0_f4ee08992b84row1_col1 {\n",
       "            background-color:  #b40426;\n",
       "        }    #T_391b25be_cc9d_11ec_98b0_f4ee08992b84row1_col2 {\n",
       "            background-color:  #a7c5fe;\n",
       "        }    #T_391b25be_cc9d_11ec_98b0_f4ee08992b84row1_col3 {\n",
       "            background-color:  #455cce;\n",
       "        }    #T_391b25be_cc9d_11ec_98b0_f4ee08992b84row1_col4 {\n",
       "            background-color:  #6b8df0;\n",
       "        }    #T_391b25be_cc9d_11ec_98b0_f4ee08992b84row1_col5 {\n",
       "            background-color:  #c5d6f2;\n",
       "        }    #T_391b25be_cc9d_11ec_98b0_f4ee08992b84row1_col6 {\n",
       "            background-color:  #799cf8;\n",
       "        }    #T_391b25be_cc9d_11ec_98b0_f4ee08992b84row1_col7 {\n",
       "            background-color:  #dfdbd9;\n",
       "        }    #T_391b25be_cc9d_11ec_98b0_f4ee08992b84row1_col8 {\n",
       "            background-color:  #88abfd;\n",
       "        }    #T_391b25be_cc9d_11ec_98b0_f4ee08992b84row1_col9 {\n",
       "            background-color:  #506bda;\n",
       "        }    #T_391b25be_cc9d_11ec_98b0_f4ee08992b84row1_col10 {\n",
       "            background-color:  #5977e3;\n",
       "        }    #T_391b25be_cc9d_11ec_98b0_f4ee08992b84row1_col11 {\n",
       "            background-color:  #4f69d9;\n",
       "        }    #T_391b25be_cc9d_11ec_98b0_f4ee08992b84row1_col12 {\n",
       "            background-color:  #4961d2;\n",
       "        }    #T_391b25be_cc9d_11ec_98b0_f4ee08992b84row1_col13 {\n",
       "            background-color:  #536edd;\n",
       "        }    #T_391b25be_cc9d_11ec_98b0_f4ee08992b84row1_col14 {\n",
       "            background-color:  #688aef;\n",
       "        }    #T_391b25be_cc9d_11ec_98b0_f4ee08992b84row1_col15 {\n",
       "            background-color:  #ebd3c6;\n",
       "        }    #T_391b25be_cc9d_11ec_98b0_f4ee08992b84row1_col16 {\n",
       "            background-color:  #5470de;\n",
       "        }    #T_391b25be_cc9d_11ec_98b0_f4ee08992b84row1_col17 {\n",
       "            background-color:  #3b4cc0;\n",
       "        }    #T_391b25be_cc9d_11ec_98b0_f4ee08992b84row1_col18 {\n",
       "            background-color:  #ccd9ed;\n",
       "        }    #T_391b25be_cc9d_11ec_98b0_f4ee08992b84row1_col19 {\n",
       "            background-color:  #f3c8b2;\n",
       "        }    #T_391b25be_cc9d_11ec_98b0_f4ee08992b84row1_col20 {\n",
       "            background-color:  #7ea1fa;\n",
       "        }    #T_391b25be_cc9d_11ec_98b0_f4ee08992b84row1_col21 {\n",
       "            background-color:  #5470de;\n",
       "        }    #T_391b25be_cc9d_11ec_98b0_f4ee08992b84row2_col0 {\n",
       "            background-color:  #ead5c9;\n",
       "        }    #T_391b25be_cc9d_11ec_98b0_f4ee08992b84row2_col1 {\n",
       "            background-color:  #3b4cc0;\n",
       "        }    #T_391b25be_cc9d_11ec_98b0_f4ee08992b84row2_col2 {\n",
       "            background-color:  #b40426;\n",
       "        }    #T_391b25be_cc9d_11ec_98b0_f4ee08992b84row2_col3 {\n",
       "            background-color:  #465ecf;\n",
       "        }    #T_391b25be_cc9d_11ec_98b0_f4ee08992b84row2_col4 {\n",
       "            background-color:  #516ddb;\n",
       "        }    #T_391b25be_cc9d_11ec_98b0_f4ee08992b84row2_col5 {\n",
       "            background-color:  #e1dad6;\n",
       "        }    #T_391b25be_cc9d_11ec_98b0_f4ee08992b84row2_col6 {\n",
       "            background-color:  #6384eb;\n",
       "        }    #T_391b25be_cc9d_11ec_98b0_f4ee08992b84row2_col7 {\n",
       "            background-color:  #c5d6f2;\n",
       "        }    #T_391b25be_cc9d_11ec_98b0_f4ee08992b84row2_col8 {\n",
       "            background-color:  #7da0f9;\n",
       "        }    #T_391b25be_cc9d_11ec_98b0_f4ee08992b84row2_col9 {\n",
       "            background-color:  #5572df;\n",
       "        }    #T_391b25be_cc9d_11ec_98b0_f4ee08992b84row2_col10 {\n",
       "            background-color:  #82a6fb;\n",
       "        }    #T_391b25be_cc9d_11ec_98b0_f4ee08992b84row2_col11 {\n",
       "            background-color:  #5b7ae5;\n",
       "        }    #T_391b25be_cc9d_11ec_98b0_f4ee08992b84row2_col12 {\n",
       "            background-color:  #6a8bef;\n",
       "        }    #T_391b25be_cc9d_11ec_98b0_f4ee08992b84row2_col13 {\n",
       "            background-color:  #6f92f3;\n",
       "        }    #T_391b25be_cc9d_11ec_98b0_f4ee08992b84row2_col14 {\n",
       "            background-color:  #4b64d5;\n",
       "        }    #T_391b25be_cc9d_11ec_98b0_f4ee08992b84row2_col15 {\n",
       "            background-color:  #d3dbe7;\n",
       "        }    #T_391b25be_cc9d_11ec_98b0_f4ee08992b84row2_col16 {\n",
       "            background-color:  #3c4ec2;\n",
       "        }    #T_391b25be_cc9d_11ec_98b0_f4ee08992b84row2_col17 {\n",
       "            background-color:  #3b4cc0;\n",
       "        }    #T_391b25be_cc9d_11ec_98b0_f4ee08992b84row2_col18 {\n",
       "            background-color:  #e6d7cf;\n",
       "        }    #T_391b25be_cc9d_11ec_98b0_f4ee08992b84row2_col19 {\n",
       "            background-color:  #3b4cc0;\n",
       "        }    #T_391b25be_cc9d_11ec_98b0_f4ee08992b84row2_col20 {\n",
       "            background-color:  #8db0fe;\n",
       "        }    #T_391b25be_cc9d_11ec_98b0_f4ee08992b84row2_col21 {\n",
       "            background-color:  #7597f6;\n",
       "        }    #T_391b25be_cc9d_11ec_98b0_f4ee08992b84row3_col0 {\n",
       "            background-color:  #9dbdff;\n",
       "        }    #T_391b25be_cc9d_11ec_98b0_f4ee08992b84row3_col1 {\n",
       "            background-color:  #89acfd;\n",
       "        }    #T_391b25be_cc9d_11ec_98b0_f4ee08992b84row3_col2 {\n",
       "            background-color:  #dadce0;\n",
       "        }    #T_391b25be_cc9d_11ec_98b0_f4ee08992b84row3_col3 {\n",
       "            background-color:  #b40426;\n",
       "        }    #T_391b25be_cc9d_11ec_98b0_f4ee08992b84row3_col4 {\n",
       "            background-color:  #5f7fe8;\n",
       "        }    #T_391b25be_cc9d_11ec_98b0_f4ee08992b84row3_col5 {\n",
       "            background-color:  #d3dbe7;\n",
       "        }    #T_391b25be_cc9d_11ec_98b0_f4ee08992b84row3_col6 {\n",
       "            background-color:  #6e90f2;\n",
       "        }    #T_391b25be_cc9d_11ec_98b0_f4ee08992b84row3_col7 {\n",
       "            background-color:  #d1dae9;\n",
       "        }    #T_391b25be_cc9d_11ec_98b0_f4ee08992b84row3_col8 {\n",
       "            background-color:  #7ea1fa;\n",
       "        }    #T_391b25be_cc9d_11ec_98b0_f4ee08992b84row3_col9 {\n",
       "            background-color:  #4e68d8;\n",
       "        }    #T_391b25be_cc9d_11ec_98b0_f4ee08992b84row3_col10 {\n",
       "            background-color:  #6687ed;\n",
       "        }    #T_391b25be_cc9d_11ec_98b0_f4ee08992b84row3_col11 {\n",
       "            background-color:  #506bda;\n",
       "        }    #T_391b25be_cc9d_11ec_98b0_f4ee08992b84row3_col12 {\n",
       "            background-color:  #506bda;\n",
       "        }    #T_391b25be_cc9d_11ec_98b0_f4ee08992b84row3_col13 {\n",
       "            background-color:  #5d7ce6;\n",
       "        }    #T_391b25be_cc9d_11ec_98b0_f4ee08992b84row3_col14 {\n",
       "            background-color:  #f3c7b1;\n",
       "        }    #T_391b25be_cc9d_11ec_98b0_f4ee08992b84row3_col15 {\n",
       "            background-color:  #dcdddd;\n",
       "        }    #T_391b25be_cc9d_11ec_98b0_f4ee08992b84row3_col16 {\n",
       "            background-color:  #3f53c6;\n",
       "        }    #T_391b25be_cc9d_11ec_98b0_f4ee08992b84row3_col17 {\n",
       "            background-color:  #3b4cc0;\n",
       "        }    #T_391b25be_cc9d_11ec_98b0_f4ee08992b84row3_col18 {\n",
       "            background-color:  #dddcdc;\n",
       "        }    #T_391b25be_cc9d_11ec_98b0_f4ee08992b84row3_col19 {\n",
       "            background-color:  #d6dce4;\n",
       "        }    #T_391b25be_cc9d_11ec_98b0_f4ee08992b84row3_col20 {\n",
       "            background-color:  #84a7fc;\n",
       "        }    #T_391b25be_cc9d_11ec_98b0_f4ee08992b84row3_col21 {\n",
       "            background-color:  #5e7de7;\n",
       "        }    #T_391b25be_cc9d_11ec_98b0_f4ee08992b84row4_col0 {\n",
       "            background-color:  #8db0fe;\n",
       "        }    #T_391b25be_cc9d_11ec_98b0_f4ee08992b84row4_col1 {\n",
       "            background-color:  #8badfd;\n",
       "        }    #T_391b25be_cc9d_11ec_98b0_f4ee08992b84row4_col2 {\n",
       "            background-color:  #ccd9ed;\n",
       "        }    #T_391b25be_cc9d_11ec_98b0_f4ee08992b84row4_col3 {\n",
       "            background-color:  #3b4cc0;\n",
       "        }    #T_391b25be_cc9d_11ec_98b0_f4ee08992b84row4_col4 {\n",
       "            background-color:  #b40426;\n",
       "        }    #T_391b25be_cc9d_11ec_98b0_f4ee08992b84row4_col5 {\n",
       "            background-color:  #c4d5f3;\n",
       "        }    #T_391b25be_cc9d_11ec_98b0_f4ee08992b84row4_col6 {\n",
       "            background-color:  #7396f5;\n",
       "        }    #T_391b25be_cc9d_11ec_98b0_f4ee08992b84row4_col7 {\n",
       "            background-color:  #dfdbd9;\n",
       "        }    #T_391b25be_cc9d_11ec_98b0_f4ee08992b84row4_col8 {\n",
       "            background-color:  #88abfd;\n",
       "        }    #T_391b25be_cc9d_11ec_98b0_f4ee08992b84row4_col9 {\n",
       "            background-color:  #516ddb;\n",
       "        }    #T_391b25be_cc9d_11ec_98b0_f4ee08992b84row4_col10 {\n",
       "            background-color:  #6485ec;\n",
       "        }    #T_391b25be_cc9d_11ec_98b0_f4ee08992b84row4_col11 {\n",
       "            background-color:  #5875e1;\n",
       "        }    #T_391b25be_cc9d_11ec_98b0_f4ee08992b84row4_col12 {\n",
       "            background-color:  #516ddb;\n",
       "        }    #T_391b25be_cc9d_11ec_98b0_f4ee08992b84row4_col13 {\n",
       "            background-color:  #5977e3;\n",
       "        }    #T_391b25be_cc9d_11ec_98b0_f4ee08992b84row4_col14 {\n",
       "            background-color:  #455cce;\n",
       "        }    #T_391b25be_cc9d_11ec_98b0_f4ee08992b84row4_col15 {\n",
       "            background-color:  #c5d6f2;\n",
       "        }    #T_391b25be_cc9d_11ec_98b0_f4ee08992b84row4_col16 {\n",
       "            background-color:  #3f53c6;\n",
       "        }    #T_391b25be_cc9d_11ec_98b0_f4ee08992b84row4_col17 {\n",
       "            background-color:  #3b4cc0;\n",
       "        }    #T_391b25be_cc9d_11ec_98b0_f4ee08992b84row4_col18 {\n",
       "            background-color:  #efcebd;\n",
       "        }    #T_391b25be_cc9d_11ec_98b0_f4ee08992b84row4_col19 {\n",
       "            background-color:  #e1dad6;\n",
       "        }    #T_391b25be_cc9d_11ec_98b0_f4ee08992b84row4_col20 {\n",
       "            background-color:  #88abfd;\n",
       "        }    #T_391b25be_cc9d_11ec_98b0_f4ee08992b84row4_col21 {\n",
       "            background-color:  #5f7fe8;\n",
       "        }    #T_391b25be_cc9d_11ec_98b0_f4ee08992b84row5_col0 {\n",
       "            background-color:  #94b6ff;\n",
       "        }    #T_391b25be_cc9d_11ec_98b0_f4ee08992b84row5_col1 {\n",
       "            background-color:  #6f92f3;\n",
       "        }    #T_391b25be_cc9d_11ec_98b0_f4ee08992b84row5_col2 {\n",
       "            background-color:  #e5d8d1;\n",
       "        }    #T_391b25be_cc9d_11ec_98b0_f4ee08992b84row5_col3 {\n",
       "            background-color:  #4257c9;\n",
       "        }    #T_391b25be_cc9d_11ec_98b0_f4ee08992b84row5_col4 {\n",
       "            background-color:  #4e68d8;\n",
       "        }    #T_391b25be_cc9d_11ec_98b0_f4ee08992b84row5_col5 {\n",
       "            background-color:  #b40426;\n",
       "        }    #T_391b25be_cc9d_11ec_98b0_f4ee08992b84row5_col6 {\n",
       "            background-color:  #3b4cc0;\n",
       "        }    #T_391b25be_cc9d_11ec_98b0_f4ee08992b84row5_col7 {\n",
       "            background-color:  #3b4cc0;\n",
       "        }    #T_391b25be_cc9d_11ec_98b0_f4ee08992b84row5_col8 {\n",
       "            background-color:  #3b4cc0;\n",
       "        }    #T_391b25be_cc9d_11ec_98b0_f4ee08992b84row5_col9 {\n",
       "            background-color:  #3b4cc0;\n",
       "        }    #T_391b25be_cc9d_11ec_98b0_f4ee08992b84row5_col10 {\n",
       "            background-color:  #7b9ff9;\n",
       "        }    #T_391b25be_cc9d_11ec_98b0_f4ee08992b84row5_col11 {\n",
       "            background-color:  #5673e0;\n",
       "        }    #T_391b25be_cc9d_11ec_98b0_f4ee08992b84row5_col12 {\n",
       "            background-color:  #5875e1;\n",
       "        }    #T_391b25be_cc9d_11ec_98b0_f4ee08992b84row5_col13 {\n",
       "            background-color:  #4358cb;\n",
       "        }    #T_391b25be_cc9d_11ec_98b0_f4ee08992b84row5_col14 {\n",
       "            background-color:  #6180e9;\n",
       "        }    #T_391b25be_cc9d_11ec_98b0_f4ee08992b84row5_col15 {\n",
       "            background-color:  #dbdcde;\n",
       "        }    #T_391b25be_cc9d_11ec_98b0_f4ee08992b84row5_col16 {\n",
       "            background-color:  #4055c8;\n",
       "        }    #T_391b25be_cc9d_11ec_98b0_f4ee08992b84row5_col17 {\n",
       "            background-color:  #3b4cc0;\n",
       "        }    #T_391b25be_cc9d_11ec_98b0_f4ee08992b84row5_col18 {\n",
       "            background-color:  #dedcdb;\n",
       "        }    #T_391b25be_cc9d_11ec_98b0_f4ee08992b84row5_col19 {\n",
       "            background-color:  #cdd9ec;\n",
       "        }    #T_391b25be_cc9d_11ec_98b0_f4ee08992b84row5_col20 {\n",
       "            background-color:  #8caffe;\n",
       "        }    #T_391b25be_cc9d_11ec_98b0_f4ee08992b84row5_col21 {\n",
       "            background-color:  #6f92f3;\n",
       "        }    #T_391b25be_cc9d_11ec_98b0_f4ee08992b84row6_col0 {\n",
       "            background-color:  #9dbdff;\n",
       "        }    #T_391b25be_cc9d_11ec_98b0_f4ee08992b84row6_col1 {\n",
       "            background-color:  #93b5fe;\n",
       "        }    #T_391b25be_cc9d_11ec_98b0_f4ee08992b84row6_col2 {\n",
       "            background-color:  #d4dbe6;\n",
       "        }    #T_391b25be_cc9d_11ec_98b0_f4ee08992b84row6_col3 {\n",
       "            background-color:  #445acc;\n",
       "        }    #T_391b25be_cc9d_11ec_98b0_f4ee08992b84row6_col4 {\n",
       "            background-color:  #6f92f3;\n",
       "        }    #T_391b25be_cc9d_11ec_98b0_f4ee08992b84row6_col5 {\n",
       "            background-color:  #b3cdfb;\n",
       "        }    #T_391b25be_cc9d_11ec_98b0_f4ee08992b84row6_col6 {\n",
       "            background-color:  #b40426;\n",
       "        }    #T_391b25be_cc9d_11ec_98b0_f4ee08992b84row6_col7 {\n",
       "            background-color:  #ead5c9;\n",
       "        }    #T_391b25be_cc9d_11ec_98b0_f4ee08992b84row6_col8 {\n",
       "            background-color:  #84a7fc;\n",
       "        }    #T_391b25be_cc9d_11ec_98b0_f4ee08992b84row6_col9 {\n",
       "            background-color:  #506bda;\n",
       "        }    #T_391b25be_cc9d_11ec_98b0_f4ee08992b84row6_col10 {\n",
       "            background-color:  #6e90f2;\n",
       "        }    #T_391b25be_cc9d_11ec_98b0_f4ee08992b84row6_col11 {\n",
       "            background-color:  #506bda;\n",
       "        }    #T_391b25be_cc9d_11ec_98b0_f4ee08992b84row6_col12 {\n",
       "            background-color:  #5673e0;\n",
       "        }    #T_391b25be_cc9d_11ec_98b0_f4ee08992b84row6_col13 {\n",
       "            background-color:  #5470de;\n",
       "        }    #T_391b25be_cc9d_11ec_98b0_f4ee08992b84row6_col14 {\n",
       "            background-color:  #4a63d3;\n",
       "        }    #T_391b25be_cc9d_11ec_98b0_f4ee08992b84row6_col15 {\n",
       "            background-color:  #dcdddd;\n",
       "        }    #T_391b25be_cc9d_11ec_98b0_f4ee08992b84row6_col16 {\n",
       "            background-color:  #3f53c6;\n",
       "        }    #T_391b25be_cc9d_11ec_98b0_f4ee08992b84row6_col17 {\n",
       "            background-color:  #3b4cc0;\n",
       "        }    #T_391b25be_cc9d_11ec_98b0_f4ee08992b84row6_col18 {\n",
       "            background-color:  #dddcdc;\n",
       "        }    #T_391b25be_cc9d_11ec_98b0_f4ee08992b84row6_col19 {\n",
       "            background-color:  #dcdddd;\n",
       "        }    #T_391b25be_cc9d_11ec_98b0_f4ee08992b84row6_col20 {\n",
       "            background-color:  #86a9fc;\n",
       "        }    #T_391b25be_cc9d_11ec_98b0_f4ee08992b84row6_col21 {\n",
       "            background-color:  #6687ed;\n",
       "        }    #T_391b25be_cc9d_11ec_98b0_f4ee08992b84row7_col0 {\n",
       "            background-color:  #9ebeff;\n",
       "        }    #T_391b25be_cc9d_11ec_98b0_f4ee08992b84row7_col1 {\n",
       "            background-color:  #9ebeff;\n",
       "        }    #T_391b25be_cc9d_11ec_98b0_f4ee08992b84row7_col2 {\n",
       "            background-color:  #cbd8ee;\n",
       "        }    #T_391b25be_cc9d_11ec_98b0_f4ee08992b84row7_col3 {\n",
       "            background-color:  #3e51c5;\n",
       "        }    #T_391b25be_cc9d_11ec_98b0_f4ee08992b84row7_col4 {\n",
       "            background-color:  #81a4fb;\n",
       "        }    #T_391b25be_cc9d_11ec_98b0_f4ee08992b84row7_col5 {\n",
       "            background-color:  #3b4cc0;\n",
       "        }    #T_391b25be_cc9d_11ec_98b0_f4ee08992b84row7_col6 {\n",
       "            background-color:  #9ebeff;\n",
       "        }    #T_391b25be_cc9d_11ec_98b0_f4ee08992b84row7_col7 {\n",
       "            background-color:  #b40426;\n",
       "        }    #T_391b25be_cc9d_11ec_98b0_f4ee08992b84row7_col8 {\n",
       "            background-color:  #7597f6;\n",
       "        }    #T_391b25be_cc9d_11ec_98b0_f4ee08992b84row7_col9 {\n",
       "            background-color:  #4c66d6;\n",
       "        }    #T_391b25be_cc9d_11ec_98b0_f4ee08992b84row7_col10 {\n",
       "            background-color:  #5470de;\n",
       "        }    #T_391b25be_cc9d_11ec_98b0_f4ee08992b84row7_col11 {\n",
       "            background-color:  #4a63d3;\n",
       "        }    #T_391b25be_cc9d_11ec_98b0_f4ee08992b84row7_col12 {\n",
       "            background-color:  #4a63d3;\n",
       "        }    #T_391b25be_cc9d_11ec_98b0_f4ee08992b84row7_col13 {\n",
       "            background-color:  #5f7fe8;\n",
       "        }    #T_391b25be_cc9d_11ec_98b0_f4ee08992b84row7_col14 {\n",
       "            background-color:  #3b4cc0;\n",
       "        }    #T_391b25be_cc9d_11ec_98b0_f4ee08992b84row7_col15 {\n",
       "            background-color:  #dedcdb;\n",
       "        }    #T_391b25be_cc9d_11ec_98b0_f4ee08992b84row7_col16 {\n",
       "            background-color:  #4257c9;\n",
       "        }    #T_391b25be_cc9d_11ec_98b0_f4ee08992b84row7_col17 {\n",
       "            background-color:  #3b4cc0;\n",
       "        }    #T_391b25be_cc9d_11ec_98b0_f4ee08992b84row7_col18 {\n",
       "            background-color:  #dbdcde;\n",
       "        }    #T_391b25be_cc9d_11ec_98b0_f4ee08992b84row7_col19 {\n",
       "            background-color:  #e1dad6;\n",
       "        }    #T_391b25be_cc9d_11ec_98b0_f4ee08992b84row7_col20 {\n",
       "            background-color:  #779af7;\n",
       "        }    #T_391b25be_cc9d_11ec_98b0_f4ee08992b84row7_col21 {\n",
       "            background-color:  #4f69d9;\n",
       "        }    #T_391b25be_cc9d_11ec_98b0_f4ee08992b84row8_col0 {\n",
       "            background-color:  #98b9ff;\n",
       "        }    #T_391b25be_cc9d_11ec_98b0_f4ee08992b84row8_col1 {\n",
       "            background-color:  #8badfd;\n",
       "        }    #T_391b25be_cc9d_11ec_98b0_f4ee08992b84row8_col2 {\n",
       "            background-color:  #d5dbe5;\n",
       "        }    #T_391b25be_cc9d_11ec_98b0_f4ee08992b84row8_col3 {\n",
       "            background-color:  #3d50c3;\n",
       "        }    #T_391b25be_cc9d_11ec_98b0_f4ee08992b84row8_col4 {\n",
       "            background-color:  #6b8df0;\n",
       "        }    #T_391b25be_cc9d_11ec_98b0_f4ee08992b84row8_col5 {\n",
       "            background-color:  #a2c1ff;\n",
       "        }    #T_391b25be_cc9d_11ec_98b0_f4ee08992b84row8_col6 {\n",
       "            background-color:  #6c8ff1;\n",
       "        }    #T_391b25be_cc9d_11ec_98b0_f4ee08992b84row8_col7 {\n",
       "            background-color:  #cbd8ee;\n",
       "        }    #T_391b25be_cc9d_11ec_98b0_f4ee08992b84row8_col8 {\n",
       "            background-color:  #b40426;\n",
       "        }    #T_391b25be_cc9d_11ec_98b0_f4ee08992b84row8_col9 {\n",
       "            background-color:  #4f69d9;\n",
       "        }    #T_391b25be_cc9d_11ec_98b0_f4ee08992b84row8_col10 {\n",
       "            background-color:  #688aef;\n",
       "        }    #T_391b25be_cc9d_11ec_98b0_f4ee08992b84row8_col11 {\n",
       "            background-color:  #506bda;\n",
       "        }    #T_391b25be_cc9d_11ec_98b0_f4ee08992b84row8_col12 {\n",
       "            background-color:  #485fd1;\n",
       "        }    #T_391b25be_cc9d_11ec_98b0_f4ee08992b84row8_col13 {\n",
       "            background-color:  #536edd;\n",
       "        }    #T_391b25be_cc9d_11ec_98b0_f4ee08992b84row8_col14 {\n",
       "            background-color:  #4961d2;\n",
       "        }    #T_391b25be_cc9d_11ec_98b0_f4ee08992b84row8_col15 {\n",
       "            background-color:  #dddcdc;\n",
       "        }    #T_391b25be_cc9d_11ec_98b0_f4ee08992b84row8_col16 {\n",
       "            background-color:  #3d50c3;\n",
       "        }    #T_391b25be_cc9d_11ec_98b0_f4ee08992b84row8_col17 {\n",
       "            background-color:  #3b4cc0;\n",
       "        }    #T_391b25be_cc9d_11ec_98b0_f4ee08992b84row8_col18 {\n",
       "            background-color:  #dcdddd;\n",
       "        }    #T_391b25be_cc9d_11ec_98b0_f4ee08992b84row8_col19 {\n",
       "            background-color:  #dbdcde;\n",
       "        }    #T_391b25be_cc9d_11ec_98b0_f4ee08992b84row8_col20 {\n",
       "            background-color:  #89acfd;\n",
       "        }    #T_391b25be_cc9d_11ec_98b0_f4ee08992b84row8_col21 {\n",
       "            background-color:  #6180e9;\n",
       "        }    #T_391b25be_cc9d_11ec_98b0_f4ee08992b84row9_col0 {\n",
       "            background-color:  #9abbff;\n",
       "        }    #T_391b25be_cc9d_11ec_98b0_f4ee08992b84row9_col1 {\n",
       "            background-color:  #85a8fc;\n",
       "        }    #T_391b25be_cc9d_11ec_98b0_f4ee08992b84row9_col2 {\n",
       "            background-color:  #d9dce1;\n",
       "        }    #T_391b25be_cc9d_11ec_98b0_f4ee08992b84row9_col3 {\n",
       "            background-color:  #3e51c5;\n",
       "        }    #T_391b25be_cc9d_11ec_98b0_f4ee08992b84row9_col4 {\n",
       "            background-color:  #6788ee;\n",
       "        }    #T_391b25be_cc9d_11ec_98b0_f4ee08992b84row9_col5 {\n",
       "            background-color:  #c6d6f1;\n",
       "        }    #T_391b25be_cc9d_11ec_98b0_f4ee08992b84row9_col6 {\n",
       "            background-color:  #6c8ff1;\n",
       "        }    #T_391b25be_cc9d_11ec_98b0_f4ee08992b84row9_col7 {\n",
       "            background-color:  #d1dae9;\n",
       "        }    #T_391b25be_cc9d_11ec_98b0_f4ee08992b84row9_col8 {\n",
       "            background-color:  #81a4fb;\n",
       "        }    #T_391b25be_cc9d_11ec_98b0_f4ee08992b84row9_col9 {\n",
       "            background-color:  #b40426;\n",
       "        }    #T_391b25be_cc9d_11ec_98b0_f4ee08992b84row9_col10 {\n",
       "            background-color:  #6c8ff1;\n",
       "        }    #T_391b25be_cc9d_11ec_98b0_f4ee08992b84row9_col11 {\n",
       "            background-color:  #4f69d9;\n",
       "        }    #T_391b25be_cc9d_11ec_98b0_f4ee08992b84row9_col12 {\n",
       "            background-color:  #4b64d5;\n",
       "        }    #T_391b25be_cc9d_11ec_98b0_f4ee08992b84row9_col13 {\n",
       "            background-color:  #4f69d9;\n",
       "        }    #T_391b25be_cc9d_11ec_98b0_f4ee08992b84row9_col14 {\n",
       "            background-color:  #4b64d5;\n",
       "        }    #T_391b25be_cc9d_11ec_98b0_f4ee08992b84row9_col15 {\n",
       "            background-color:  #dedcdb;\n",
       "        }    #T_391b25be_cc9d_11ec_98b0_f4ee08992b84row9_col16 {\n",
       "            background-color:  #3e51c5;\n",
       "        }    #T_391b25be_cc9d_11ec_98b0_f4ee08992b84row9_col17 {\n",
       "            background-color:  #3b4cc0;\n",
       "        }    #T_391b25be_cc9d_11ec_98b0_f4ee08992b84row9_col18 {\n",
       "            background-color:  #dbdcde;\n",
       "        }    #T_391b25be_cc9d_11ec_98b0_f4ee08992b84row9_col19 {\n",
       "            background-color:  #d7dce3;\n",
       "        }    #T_391b25be_cc9d_11ec_98b0_f4ee08992b84row9_col20 {\n",
       "            background-color:  #8badfd;\n",
       "        }    #T_391b25be_cc9d_11ec_98b0_f4ee08992b84row9_col21 {\n",
       "            background-color:  #6485ec;\n",
       "        }    #T_391b25be_cc9d_11ec_98b0_f4ee08992b84row10_col0 {\n",
       "            background-color:  #9bbcff;\n",
       "        }    #T_391b25be_cc9d_11ec_98b0_f4ee08992b84row10_col1 {\n",
       "            background-color:  #799cf8;\n",
       "        }    #T_391b25be_cc9d_11ec_98b0_f4ee08992b84row10_col2 {\n",
       "            background-color:  #e4d9d2;\n",
       "        }    #T_391b25be_cc9d_11ec_98b0_f4ee08992b84row10_col3 {\n",
       "            background-color:  #4055c8;\n",
       "        }    #T_391b25be_cc9d_11ec_98b0_f4ee08992b84row10_col4 {\n",
       "            background-color:  #6485ec;\n",
       "        }    #T_391b25be_cc9d_11ec_98b0_f4ee08992b84row10_col5 {\n",
       "            background-color:  #dcdddd;\n",
       "        }    #T_391b25be_cc9d_11ec_98b0_f4ee08992b84row10_col6 {\n",
       "            background-color:  #7396f5;\n",
       "        }    #T_391b25be_cc9d_11ec_98b0_f4ee08992b84row10_col7 {\n",
       "            background-color:  #c7d7f0;\n",
       "        }    #T_391b25be_cc9d_11ec_98b0_f4ee08992b84row10_col8 {\n",
       "            background-color:  #84a7fc;\n",
       "        }    #T_391b25be_cc9d_11ec_98b0_f4ee08992b84row10_col9 {\n",
       "            background-color:  #5673e0;\n",
       "        }    #T_391b25be_cc9d_11ec_98b0_f4ee08992b84row10_col10 {\n",
       "            background-color:  #b40426;\n",
       "        }    #T_391b25be_cc9d_11ec_98b0_f4ee08992b84row10_col11 {\n",
       "            background-color:  #82a6fb;\n",
       "        }    #T_391b25be_cc9d_11ec_98b0_f4ee08992b84row10_col12 {\n",
       "            background-color:  #7da0f9;\n",
       "        }    #T_391b25be_cc9d_11ec_98b0_f4ee08992b84row10_col13 {\n",
       "            background-color:  #4055c8;\n",
       "        }    #T_391b25be_cc9d_11ec_98b0_f4ee08992b84row10_col14 {\n",
       "            background-color:  #4961d2;\n",
       "        }    #T_391b25be_cc9d_11ec_98b0_f4ee08992b84row10_col15 {\n",
       "            background-color:  #c5d6f2;\n",
       "        }    #T_391b25be_cc9d_11ec_98b0_f4ee08992b84row10_col16 {\n",
       "            background-color:  #3f53c6;\n",
       "        }    #T_391b25be_cc9d_11ec_98b0_f4ee08992b84row10_col17 {\n",
       "            background-color:  #3b4cc0;\n",
       "        }    #T_391b25be_cc9d_11ec_98b0_f4ee08992b84row10_col18 {\n",
       "            background-color:  #efcebd;\n",
       "        }    #T_391b25be_cc9d_11ec_98b0_f4ee08992b84row10_col19 {\n",
       "            background-color:  #cdd9ec;\n",
       "        }    #T_391b25be_cc9d_11ec_98b0_f4ee08992b84row10_col20 {\n",
       "            background-color:  #e6d7cf;\n",
       "        }    #T_391b25be_cc9d_11ec_98b0_f4ee08992b84row10_col21 {\n",
       "            background-color:  #f7ad90;\n",
       "        }    #T_391b25be_cc9d_11ec_98b0_f4ee08992b84row11_col0 {\n",
       "            background-color:  #9ebeff;\n",
       "        }    #T_391b25be_cc9d_11ec_98b0_f4ee08992b84row11_col1 {\n",
       "            background-color:  #86a9fc;\n",
       "        }    #T_391b25be_cc9d_11ec_98b0_f4ee08992b84row11_col2 {\n",
       "            background-color:  #dddcdc;\n",
       "        }    #T_391b25be_cc9d_11ec_98b0_f4ee08992b84row11_col3 {\n",
       "            background-color:  #4257c9;\n",
       "        }    #T_391b25be_cc9d_11ec_98b0_f4ee08992b84row11_col4 {\n",
       "            background-color:  #6e90f2;\n",
       "        }    #T_391b25be_cc9d_11ec_98b0_f4ee08992b84row11_col5 {\n",
       "            background-color:  #d6dce4;\n",
       "        }    #T_391b25be_cc9d_11ec_98b0_f4ee08992b84row11_col6 {\n",
       "            background-color:  #6c8ff1;\n",
       "        }    #T_391b25be_cc9d_11ec_98b0_f4ee08992b84row11_col7 {\n",
       "            background-color:  #cfdaea;\n",
       "        }    #T_391b25be_cc9d_11ec_98b0_f4ee08992b84row11_col8 {\n",
       "            background-color:  #84a7fc;\n",
       "        }    #T_391b25be_cc9d_11ec_98b0_f4ee08992b84row11_col9 {\n",
       "            background-color:  #506bda;\n",
       "        }    #T_391b25be_cc9d_11ec_98b0_f4ee08992b84row11_col10 {\n",
       "            background-color:  #98b9ff;\n",
       "        }    #T_391b25be_cc9d_11ec_98b0_f4ee08992b84row11_col11 {\n",
       "            background-color:  #b40426;\n",
       "        }    #T_391b25be_cc9d_11ec_98b0_f4ee08992b84row11_col12 {\n",
       "            background-color:  #6282ea;\n",
       "        }    #T_391b25be_cc9d_11ec_98b0_f4ee08992b84row11_col13 {\n",
       "            background-color:  #5b7ae5;\n",
       "        }    #T_391b25be_cc9d_11ec_98b0_f4ee08992b84row11_col14 {\n",
       "            background-color:  #536edd;\n",
       "        }    #T_391b25be_cc9d_11ec_98b0_f4ee08992b84row11_col15 {\n",
       "            background-color:  #d3dbe7;\n",
       "        }    #T_391b25be_cc9d_11ec_98b0_f4ee08992b84row11_col16 {\n",
       "            background-color:  #4257c9;\n",
       "        }    #T_391b25be_cc9d_11ec_98b0_f4ee08992b84row11_col17 {\n",
       "            background-color:  #3b4cc0;\n",
       "        }    #T_391b25be_cc9d_11ec_98b0_f4ee08992b84row11_col18 {\n",
       "            background-color:  #e6d7cf;\n",
       "        }    #T_391b25be_cc9d_11ec_98b0_f4ee08992b84row11_col19 {\n",
       "            background-color:  #d3dbe7;\n",
       "        }    #T_391b25be_cc9d_11ec_98b0_f4ee08992b84row11_col20 {\n",
       "            background-color:  #c7d7f0;\n",
       "        }    #T_391b25be_cc9d_11ec_98b0_f4ee08992b84row11_col21 {\n",
       "            background-color:  #a1c0ff;\n",
       "        }    #T_391b25be_cc9d_11ec_98b0_f4ee08992b84row12_col0 {\n",
       "            background-color:  #a2c1ff;\n",
       "        }    #T_391b25be_cc9d_11ec_98b0_f4ee08992b84row12_col1 {\n",
       "            background-color:  #82a6fb;\n",
       "        }    #T_391b25be_cc9d_11ec_98b0_f4ee08992b84row12_col2 {\n",
       "            background-color:  #e4d9d2;\n",
       "        }    #T_391b25be_cc9d_11ec_98b0_f4ee08992b84row12_col3 {\n",
       "            background-color:  #4358cb;\n",
       "        }    #T_391b25be_cc9d_11ec_98b0_f4ee08992b84row12_col4 {\n",
       "            background-color:  #6a8bef;\n",
       "        }    #T_391b25be_cc9d_11ec_98b0_f4ee08992b84row12_col5 {\n",
       "            background-color:  #d7dce3;\n",
       "        }    #T_391b25be_cc9d_11ec_98b0_f4ee08992b84row12_col6 {\n",
       "            background-color:  #7396f5;\n",
       "        }    #T_391b25be_cc9d_11ec_98b0_f4ee08992b84row12_col7 {\n",
       "            background-color:  #d1dae9;\n",
       "        }    #T_391b25be_cc9d_11ec_98b0_f4ee08992b84row12_col8 {\n",
       "            background-color:  #7b9ff9;\n",
       "        }    #T_391b25be_cc9d_11ec_98b0_f4ee08992b84row12_col9 {\n",
       "            background-color:  #4e68d8;\n",
       "        }    #T_391b25be_cc9d_11ec_98b0_f4ee08992b84row12_col10 {\n",
       "            background-color:  #93b5fe;\n",
       "        }    #T_391b25be_cc9d_11ec_98b0_f4ee08992b84row12_col11 {\n",
       "            background-color:  #6384eb;\n",
       "        }    #T_391b25be_cc9d_11ec_98b0_f4ee08992b84row12_col12 {\n",
       "            background-color:  #b40426;\n",
       "        }    #T_391b25be_cc9d_11ec_98b0_f4ee08992b84row12_col13 {\n",
       "            background-color:  #5e7de7;\n",
       "        }    #T_391b25be_cc9d_11ec_98b0_f4ee08992b84row12_col14 {\n",
       "            background-color:  #4c66d6;\n",
       "        }    #T_391b25be_cc9d_11ec_98b0_f4ee08992b84row12_col15 {\n",
       "            background-color:  #dbdcde;\n",
       "        }    #T_391b25be_cc9d_11ec_98b0_f4ee08992b84row12_col16 {\n",
       "            background-color:  #445acc;\n",
       "        }    #T_391b25be_cc9d_11ec_98b0_f4ee08992b84row12_col17 {\n",
       "            background-color:  #3b4cc0;\n",
       "        }    #T_391b25be_cc9d_11ec_98b0_f4ee08992b84row12_col18 {\n",
       "            background-color:  #dedcdb;\n",
       "        }    #T_391b25be_cc9d_11ec_98b0_f4ee08992b84row12_col19 {\n",
       "            background-color:  #cdd9ec;\n",
       "        }    #T_391b25be_cc9d_11ec_98b0_f4ee08992b84row12_col20 {\n",
       "            background-color:  #92b4fe;\n",
       "        }    #T_391b25be_cc9d_11ec_98b0_f4ee08992b84row12_col21 {\n",
       "            background-color:  #7b9ff9;\n",
       "        }    #T_391b25be_cc9d_11ec_98b0_f4ee08992b84row13_col0 {\n",
       "            background-color:  #a9c6fd;\n",
       "        }    #T_391b25be_cc9d_11ec_98b0_f4ee08992b84row13_col1 {\n",
       "            background-color:  #88abfd;\n",
       "        }    #T_391b25be_cc9d_11ec_98b0_f4ee08992b84row13_col2 {\n",
       "            background-color:  #e5d8d1;\n",
       "        }    #T_391b25be_cc9d_11ec_98b0_f4ee08992b84row13_col3 {\n",
       "            background-color:  #4e68d8;\n",
       "        }    #T_391b25be_cc9d_11ec_98b0_f4ee08992b84row13_col4 {\n",
       "            background-color:  #6e90f2;\n",
       "        }    #T_391b25be_cc9d_11ec_98b0_f4ee08992b84row13_col5 {\n",
       "            background-color:  #cbd8ee;\n",
       "        }    #T_391b25be_cc9d_11ec_98b0_f4ee08992b84row13_col6 {\n",
       "            background-color:  #6f92f3;\n",
       "        }    #T_391b25be_cc9d_11ec_98b0_f4ee08992b84row13_col7 {\n",
       "            background-color:  #d9dce1;\n",
       "        }    #T_391b25be_cc9d_11ec_98b0_f4ee08992b84row13_col8 {\n",
       "            background-color:  #84a7fc;\n",
       "        }    #T_391b25be_cc9d_11ec_98b0_f4ee08992b84row13_col9 {\n",
       "            background-color:  #4f69d9;\n",
       "        }    #T_391b25be_cc9d_11ec_98b0_f4ee08992b84row13_col10 {\n",
       "            background-color:  #5673e0;\n",
       "        }    #T_391b25be_cc9d_11ec_98b0_f4ee08992b84row13_col11 {\n",
       "            background-color:  #5a78e4;\n",
       "        }    #T_391b25be_cc9d_11ec_98b0_f4ee08992b84row13_col12 {\n",
       "            background-color:  #5b7ae5;\n",
       "        }    #T_391b25be_cc9d_11ec_98b0_f4ee08992b84row13_col13 {\n",
       "            background-color:  #b40426;\n",
       "        }    #T_391b25be_cc9d_11ec_98b0_f4ee08992b84row13_col14 {\n",
       "            background-color:  #536edd;\n",
       "        }    #T_391b25be_cc9d_11ec_98b0_f4ee08992b84row13_col15 {\n",
       "            background-color:  #e1dad6;\n",
       "        }    #T_391b25be_cc9d_11ec_98b0_f4ee08992b84row13_col16 {\n",
       "            background-color:  #445acc;\n",
       "        }    #T_391b25be_cc9d_11ec_98b0_f4ee08992b84row13_col17 {\n",
       "            background-color:  #3b4cc0;\n",
       "        }    #T_391b25be_cc9d_11ec_98b0_f4ee08992b84row13_col18 {\n",
       "            background-color:  #d8dce2;\n",
       "        }    #T_391b25be_cc9d_11ec_98b0_f4ee08992b84row13_col19 {\n",
       "            background-color:  #ccd9ed;\n",
       "        }    #T_391b25be_cc9d_11ec_98b0_f4ee08992b84row13_col20 {\n",
       "            background-color:  #779af7;\n",
       "        }    #T_391b25be_cc9d_11ec_98b0_f4ee08992b84row13_col21 {\n",
       "            background-color:  #5673e0;\n",
       "        }    #T_391b25be_cc9d_11ec_98b0_f4ee08992b84row14_col0 {\n",
       "            background-color:  #adc9fd;\n",
       "        }    #T_391b25be_cc9d_11ec_98b0_f4ee08992b84row14_col1 {\n",
       "            background-color:  #9ebeff;\n",
       "        }    #T_391b25be_cc9d_11ec_98b0_f4ee08992b84row14_col2 {\n",
       "            background-color:  #d7dce3;\n",
       "        }    #T_391b25be_cc9d_11ec_98b0_f4ee08992b84row14_col3 {\n",
       "            background-color:  #f2cbb7;\n",
       "        }    #T_391b25be_cc9d_11ec_98b0_f4ee08992b84row14_col4 {\n",
       "            background-color:  #5e7de7;\n",
       "        }    #T_391b25be_cc9d_11ec_98b0_f4ee08992b84row14_col5 {\n",
       "            background-color:  #dcdddd;\n",
       "        }    #T_391b25be_cc9d_11ec_98b0_f4ee08992b84row14_col6 {\n",
       "            background-color:  #688aef;\n",
       "        }    #T_391b25be_cc9d_11ec_98b0_f4ee08992b84row14_col7 {\n",
       "            background-color:  #c9d7f0;\n",
       "        }    #T_391b25be_cc9d_11ec_98b0_f4ee08992b84row14_col8 {\n",
       "            background-color:  #7ea1fa;\n",
       "        }    #T_391b25be_cc9d_11ec_98b0_f4ee08992b84row14_col9 {\n",
       "            background-color:  #4f69d9;\n",
       "        }    #T_391b25be_cc9d_11ec_98b0_f4ee08992b84row14_col10 {\n",
       "            background-color:  #6384eb;\n",
       "        }    #T_391b25be_cc9d_11ec_98b0_f4ee08992b84row14_col11 {\n",
       "            background-color:  #5572df;\n",
       "        }    #T_391b25be_cc9d_11ec_98b0_f4ee08992b84row14_col12 {\n",
       "            background-color:  #4e68d8;\n",
       "        }    #T_391b25be_cc9d_11ec_98b0_f4ee08992b84row14_col13 {\n",
       "            background-color:  #5673e0;\n",
       "        }    #T_391b25be_cc9d_11ec_98b0_f4ee08992b84row14_col14 {\n",
       "            background-color:  #b40426;\n",
       "        }    #T_391b25be_cc9d_11ec_98b0_f4ee08992b84row14_col15 {\n",
       "            background-color:  #e0dbd8;\n",
       "        }    #T_391b25be_cc9d_11ec_98b0_f4ee08992b84row14_col16 {\n",
       "            background-color:  #3c4ec2;\n",
       "        }    #T_391b25be_cc9d_11ec_98b0_f4ee08992b84row14_col17 {\n",
       "            background-color:  #3b4cc0;\n",
       "        }    #T_391b25be_cc9d_11ec_98b0_f4ee08992b84row14_col18 {\n",
       "            background-color:  #d9dce1;\n",
       "        }    #T_391b25be_cc9d_11ec_98b0_f4ee08992b84row14_col19 {\n",
       "            background-color:  #d9dce1;\n",
       "        }    #T_391b25be_cc9d_11ec_98b0_f4ee08992b84row14_col20 {\n",
       "            background-color:  #86a9fc;\n",
       "        }    #T_391b25be_cc9d_11ec_98b0_f4ee08992b84row14_col21 {\n",
       "            background-color:  #5d7ce6;\n",
       "        }    #T_391b25be_cc9d_11ec_98b0_f4ee08992b84row15_col0 {\n",
       "            background-color:  #aac7fd;\n",
       "        }    #T_391b25be_cc9d_11ec_98b0_f4ee08992b84row15_col1 {\n",
       "            background-color:  #a9c6fd;\n",
       "        }    #T_391b25be_cc9d_11ec_98b0_f4ee08992b84row15_col2 {\n",
       "            background-color:  #cdd9ec;\n",
       "        }    #T_391b25be_cc9d_11ec_98b0_f4ee08992b84row15_col3 {\n",
       "            background-color:  #4257c9;\n",
       "        }    #T_391b25be_cc9d_11ec_98b0_f4ee08992b84row15_col4 {\n",
       "            background-color:  #3b4cc0;\n",
       "        }    #T_391b25be_cc9d_11ec_98b0_f4ee08992b84row15_col5 {\n",
       "            background-color:  #d2dbe8;\n",
       "        }    #T_391b25be_cc9d_11ec_98b0_f4ee08992b84row15_col6 {\n",
       "            background-color:  #6c8ff1;\n",
       "        }    #T_391b25be_cc9d_11ec_98b0_f4ee08992b84row15_col7 {\n",
       "            background-color:  #d4dbe6;\n",
       "        }    #T_391b25be_cc9d_11ec_98b0_f4ee08992b84row15_col8 {\n",
       "            background-color:  #84a7fc;\n",
       "        }    #T_391b25be_cc9d_11ec_98b0_f4ee08992b84row15_col9 {\n",
       "            background-color:  #5470de;\n",
       "        }    #T_391b25be_cc9d_11ec_98b0_f4ee08992b84row15_col10 {\n",
       "            background-color:  #3b4cc0;\n",
       "        }    #T_391b25be_cc9d_11ec_98b0_f4ee08992b84row15_col11 {\n",
       "            background-color:  #3b4cc0;\n",
       "        }    #T_391b25be_cc9d_11ec_98b0_f4ee08992b84row15_col12 {\n",
       "            background-color:  #4b64d5;\n",
       "        }    #T_391b25be_cc9d_11ec_98b0_f4ee08992b84row15_col13 {\n",
       "            background-color:  #5d7ce6;\n",
       "        }    #T_391b25be_cc9d_11ec_98b0_f4ee08992b84row15_col14 {\n",
       "            background-color:  #5673e0;\n",
       "        }    #T_391b25be_cc9d_11ec_98b0_f4ee08992b84row15_col15 {\n",
       "            background-color:  #b40426;\n",
       "        }    #T_391b25be_cc9d_11ec_98b0_f4ee08992b84row15_col16 {\n",
       "            background-color:  #3f53c6;\n",
       "        }    #T_391b25be_cc9d_11ec_98b0_f4ee08992b84row15_col17 {\n",
       "            background-color:  #3b4cc0;\n",
       "        }    #T_391b25be_cc9d_11ec_98b0_f4ee08992b84row15_col18 {\n",
       "            background-color:  #3b4cc0;\n",
       "        }    #T_391b25be_cc9d_11ec_98b0_f4ee08992b84row15_col19 {\n",
       "            background-color:  #e0dbd8;\n",
       "        }    #T_391b25be_cc9d_11ec_98b0_f4ee08992b84row15_col20 {\n",
       "            background-color:  #3b4cc0;\n",
       "        }    #T_391b25be_cc9d_11ec_98b0_f4ee08992b84row15_col21 {\n",
       "            background-color:  #3b4cc0;\n",
       "        }    #T_391b25be_cc9d_11ec_98b0_f4ee08992b84row16_col0 {\n",
       "            background-color:  #a9c6fd;\n",
       "        }    #T_391b25be_cc9d_11ec_98b0_f4ee08992b84row16_col1 {\n",
       "            background-color:  #98b9ff;\n",
       "        }    #T_391b25be_cc9d_11ec_98b0_f4ee08992b84row16_col2 {\n",
       "            background-color:  #d6dce4;\n",
       "        }    #T_391b25be_cc9d_11ec_98b0_f4ee08992b84row16_col3 {\n",
       "            background-color:  #4257c9;\n",
       "        }    #T_391b25be_cc9d_11ec_98b0_f4ee08992b84row16_col4 {\n",
       "            background-color:  #6687ed;\n",
       "        }    #T_391b25be_cc9d_11ec_98b0_f4ee08992b84row16_col5 {\n",
       "            background-color:  #d3dbe7;\n",
       "        }    #T_391b25be_cc9d_11ec_98b0_f4ee08992b84row16_col6 {\n",
       "            background-color:  #6b8df0;\n",
       "        }    #T_391b25be_cc9d_11ec_98b0_f4ee08992b84row16_col7 {\n",
       "            background-color:  #d3dbe7;\n",
       "        }    #T_391b25be_cc9d_11ec_98b0_f4ee08992b84row16_col8 {\n",
       "            background-color:  #80a3fa;\n",
       "        }    #T_391b25be_cc9d_11ec_98b0_f4ee08992b84row16_col9 {\n",
       "            background-color:  #4f69d9;\n",
       "        }    #T_391b25be_cc9d_11ec_98b0_f4ee08992b84row16_col10 {\n",
       "            background-color:  #6687ed;\n",
       "        }    #T_391b25be_cc9d_11ec_98b0_f4ee08992b84row16_col11 {\n",
       "            background-color:  #506bda;\n",
       "        }    #T_391b25be_cc9d_11ec_98b0_f4ee08992b84row16_col12 {\n",
       "            background-color:  #536edd;\n",
       "        }    #T_391b25be_cc9d_11ec_98b0_f4ee08992b84row16_col13 {\n",
       "            background-color:  #5572df;\n",
       "        }    #T_391b25be_cc9d_11ec_98b0_f4ee08992b84row16_col14 {\n",
       "            background-color:  #4961d2;\n",
       "        }    #T_391b25be_cc9d_11ec_98b0_f4ee08992b84row16_col15 {\n",
       "            background-color:  #dcdddd;\n",
       "        }    #T_391b25be_cc9d_11ec_98b0_f4ee08992b84row16_col16 {\n",
       "            background-color:  #b40426;\n",
       "        }    #T_391b25be_cc9d_11ec_98b0_f4ee08992b84row16_col17 {\n",
       "            background-color:  #3b4cc0;\n",
       "        }    #T_391b25be_cc9d_11ec_98b0_f4ee08992b84row16_col18 {\n",
       "            background-color:  #dddcdc;\n",
       "        }    #T_391b25be_cc9d_11ec_98b0_f4ee08992b84row16_col19 {\n",
       "            background-color:  #d9dce1;\n",
       "        }    #T_391b25be_cc9d_11ec_98b0_f4ee08992b84row16_col20 {\n",
       "            background-color:  #7da0f9;\n",
       "        }    #T_391b25be_cc9d_11ec_98b0_f4ee08992b84row16_col21 {\n",
       "            background-color:  #5d7ce6;\n",
       "        }    #T_391b25be_cc9d_11ec_98b0_f4ee08992b84row17_col0 {\n",
       "            background-color:  #3b4cc0;\n",
       "        }    #T_391b25be_cc9d_11ec_98b0_f4ee08992b84row17_col1 {\n",
       "            background-color:  #3b4cc0;\n",
       "        }    #T_391b25be_cc9d_11ec_98b0_f4ee08992b84row17_col2 {\n",
       "            background-color:  #3b4cc0;\n",
       "        }    #T_391b25be_cc9d_11ec_98b0_f4ee08992b84row17_col3 {\n",
       "            background-color:  #3b4cc0;\n",
       "        }    #T_391b25be_cc9d_11ec_98b0_f4ee08992b84row17_col4 {\n",
       "            background-color:  #3b4cc0;\n",
       "        }    #T_391b25be_cc9d_11ec_98b0_f4ee08992b84row17_col5 {\n",
       "            background-color:  #3b4cc0;\n",
       "        }    #T_391b25be_cc9d_11ec_98b0_f4ee08992b84row17_col6 {\n",
       "            background-color:  #3b4cc0;\n",
       "        }    #T_391b25be_cc9d_11ec_98b0_f4ee08992b84row17_col7 {\n",
       "            background-color:  #3b4cc0;\n",
       "        }    #T_391b25be_cc9d_11ec_98b0_f4ee08992b84row17_col8 {\n",
       "            background-color:  #3b4cc0;\n",
       "        }    #T_391b25be_cc9d_11ec_98b0_f4ee08992b84row17_col9 {\n",
       "            background-color:  #3b4cc0;\n",
       "        }    #T_391b25be_cc9d_11ec_98b0_f4ee08992b84row17_col10 {\n",
       "            background-color:  #3b4cc0;\n",
       "        }    #T_391b25be_cc9d_11ec_98b0_f4ee08992b84row17_col11 {\n",
       "            background-color:  #3b4cc0;\n",
       "        }    #T_391b25be_cc9d_11ec_98b0_f4ee08992b84row17_col12 {\n",
       "            background-color:  #3b4cc0;\n",
       "        }    #T_391b25be_cc9d_11ec_98b0_f4ee08992b84row17_col13 {\n",
       "            background-color:  #3b4cc0;\n",
       "        }    #T_391b25be_cc9d_11ec_98b0_f4ee08992b84row17_col14 {\n",
       "            background-color:  #3b4cc0;\n",
       "        }    #T_391b25be_cc9d_11ec_98b0_f4ee08992b84row17_col15 {\n",
       "            background-color:  #3b4cc0;\n",
       "        }    #T_391b25be_cc9d_11ec_98b0_f4ee08992b84row17_col16 {\n",
       "            background-color:  #3b4cc0;\n",
       "        }    #T_391b25be_cc9d_11ec_98b0_f4ee08992b84row17_col17 {\n",
       "            background-color:  #3b4cc0;\n",
       "        }    #T_391b25be_cc9d_11ec_98b0_f4ee08992b84row17_col18 {\n",
       "            background-color:  #3b4cc0;\n",
       "        }    #T_391b25be_cc9d_11ec_98b0_f4ee08992b84row17_col19 {\n",
       "            background-color:  #3b4cc0;\n",
       "        }    #T_391b25be_cc9d_11ec_98b0_f4ee08992b84row17_col20 {\n",
       "            background-color:  #3b4cc0;\n",
       "        }    #T_391b25be_cc9d_11ec_98b0_f4ee08992b84row17_col21 {\n",
       "            background-color:  #3b4cc0;\n",
       "        }    #T_391b25be_cc9d_11ec_98b0_f4ee08992b84row18_col0 {\n",
       "            background-color:  #88abfd;\n",
       "        }    #T_391b25be_cc9d_11ec_98b0_f4ee08992b84row18_col1 {\n",
       "            background-color:  #6687ed;\n",
       "        }    #T_391b25be_cc9d_11ec_98b0_f4ee08992b84row18_col2 {\n",
       "            background-color:  #e2dad5;\n",
       "        }    #T_391b25be_cc9d_11ec_98b0_f4ee08992b84row18_col3 {\n",
       "            background-color:  #4358cb;\n",
       "        }    #T_391b25be_cc9d_11ec_98b0_f4ee08992b84row18_col4 {\n",
       "            background-color:  #9abbff;\n",
       "        }    #T_391b25be_cc9d_11ec_98b0_f4ee08992b84row18_col5 {\n",
       "            background-color:  #d4dbe6;\n",
       "        }    #T_391b25be_cc9d_11ec_98b0_f4ee08992b84row18_col6 {\n",
       "            background-color:  #6c8ff1;\n",
       "        }    #T_391b25be_cc9d_11ec_98b0_f4ee08992b84row18_col7 {\n",
       "            background-color:  #d2dbe8;\n",
       "        }    #T_391b25be_cc9d_11ec_98b0_f4ee08992b84row18_col8 {\n",
       "            background-color:  #84a7fc;\n",
       "        }    #T_391b25be_cc9d_11ec_98b0_f4ee08992b84row18_col9 {\n",
       "            background-color:  #4f69d9;\n",
       "        }    #T_391b25be_cc9d_11ec_98b0_f4ee08992b84row18_col10 {\n",
       "            background-color:  #9abbff;\n",
       "        }    #T_391b25be_cc9d_11ec_98b0_f4ee08992b84row18_col11 {\n",
       "            background-color:  #6788ee;\n",
       "        }    #T_391b25be_cc9d_11ec_98b0_f4ee08992b84row18_col12 {\n",
       "            background-color:  #536edd;\n",
       "        }    #T_391b25be_cc9d_11ec_98b0_f4ee08992b84row18_col13 {\n",
       "            background-color:  #465ecf;\n",
       "        }    #T_391b25be_cc9d_11ec_98b0_f4ee08992b84row18_col14 {\n",
       "            background-color:  #455cce;\n",
       "        }    #T_391b25be_cc9d_11ec_98b0_f4ee08992b84row18_col15 {\n",
       "            background-color:  #3b4cc0;\n",
       "        }    #T_391b25be_cc9d_11ec_98b0_f4ee08992b84row18_col16 {\n",
       "            background-color:  #4358cb;\n",
       "        }    #T_391b25be_cc9d_11ec_98b0_f4ee08992b84row18_col17 {\n",
       "            background-color:  #3b4cc0;\n",
       "        }    #T_391b25be_cc9d_11ec_98b0_f4ee08992b84row18_col18 {\n",
       "            background-color:  #b40426;\n",
       "        }    #T_391b25be_cc9d_11ec_98b0_f4ee08992b84row18_col19 {\n",
       "            background-color:  #cfdaea;\n",
       "        }    #T_391b25be_cc9d_11ec_98b0_f4ee08992b84row18_col20 {\n",
       "            background-color:  #cdd9ec;\n",
       "        }    #T_391b25be_cc9d_11ec_98b0_f4ee08992b84row18_col21 {\n",
       "            background-color:  #89acfd;\n",
       "        }    #T_391b25be_cc9d_11ec_98b0_f4ee08992b84row19_col0 {\n",
       "            background-color:  #3b4cc0;\n",
       "        }    #T_391b25be_cc9d_11ec_98b0_f4ee08992b84row19_col1 {\n",
       "            background-color:  #c7d7f0;\n",
       "        }    #T_391b25be_cc9d_11ec_98b0_f4ee08992b84row19_col2 {\n",
       "            background-color:  #3b4cc0;\n",
       "        }    #T_391b25be_cc9d_11ec_98b0_f4ee08992b84row19_col3 {\n",
       "            background-color:  #3d50c3;\n",
       "        }    #T_391b25be_cc9d_11ec_98b0_f4ee08992b84row19_col4 {\n",
       "            background-color:  #7b9ff9;\n",
       "        }    #T_391b25be_cc9d_11ec_98b0_f4ee08992b84row19_col5 {\n",
       "            background-color:  #c6d6f1;\n",
       "        }    #T_391b25be_cc9d_11ec_98b0_f4ee08992b84row19_col6 {\n",
       "            background-color:  #7597f6;\n",
       "        }    #T_391b25be_cc9d_11ec_98b0_f4ee08992b84row19_col7 {\n",
       "            background-color:  #dddcdc;\n",
       "        }    #T_391b25be_cc9d_11ec_98b0_f4ee08992b84row19_col8 {\n",
       "            background-color:  #89acfd;\n",
       "        }    #T_391b25be_cc9d_11ec_98b0_f4ee08992b84row19_col9 {\n",
       "            background-color:  #4f69d9;\n",
       "        }    #T_391b25be_cc9d_11ec_98b0_f4ee08992b84row19_col10 {\n",
       "            background-color:  #536edd;\n",
       "        }    #T_391b25be_cc9d_11ec_98b0_f4ee08992b84row19_col11 {\n",
       "            background-color:  #455cce;\n",
       "        }    #T_391b25be_cc9d_11ec_98b0_f4ee08992b84row19_col12 {\n",
       "            background-color:  #3b4cc0;\n",
       "        }    #T_391b25be_cc9d_11ec_98b0_f4ee08992b84row19_col13 {\n",
       "            background-color:  #3b4cc0;\n",
       "        }    #T_391b25be_cc9d_11ec_98b0_f4ee08992b84row19_col14 {\n",
       "            background-color:  #506bda;\n",
       "        }    #T_391b25be_cc9d_11ec_98b0_f4ee08992b84row19_col15 {\n",
       "            background-color:  #e4d9d2;\n",
       "        }    #T_391b25be_cc9d_11ec_98b0_f4ee08992b84row19_col16 {\n",
       "            background-color:  #4257c9;\n",
       "        }    #T_391b25be_cc9d_11ec_98b0_f4ee08992b84row19_col17 {\n",
       "            background-color:  #3b4cc0;\n",
       "        }    #T_391b25be_cc9d_11ec_98b0_f4ee08992b84row19_col18 {\n",
       "            background-color:  #d5dbe5;\n",
       "        }    #T_391b25be_cc9d_11ec_98b0_f4ee08992b84row19_col19 {\n",
       "            background-color:  #b40426;\n",
       "        }    #T_391b25be_cc9d_11ec_98b0_f4ee08992b84row19_col20 {\n",
       "            background-color:  #7a9df8;\n",
       "        }    #T_391b25be_cc9d_11ec_98b0_f4ee08992b84row19_col21 {\n",
       "            background-color:  #4f69d9;\n",
       "        }    #T_391b25be_cc9d_11ec_98b0_f4ee08992b84row20_col0 {\n",
       "            background-color:  #9dbdff;\n",
       "        }    #T_391b25be_cc9d_11ec_98b0_f4ee08992b84row20_col1 {\n",
       "            background-color:  #82a6fb;\n",
       "        }    #T_391b25be_cc9d_11ec_98b0_f4ee08992b84row20_col2 {\n",
       "            background-color:  #dddcdc;\n",
       "        }    #T_391b25be_cc9d_11ec_98b0_f4ee08992b84row20_col3 {\n",
       "            background-color:  #4358cb;\n",
       "        }    #T_391b25be_cc9d_11ec_98b0_f4ee08992b84row20_col4 {\n",
       "            background-color:  #6c8ff1;\n",
       "        }    #T_391b25be_cc9d_11ec_98b0_f4ee08992b84row20_col5 {\n",
       "            background-color:  #d8dce2;\n",
       "        }    #T_391b25be_cc9d_11ec_98b0_f4ee08992b84row20_col6 {\n",
       "            background-color:  #7093f3;\n",
       "        }    #T_391b25be_cc9d_11ec_98b0_f4ee08992b84row20_col7 {\n",
       "            background-color:  #ccd9ed;\n",
       "        }    #T_391b25be_cc9d_11ec_98b0_f4ee08992b84row20_col8 {\n",
       "            background-color:  #89acfd;\n",
       "        }    #T_391b25be_cc9d_11ec_98b0_f4ee08992b84row20_col9 {\n",
       "            background-color:  #5977e3;\n",
       "        }    #T_391b25be_cc9d_11ec_98b0_f4ee08992b84row20_col10 {\n",
       "            background-color:  #dadce0;\n",
       "        }    #T_391b25be_cc9d_11ec_98b0_f4ee08992b84row20_col11 {\n",
       "            background-color:  #a3c2fe;\n",
       "        }    #T_391b25be_cc9d_11ec_98b0_f4ee08992b84row20_col12 {\n",
       "            background-color:  #5e7de7;\n",
       "        }    #T_391b25be_cc9d_11ec_98b0_f4ee08992b84row20_col13 {\n",
       "            background-color:  #465ecf;\n",
       "        }    #T_391b25be_cc9d_11ec_98b0_f4ee08992b84row20_col14 {\n",
       "            background-color:  #516ddb;\n",
       "        }    #T_391b25be_cc9d_11ec_98b0_f4ee08992b84row20_col15 {\n",
       "            background-color:  #b2ccfb;\n",
       "        }    #T_391b25be_cc9d_11ec_98b0_f4ee08992b84row20_col16 {\n",
       "            background-color:  #3b4cc0;\n",
       "        }    #T_391b25be_cc9d_11ec_98b0_f4ee08992b84row20_col17 {\n",
       "            background-color:  #3b4cc0;\n",
       "        }    #T_391b25be_cc9d_11ec_98b0_f4ee08992b84row20_col18 {\n",
       "            background-color:  #f6bfa6;\n",
       "        }    #T_391b25be_cc9d_11ec_98b0_f4ee08992b84row20_col19 {\n",
       "            background-color:  #d3dbe7;\n",
       "        }    #T_391b25be_cc9d_11ec_98b0_f4ee08992b84row20_col20 {\n",
       "            background-color:  #b40426;\n",
       "        }    #T_391b25be_cc9d_11ec_98b0_f4ee08992b84row20_col21 {\n",
       "            background-color:  #c4d5f3;\n",
       "        }    #T_391b25be_cc9d_11ec_98b0_f4ee08992b84row21_col0 {\n",
       "            background-color:  #9bbcff;\n",
       "        }    #T_391b25be_cc9d_11ec_98b0_f4ee08992b84row21_col1 {\n",
       "            background-color:  #7b9ff9;\n",
       "        }    #T_391b25be_cc9d_11ec_98b0_f4ee08992b84row21_col2 {\n",
       "            background-color:  #e1dad6;\n",
       "        }    #T_391b25be_cc9d_11ec_98b0_f4ee08992b84row21_col3 {\n",
       "            background-color:  #4055c8;\n",
       "        }    #T_391b25be_cc9d_11ec_98b0_f4ee08992b84row21_col4 {\n",
       "            background-color:  #6788ee;\n",
       "        }    #T_391b25be_cc9d_11ec_98b0_f4ee08992b84row21_col5 {\n",
       "            background-color:  #dbdcde;\n",
       "        }    #T_391b25be_cc9d_11ec_98b0_f4ee08992b84row21_col6 {\n",
       "            background-color:  #7295f4;\n",
       "        }    #T_391b25be_cc9d_11ec_98b0_f4ee08992b84row21_col7 {\n",
       "            background-color:  #cad8ef;\n",
       "        }    #T_391b25be_cc9d_11ec_98b0_f4ee08992b84row21_col8 {\n",
       "            background-color:  #84a7fc;\n",
       "        }    #T_391b25be_cc9d_11ec_98b0_f4ee08992b84row21_col9 {\n",
       "            background-color:  #5673e0;\n",
       "        }    #T_391b25be_cc9d_11ec_98b0_f4ee08992b84row21_col10 {\n",
       "            background-color:  #f7aa8c;\n",
       "        }    #T_391b25be_cc9d_11ec_98b0_f4ee08992b84row21_col11 {\n",
       "            background-color:  #93b5fe;\n",
       "        }    #T_391b25be_cc9d_11ec_98b0_f4ee08992b84row21_col12 {\n",
       "            background-color:  #6b8df0;\n",
       "        }    #T_391b25be_cc9d_11ec_98b0_f4ee08992b84row21_col13 {\n",
       "            background-color:  #4961d2;\n",
       "        }    #T_391b25be_cc9d_11ec_98b0_f4ee08992b84row21_col14 {\n",
       "            background-color:  #4b64d5;\n",
       "        }    #T_391b25be_cc9d_11ec_98b0_f4ee08992b84row21_col15 {\n",
       "            background-color:  #cad8ef;\n",
       "        }    #T_391b25be_cc9d_11ec_98b0_f4ee08992b84row21_col16 {\n",
       "            background-color:  #3e51c5;\n",
       "        }    #T_391b25be_cc9d_11ec_98b0_f4ee08992b84row21_col17 {\n",
       "            background-color:  #3b4cc0;\n",
       "        }    #T_391b25be_cc9d_11ec_98b0_f4ee08992b84row21_col18 {\n",
       "            background-color:  #edd2c3;\n",
       "        }    #T_391b25be_cc9d_11ec_98b0_f4ee08992b84row21_col19 {\n",
       "            background-color:  #cfdaea;\n",
       "        }    #T_391b25be_cc9d_11ec_98b0_f4ee08992b84row21_col20 {\n",
       "            background-color:  #d8dce2;\n",
       "        }    #T_391b25be_cc9d_11ec_98b0_f4ee08992b84row21_col21 {\n",
       "            background-color:  #b40426;\n",
       "        }</style>  \n",
       "<table id=\"T_391b25be_cc9d_11ec_98b0_f4ee08992b84\" > \n",
       "<thead>    <tr> \n",
       "        <th class=\"blank level0\" ></th> \n",
       "        <th class=\"col_heading level0 col0\" >disbursed_amount</th> \n",
       "        <th class=\"col_heading level0 col1\" >asset_cost</th> \n",
       "        <th class=\"col_heading level0 col2\" >ltv</th> \n",
       "        <th class=\"col_heading level0 col3\" >branch_id</th> \n",
       "        <th class=\"col_heading level0 col4\" >Employment.Type</th> \n",
       "        <th class=\"col_heading level0 col5\" >Aadhar_flag</th> \n",
       "        <th class=\"col_heading level0 col6\" >PAN_flag</th> \n",
       "        <th class=\"col_heading level0 col7\" >VoterID_flag</th> \n",
       "        <th class=\"col_heading level0 col8\" >Driving_flag</th> \n",
       "        <th class=\"col_heading level0 col9\" >Passport_flag</th> \n",
       "        <th class=\"col_heading level0 col10\" >PERFORM_CNS.SCORE</th> \n",
       "        <th class=\"col_heading level0 col11\" >DELINQUENT.ACCTS.IN.LAST.SIX.MONTHS</th> \n",
       "        <th class=\"col_heading level0 col12\" >NO.OF_INQUIRIES</th> \n",
       "        <th class=\"col_heading level0 col13\" >loan_default</th> \n",
       "        <th class=\"col_heading level0 col14\" >region</th> \n",
       "        <th class=\"col_heading level0 col15\" >Year_of_birth</th> \n",
       "        <th class=\"col_heading level0 col16\" >DisbursalMonth</th> \n",
       "        <th class=\"col_heading level0 col17\" >CY</th> \n",
       "        <th class=\"col_heading level0 col18\" >AGE</th> \n",
       "        <th class=\"col_heading level0 col19\" >asset_disburse</th> \n",
       "        <th class=\"col_heading level0 col20\" >CREDIT.HISTORY.LENGTH.YEAR</th> \n",
       "        <th class=\"col_heading level0 col21\" >CREDIT.HISTORY.LENGTH.MONTH</th> \n",
       "    </tr></thead> \n",
       "<tbody>    <tr> \n",
       "        <th id=\"T_391b25be_cc9d_11ec_98b0_f4ee08992b84level0_row0\" class=\"row_heading level0 row0\" >disbursed_amount</th> \n",
       "        <td id=\"T_391b25be_cc9d_11ec_98b0_f4ee08992b84row0_col0\" class=\"data row0 col0\" >1</td> \n",
       "        <td id=\"T_391b25be_cc9d_11ec_98b0_f4ee08992b84row0_col1\" class=\"data row0 col1\" >0.752629</td> \n",
       "        <td id=\"T_391b25be_cc9d_11ec_98b0_f4ee08992b84row0_col2\" class=\"data row0 col2\" >0.372385</td> \n",
       "        <td id=\"T_391b25be_cc9d_11ec_98b0_f4ee08992b84row0_col3\" class=\"data row0 col3\" >0.0131851</td> \n",
       "        <td id=\"T_391b25be_cc9d_11ec_98b0_f4ee08992b84row0_col4\" class=\"data row0 col4\" >-0.0450396</td> \n",
       "        <td id=\"T_391b25be_cc9d_11ec_98b0_f4ee08992b84row0_col5\" class=\"data row0 col5\" >-0.0173921</td> \n",
       "        <td id=\"T_391b25be_cc9d_11ec_98b0_f4ee08992b84row0_col6\" class=\"data row0 col6\" >0.0132462</td> \n",
       "        <td id=\"T_391b25be_cc9d_11ec_98b0_f4ee08992b84row0_col7\" class=\"data row0 col7\" >0.0168486</td> \n",
       "        <td id=\"T_391b25be_cc9d_11ec_98b0_f4ee08992b84row0_col8\" class=\"data row0 col8\" >-0.00197711</td> \n",
       "        <td id=\"T_391b25be_cc9d_11ec_98b0_f4ee08992b84row0_col9\" class=\"data row0 col9\" >0.00124179</td> \n",
       "        <td id=\"T_391b25be_cc9d_11ec_98b0_f4ee08992b84row0_col10\" class=\"data row0 col10\" >0.00941437</td> \n",
       "        <td id=\"T_391b25be_cc9d_11ec_98b0_f4ee08992b84row0_col11\" class=\"data row0 col11\" >0.0203509</td> \n",
       "        <td id=\"T_391b25be_cc9d_11ec_98b0_f4ee08992b84row0_col12\" class=\"data row0 col12\" >0.0354285</td> \n",
       "        <td id=\"T_391b25be_cc9d_11ec_98b0_f4ee08992b84row0_col13\" class=\"data row0 col13\" >0.0628052</td> \n",
       "        <td id=\"T_391b25be_cc9d_11ec_98b0_f4ee08992b84row0_col14\" class=\"data row0 col14\" >0.0767351</td> \n",
       "        <td id=\"T_391b25be_cc9d_11ec_98b0_f4ee08992b84row0_col15\" class=\"data row0 col15\" >0.0666773</td> \n",
       "        <td id=\"T_391b25be_cc9d_11ec_98b0_f4ee08992b84row0_col16\" class=\"data row0 col16\" >0.0645363</td> \n",
       "        <td id=\"T_391b25be_cc9d_11ec_98b0_f4ee08992b84row0_col17\" class=\"data row0 col17\" >nan</td> \n",
       "        <td id=\"T_391b25be_cc9d_11ec_98b0_f4ee08992b84row0_col18\" class=\"data row0 col18\" >-0.0666773</td> \n",
       "        <td id=\"T_391b25be_cc9d_11ec_98b0_f4ee08992b84row0_col19\" class=\"data row0 col19\" >-0.399267</td> \n",
       "        <td id=\"T_391b25be_cc9d_11ec_98b0_f4ee08992b84row0_col20\" class=\"data row0 col20\" >0.0128329</td> \n",
       "        <td id=\"T_391b25be_cc9d_11ec_98b0_f4ee08992b84row0_col21\" class=\"data row0 col21\" >0.00653183</td> \n",
       "    </tr>    <tr> \n",
       "        <th id=\"T_391b25be_cc9d_11ec_98b0_f4ee08992b84level0_row1\" class=\"row_heading level0 row1\" >asset_cost</th> \n",
       "        <td id=\"T_391b25be_cc9d_11ec_98b0_f4ee08992b84row1_col0\" class=\"data row1 col0\" >0.752629</td> \n",
       "        <td id=\"T_391b25be_cc9d_11ec_98b0_f4ee08992b84row1_col1\" class=\"data row1 col1\" >1</td> \n",
       "        <td id=\"T_391b25be_cc9d_11ec_98b0_f4ee08992b84row1_col2\" class=\"data row1 col2\" >-0.304288</td> \n",
       "        <td id=\"T_391b25be_cc9d_11ec_98b0_f4ee08992b84row1_col3\" class=\"data row1 col3\" >0.0107468</td> \n",
       "        <td id=\"T_391b25be_cc9d_11ec_98b0_f4ee08992b84row1_col4\" class=\"data row1 col4\" >0.0134445</td> \n",
       "        <td id=\"T_391b25be_cc9d_11ec_98b0_f4ee08992b84row1_col5\" class=\"data row1 col5\" >-0.089512</td> \n",
       "        <td id=\"T_391b25be_cc9d_11ec_98b0_f4ee08992b84row1_col6\" class=\"data row1 col6\" >0.0438212</td> \n",
       "        <td id=\"T_391b25be_cc9d_11ec_98b0_f4ee08992b84row1_col7\" class=\"data row1 col7\" >0.0842205</td> \n",
       "        <td id=\"T_391b25be_cc9d_11ec_98b0_f4ee08992b84row1_col8\" class=\"data row1 col8\" >0.0154215</td> \n",
       "        <td id=\"T_391b25be_cc9d_11ec_98b0_f4ee08992b84row1_col9\" class=\"data row1 col9\" >-0.00597082</td> \n",
       "        <td id=\"T_391b25be_cc9d_11ec_98b0_f4ee08992b84row1_col10\" class=\"data row1 col10\" >-0.0523278</td> \n",
       "        <td id=\"T_391b25be_cc9d_11ec_98b0_f4ee08992b84row1_col11\" class=\"data row1 col11\" >-0.00225663</td> \n",
       "        <td id=\"T_391b25be_cc9d_11ec_98b0_f4ee08992b84row1_col12\" class=\"data row1 col12\" >-0.0189742</td> \n",
       "        <td id=\"T_391b25be_cc9d_11ec_98b0_f4ee08992b84row1_col13\" class=\"data row1 col13\" >0.00253504</td> \n",
       "        <td id=\"T_391b25be_cc9d_11ec_98b0_f4ee08992b84row1_col14\" class=\"data row1 col14\" >0.0872942</td> \n",
       "        <td id=\"T_391b25be_cc9d_11ec_98b0_f4ee08992b84row1_col15\" class=\"data row1 col15\" >0.123879</td> \n",
       "        <td id=\"T_391b25be_cc9d_11ec_98b0_f4ee08992b84row1_col16\" class=\"data row1 col16\" >0.0649061</td> \n",
       "        <td id=\"T_391b25be_cc9d_11ec_98b0_f4ee08992b84row1_col17\" class=\"data row1 col17\" >nan</td> \n",
       "        <td id=\"T_391b25be_cc9d_11ec_98b0_f4ee08992b84row1_col18\" class=\"data row1 col18\" >-0.123879</td> \n",
       "        <td id=\"T_391b25be_cc9d_11ec_98b0_f4ee08992b84row1_col19\" class=\"data row1 col19\" >0.250191</td> \n",
       "        <td id=\"T_391b25be_cc9d_11ec_98b0_f4ee08992b84row1_col20\" class=\"data row1 col20\" >-0.0156547</td> \n",
       "        <td id=\"T_391b25be_cc9d_11ec_98b0_f4ee08992b84row1_col21\" class=\"data row1 col21\" >-0.0416164</td> \n",
       "    </tr>    <tr> \n",
       "        <th id=\"T_391b25be_cc9d_11ec_98b0_f4ee08992b84level0_row2\" class=\"row_heading level0 row2\" >ltv</th> \n",
       "        <td id=\"T_391b25be_cc9d_11ec_98b0_f4ee08992b84row2_col0\" class=\"data row2 col0\" >0.372385</td> \n",
       "        <td id=\"T_391b25be_cc9d_11ec_98b0_f4ee08992b84row2_col1\" class=\"data row2 col1\" >-0.304288</td> \n",
       "        <td id=\"T_391b25be_cc9d_11ec_98b0_f4ee08992b84row2_col2\" class=\"data row2 col2\" >1</td> \n",
       "        <td id=\"T_391b25be_cc9d_11ec_98b0_f4ee08992b84row2_col3\" class=\"data row2 col3\" >0.0145846</td> \n",
       "        <td id=\"T_391b25be_cc9d_11ec_98b0_f4ee08992b84row2_col4\" class=\"data row2 col4\" >-0.0788338</td> \n",
       "        <td id=\"T_391b25be_cc9d_11ec_98b0_f4ee08992b84row2_col5\" class=\"data row2 col5\" >0.0988446</td> \n",
       "        <td id=\"T_391b25be_cc9d_11ec_98b0_f4ee08992b84row2_col6\" class=\"data row2 col6\" >-0.0322833</td> \n",
       "        <td id=\"T_391b25be_cc9d_11ec_98b0_f4ee08992b84row2_col7\" class=\"data row2 col7\" >-0.0910965</td> \n",
       "        <td id=\"T_391b25be_cc9d_11ec_98b0_f4ee08992b84row2_col8\" class=\"data row2 col8\" >-0.0217237</td> \n",
       "        <td id=\"T_391b25be_cc9d_11ec_98b0_f4ee08992b84row2_col9\" class=\"data row2 col9\" >0.010548</td> \n",
       "        <td id=\"T_391b25be_cc9d_11ec_98b0_f4ee08992b84row2_col10\" class=\"data row2 col10\" >0.0885374</td> \n",
       "        <td id=\"T_391b25be_cc9d_11ec_98b0_f4ee08992b84row2_col11\" class=\"data row2 col11\" >0.0386524</td> \n",
       "        <td id=\"T_391b25be_cc9d_11ec_98b0_f4ee08992b84row2_col12\" class=\"data row2 col12\" >0.0879595</td> \n",
       "        <td id=\"T_391b25be_cc9d_11ec_98b0_f4ee08992b84row2_col13\" class=\"data row2 col13\" >0.095423</td> \n",
       "        <td id=\"T_391b25be_cc9d_11ec_98b0_f4ee08992b84row2_col14\" class=\"data row2 col14\" >-0.00801453</td> \n",
       "        <td id=\"T_391b25be_cc9d_11ec_98b0_f4ee08992b84row2_col15\" class=\"data row2 col15\" >-0.0776515</td> \n",
       "        <td id=\"T_391b25be_cc9d_11ec_98b0_f4ee08992b84row2_col16\" class=\"data row2 col16\" >-0.015262</td> \n",
       "        <td id=\"T_391b25be_cc9d_11ec_98b0_f4ee08992b84row2_col17\" class=\"data row2 col17\" >nan</td> \n",
       "        <td id=\"T_391b25be_cc9d_11ec_98b0_f4ee08992b84row2_col18\" class=\"data row2 col18\" >0.0776515</td> \n",
       "        <td id=\"T_391b25be_cc9d_11ec_98b0_f4ee08992b84row2_col19\" class=\"data row2 col19\" >-0.930535</td> \n",
       "        <td id=\"T_391b25be_cc9d_11ec_98b0_f4ee08992b84row2_col20\" class=\"data row2 col20\" >0.0415187</td> \n",
       "        <td id=\"T_391b25be_cc9d_11ec_98b0_f4ee08992b84row2_col21\" class=\"data row2 col21\" >0.0695743</td> \n",
       "    </tr>    <tr> \n",
       "        <th id=\"T_391b25be_cc9d_11ec_98b0_f4ee08992b84level0_row3\" class=\"row_heading level0 row3\" >branch_id</th> \n",
       "        <td id=\"T_391b25be_cc9d_11ec_98b0_f4ee08992b84row3_col0\" class=\"data row3 col0\" >0.0131851</td> \n",
       "        <td id=\"T_391b25be_cc9d_11ec_98b0_f4ee08992b84row3_col1\" class=\"data row3 col1\" >0.0107468</td> \n",
       "        <td id=\"T_391b25be_cc9d_11ec_98b0_f4ee08992b84row3_col2\" class=\"data row3 col2\" >0.0145846</td> \n",
       "        <td id=\"T_391b25be_cc9d_11ec_98b0_f4ee08992b84row3_col3\" class=\"data row3 col3\" >1</td> \n",
       "        <td id=\"T_391b25be_cc9d_11ec_98b0_f4ee08992b84row3_col4\" class=\"data row3 col4\" >-0.0274395</td> \n",
       "        <td id=\"T_391b25be_cc9d_11ec_98b0_f4ee08992b84row3_col5\" class=\"data row3 col5\" >-0.00331268</td> \n",
       "        <td id=\"T_391b25be_cc9d_11ec_98b0_f4ee08992b84row3_col6\" class=\"data row3 col6\" >0.00513</td> \n",
       "        <td id=\"T_391b25be_cc9d_11ec_98b0_f4ee08992b84row3_col7\" class=\"data row3 col7\" >-0.0118275</td> \n",
       "        <td id=\"T_391b25be_cc9d_11ec_98b0_f4ee08992b84row3_col8\" class=\"data row3 col8\" >-0.0177002</td> \n",
       "        <td id=\"T_391b25be_cc9d_11ec_98b0_f4ee08992b84row3_col9\" class=\"data row3 col9\" >-0.0141586</td> \n",
       "        <td id=\"T_391b25be_cc9d_11ec_98b0_f4ee08992b84row3_col10\" class=\"data row3 col10\" >-0.00645976</td> \n",
       "        <td id=\"T_391b25be_cc9d_11ec_98b0_f4ee08992b84row3_col11\" class=\"data row3 col11\" >0.00037732</td> \n",
       "        <td id=\"T_391b25be_cc9d_11ec_98b0_f4ee08992b84row3_col12\" class=\"data row3 col12\" >0.00401198</td> \n",
       "        <td id=\"T_391b25be_cc9d_11ec_98b0_f4ee08992b84row3_col13\" class=\"data row3 col13\" >0.0372428</td> \n",
       "        <td id=\"T_391b25be_cc9d_11ec_98b0_f4ee08992b84row3_col14\" class=\"data row3 col14\" >0.588982</td> \n",
       "        <td id=\"T_391b25be_cc9d_11ec_98b0_f4ee08992b84row3_col15\" class=\"data row3 col15\" >-0.00324711</td> \n",
       "        <td id=\"T_391b25be_cc9d_11ec_98b0_f4ee08992b84row3_col16\" class=\"data row3 col16\" >-0.003223</td> \n",
       "        <td id=\"T_391b25be_cc9d_11ec_98b0_f4ee08992b84row3_col17\" class=\"data row3 col17\" >nan</td> \n",
       "        <td id=\"T_391b25be_cc9d_11ec_98b0_f4ee08992b84row3_col18\" class=\"data row3 col18\" >0.00324711</td> \n",
       "        <td id=\"T_391b25be_cc9d_11ec_98b0_f4ee08992b84row3_col19\" class=\"data row3 col19\" >-0.0164056</td> \n",
       "        <td id=\"T_391b25be_cc9d_11ec_98b0_f4ee08992b84row3_col20\" class=\"data row3 col20\" >0.00362634</td> \n",
       "        <td id=\"T_391b25be_cc9d_11ec_98b0_f4ee08992b84row3_col21\" class=\"data row3 col21\" >-0.00361642</td> \n",
       "    </tr>    <tr> \n",
       "        <th id=\"T_391b25be_cc9d_11ec_98b0_f4ee08992b84level0_row4\" class=\"row_heading level0 row4\" >Employment.Type</th> \n",
       "        <td id=\"T_391b25be_cc9d_11ec_98b0_f4ee08992b84row4_col0\" class=\"data row4 col0\" >-0.0450396</td> \n",
       "        <td id=\"T_391b25be_cc9d_11ec_98b0_f4ee08992b84row4_col1\" class=\"data row4 col1\" >0.0134445</td> \n",
       "        <td id=\"T_391b25be_cc9d_11ec_98b0_f4ee08992b84row4_col2\" class=\"data row4 col2\" >-0.0788338</td> \n",
       "        <td id=\"T_391b25be_cc9d_11ec_98b0_f4ee08992b84row4_col3\" class=\"data row4 col3\" >-0.0274395</td> \n",
       "        <td id=\"T_391b25be_cc9d_11ec_98b0_f4ee08992b84row4_col4\" class=\"data row4 col4\" >1</td> \n",
       "        <td id=\"T_391b25be_cc9d_11ec_98b0_f4ee08992b84row4_col5\" class=\"data row4 col5\" >-0.0917586</td> \n",
       "        <td id=\"T_391b25be_cc9d_11ec_98b0_f4ee08992b84row4_col6\" class=\"data row4 col6\" >0.0251554</td> \n",
       "        <td id=\"T_391b25be_cc9d_11ec_98b0_f4ee08992b84row4_col7\" class=\"data row4 col7\" >0.0884979</td> \n",
       "        <td id=\"T_391b25be_cc9d_11ec_98b0_f4ee08992b84row4_col8\" class=\"data row4 col8\" >0.0152878</td> \n",
       "        <td id=\"T_391b25be_cc9d_11ec_98b0_f4ee08992b84row4_col9\" class=\"data row4 col9\" >-0.00102771</td> \n",
       "        <td id=\"T_391b25be_cc9d_11ec_98b0_f4ee08992b84row4_col10\" class=\"data row4 col10\" >-0.00935675</td> \n",
       "        <td id=\"T_391b25be_cc9d_11ec_98b0_f4ee08992b84row4_col11\" class=\"data row4 col11\" >0.0237837</td> \n",
       "        <td id=\"T_391b25be_cc9d_11ec_98b0_f4ee08992b84row4_col12\" class=\"data row4 col12\" >0.00817586</td> \n",
       "        <td id=\"T_391b25be_cc9d_11ec_98b0_f4ee08992b84row4_col13\" class=\"data row4 col13\" >0.0233668</td> \n",
       "        <td id=\"T_391b25be_cc9d_11ec_98b0_f4ee08992b84row4_col14\" class=\"data row4 col14\" >-0.030499</td> \n",
       "        <td id=\"T_391b25be_cc9d_11ec_98b0_f4ee08992b84row4_col15\" class=\"data row4 col15\" >-0.166425</td> \n",
       "        <td id=\"T_391b25be_cc9d_11ec_98b0_f4ee08992b84row4_col16\" class=\"data row4 col16\" >-0.00359243</td> \n",
       "        <td id=\"T_391b25be_cc9d_11ec_98b0_f4ee08992b84row4_col17\" class=\"data row4 col17\" >nan</td> \n",
       "        <td id=\"T_391b25be_cc9d_11ec_98b0_f4ee08992b84row4_col18\" class=\"data row4 col18\" >0.166425</td> \n",
       "        <td id=\"T_391b25be_cc9d_11ec_98b0_f4ee08992b84row4_col19\" class=\"data row4 col19\" >0.0674478</td> \n",
       "        <td id=\"T_391b25be_cc9d_11ec_98b0_f4ee08992b84row4_col20\" class=\"data row4 col20\" >0.0200114</td> \n",
       "        <td id=\"T_391b25be_cc9d_11ec_98b0_f4ee08992b84row4_col21\" class=\"data row4 col21\" >0.00042986</td> \n",
       "    </tr>    <tr> \n",
       "        <th id=\"T_391b25be_cc9d_11ec_98b0_f4ee08992b84level0_row5\" class=\"row_heading level0 row5\" >Aadhar_flag</th> \n",
       "        <td id=\"T_391b25be_cc9d_11ec_98b0_f4ee08992b84row5_col0\" class=\"data row5 col0\" >-0.0173921</td> \n",
       "        <td id=\"T_391b25be_cc9d_11ec_98b0_f4ee08992b84row5_col1\" class=\"data row5 col1\" >-0.089512</td> \n",
       "        <td id=\"T_391b25be_cc9d_11ec_98b0_f4ee08992b84row5_col2\" class=\"data row5 col2\" >0.0988446</td> \n",
       "        <td id=\"T_391b25be_cc9d_11ec_98b0_f4ee08992b84row5_col3\" class=\"data row5 col3\" >-0.00331268</td> \n",
       "        <td id=\"T_391b25be_cc9d_11ec_98b0_f4ee08992b84row5_col4\" class=\"data row5 col4\" >-0.0917586</td> \n",
       "        <td id=\"T_391b25be_cc9d_11ec_98b0_f4ee08992b84row5_col5\" class=\"data row5 col5\" >1</td> \n",
       "        <td id=\"T_391b25be_cc9d_11ec_98b0_f4ee08992b84row5_col6\" class=\"data row5 col6\" >-0.188042</td> \n",
       "        <td id=\"T_391b25be_cc9d_11ec_98b0_f4ee08992b84row5_col7\" class=\"data row5 col7\" >-0.862401</td> \n",
       "        <td id=\"T_391b25be_cc9d_11ec_98b0_f4ee08992b84row5_col8\" class=\"data row5 col8\" >-0.28713</td> \n",
       "        <td id=\"T_391b25be_cc9d_11ec_98b0_f4ee08992b84row5_col9\" class=\"data row5 col9\" >-0.0825455</td> \n",
       "        <td id=\"T_391b25be_cc9d_11ec_98b0_f4ee08992b84row5_col10\" class=\"data row5 col10\" >0.0677885</td> \n",
       "        <td id=\"T_391b25be_cc9d_11ec_98b0_f4ee08992b84row5_col11\" class=\"data row5 col11\" >0.022699</td> \n",
       "        <td id=\"T_391b25be_cc9d_11ec_98b0_f4ee08992b84row5_col12\" class=\"data row5 col12\" >0.0285072</td> \n",
       "        <td id=\"T_391b25be_cc9d_11ec_98b0_f4ee08992b84row5_col13\" class=\"data row5 col13\" >-0.0506243</td> \n",
       "        <td id=\"T_391b25be_cc9d_11ec_98b0_f4ee08992b84row5_col14\" class=\"data row5 col14\" >0.0637384</td> \n",
       "        <td id=\"T_391b25be_cc9d_11ec_98b0_f4ee08992b84row5_col15\" class=\"data row5 col15\" >-0.00895704</td> \n",
       "        <td id=\"T_391b25be_cc9d_11ec_98b0_f4ee08992b84row5_col16\" class=\"data row5 col16\" >-0.000340303</td> \n",
       "        <td id=\"T_391b25be_cc9d_11ec_98b0_f4ee08992b84row5_col17\" class=\"data row5 col17\" >nan</td> \n",
       "        <td id=\"T_391b25be_cc9d_11ec_98b0_f4ee08992b84row5_col18\" class=\"data row5 col18\" >0.00895704</td> \n",
       "        <td id=\"T_391b25be_cc9d_11ec_98b0_f4ee08992b84row5_col19\" class=\"data row5 col19\" >-0.0779899</td> \n",
       "        <td id=\"T_391b25be_cc9d_11ec_98b0_f4ee08992b84row5_col20\" class=\"data row5 col20\" >0.0334598</td> \n",
       "        <td id=\"T_391b25be_cc9d_11ec_98b0_f4ee08992b84row5_col21\" class=\"data row5 col21\" >0.0552072</td> \n",
       "    </tr>    <tr> \n",
       "        <th id=\"T_391b25be_cc9d_11ec_98b0_f4ee08992b84level0_row6\" class=\"row_heading level0 row6\" >PAN_flag</th> \n",
       "        <td id=\"T_391b25be_cc9d_11ec_98b0_f4ee08992b84row6_col0\" class=\"data row6 col0\" >0.0132462</td> \n",
       "        <td id=\"T_391b25be_cc9d_11ec_98b0_f4ee08992b84row6_col1\" class=\"data row6 col1\" >0.0438212</td> \n",
       "        <td id=\"T_391b25be_cc9d_11ec_98b0_f4ee08992b84row6_col2\" class=\"data row6 col2\" >-0.0322833</td> \n",
       "        <td id=\"T_391b25be_cc9d_11ec_98b0_f4ee08992b84row6_col3\" class=\"data row6 col3\" >0.00513</td> \n",
       "        <td id=\"T_391b25be_cc9d_11ec_98b0_f4ee08992b84row6_col4\" class=\"data row6 col4\" >0.0251554</td> \n",
       "        <td id=\"T_391b25be_cc9d_11ec_98b0_f4ee08992b84row6_col5\" class=\"data row6 col5\" >-0.188042</td> \n",
       "        <td id=\"T_391b25be_cc9d_11ec_98b0_f4ee08992b84row6_col6\" class=\"data row6 col6\" >1</td> \n",
       "        <td id=\"T_391b25be_cc9d_11ec_98b0_f4ee08992b84row6_col7\" class=\"data row6 col7\" >0.164873</td> \n",
       "        <td id=\"T_391b25be_cc9d_11ec_98b0_f4ee08992b84row6_col8\" class=\"data row6 col8\" >0.000230263</td> \n",
       "        <td id=\"T_391b25be_cc9d_11ec_98b0_f4ee08992b84row6_col9\" class=\"data row6 col9\" >-0.00223982</td> \n",
       "        <td id=\"T_391b25be_cc9d_11ec_98b0_f4ee08992b84row6_col10\" class=\"data row6 col10\" >0.0228773</td> \n",
       "        <td id=\"T_391b25be_cc9d_11ec_98b0_f4ee08992b84row6_col11\" class=\"data row6 col11\" >-0.000498998</td> \n",
       "        <td id=\"T_391b25be_cc9d_11ec_98b0_f4ee08992b84row6_col12\" class=\"data row6 col12\" >0.024491</td> \n",
       "        <td id=\"T_391b25be_cc9d_11ec_98b0_f4ee08992b84row6_col13\" class=\"data row6 col13\" >0.00777149</td> \n",
       "        <td id=\"T_391b25be_cc9d_11ec_98b0_f4ee08992b84row6_col14\" class=\"data row6 col14\" >-0.0118472</td> \n",
       "        <td id=\"T_391b25be_cc9d_11ec_98b0_f4ee08992b84row6_col15\" class=\"data row6 col15\" >-0.00120251</td> \n",
       "        <td id=\"T_391b25be_cc9d_11ec_98b0_f4ee08992b84row6_col16\" class=\"data row6 col16\" >-0.00520818</td> \n",
       "        <td id=\"T_391b25be_cc9d_11ec_98b0_f4ee08992b84row6_col17\" class=\"data row6 col17\" >nan</td> \n",
       "        <td id=\"T_391b25be_cc9d_11ec_98b0_f4ee08992b84row6_col18\" class=\"data row6 col18\" >0.00120251</td> \n",
       "        <td id=\"T_391b25be_cc9d_11ec_98b0_f4ee08992b84row6_col19\" class=\"data row6 col19\" >0.0277217</td> \n",
       "        <td id=\"T_391b25be_cc9d_11ec_98b0_f4ee08992b84row6_col20\" class=\"data row6 col20\" >0.0160899</td> \n",
       "        <td id=\"T_391b25be_cc9d_11ec_98b0_f4ee08992b84row6_col21\" class=\"data row6 col21\" >0.0199061</td> \n",
       "    </tr>    <tr> \n",
       "        <th id=\"T_391b25be_cc9d_11ec_98b0_f4ee08992b84level0_row7\" class=\"row_heading level0 row7\" >VoterID_flag</th> \n",
       "        <td id=\"T_391b25be_cc9d_11ec_98b0_f4ee08992b84row7_col0\" class=\"data row7 col0\" >0.0168486</td> \n",
       "        <td id=\"T_391b25be_cc9d_11ec_98b0_f4ee08992b84row7_col1\" class=\"data row7 col1\" >0.0842205</td> \n",
       "        <td id=\"T_391b25be_cc9d_11ec_98b0_f4ee08992b84row7_col2\" class=\"data row7 col2\" >-0.0910965</td> \n",
       "        <td id=\"T_391b25be_cc9d_11ec_98b0_f4ee08992b84row7_col3\" class=\"data row7 col3\" >-0.0118275</td> \n",
       "        <td id=\"T_391b25be_cc9d_11ec_98b0_f4ee08992b84row7_col4\" class=\"data row7 col4\" >0.0884979</td> \n",
       "        <td id=\"T_391b25be_cc9d_11ec_98b0_f4ee08992b84row7_col5\" class=\"data row7 col5\" >-0.862401</td> \n",
       "        <td id=\"T_391b25be_cc9d_11ec_98b0_f4ee08992b84row7_col6\" class=\"data row7 col6\" >0.164873</td> \n",
       "        <td id=\"T_391b25be_cc9d_11ec_98b0_f4ee08992b84row7_col7\" class=\"data row7 col7\" >1</td> \n",
       "        <td id=\"T_391b25be_cc9d_11ec_98b0_f4ee08992b84row7_col8\" class=\"data row7 col8\" >-0.0542108</td> \n",
       "        <td id=\"T_391b25be_cc9d_11ec_98b0_f4ee08992b84row7_col9\" class=\"data row7 col9\" >-0.0184071</td> \n",
       "        <td id=\"T_391b25be_cc9d_11ec_98b0_f4ee08992b84row7_col10\" class=\"data row7 col10\" >-0.0706784</td> \n",
       "        <td id=\"T_391b25be_cc9d_11ec_98b0_f4ee08992b84row7_col11\" class=\"data row7 col11\" >-0.0212176</td> \n",
       "        <td id=\"T_391b25be_cc9d_11ec_98b0_f4ee08992b84row7_col12\" class=\"data row7 col12\" >-0.0163455</td> \n",
       "        <td id=\"T_391b25be_cc9d_11ec_98b0_f4ee08992b84row7_col13\" class=\"data row7 col13\" >0.0469737</td> \n",
       "        <td id=\"T_391b25be_cc9d_11ec_98b0_f4ee08992b84row7_col14\" class=\"data row7 col14\" >-0.0688298</td> \n",
       "        <td id=\"T_391b25be_cc9d_11ec_98b0_f4ee08992b84row7_col15\" class=\"data row7 col15\" >0.0102472</td> \n",
       "        <td id=\"T_391b25be_cc9d_11ec_98b0_f4ee08992b84row7_col16\" class=\"data row7 col16\" >0.00153965</td> \n",
       "        <td id=\"T_391b25be_cc9d_11ec_98b0_f4ee08992b84row7_col17\" class=\"data row7 col17\" >nan</td> \n",
       "        <td id=\"T_391b25be_cc9d_11ec_98b0_f4ee08992b84row7_col18\" class=\"data row7 col18\" >-0.0102472</td> \n",
       "        <td id=\"T_391b25be_cc9d_11ec_98b0_f4ee08992b84row7_col19\" class=\"data row7 col19\" >0.0713801</td> \n",
       "        <td id=\"T_391b25be_cc9d_11ec_98b0_f4ee08992b84row7_col20\" class=\"data row7 col20\" >-0.0422433</td> \n",
       "        <td id=\"T_391b25be_cc9d_11ec_98b0_f4ee08992b84row7_col21\" class=\"data row7 col21\" >-0.0557113</td> \n",
       "    </tr>    <tr> \n",
       "        <th id=\"T_391b25be_cc9d_11ec_98b0_f4ee08992b84level0_row8\" class=\"row_heading level0 row8\" >Driving_flag</th> \n",
       "        <td id=\"T_391b25be_cc9d_11ec_98b0_f4ee08992b84row8_col0\" class=\"data row8 col0\" >-0.00197711</td> \n",
       "        <td id=\"T_391b25be_cc9d_11ec_98b0_f4ee08992b84row8_col1\" class=\"data row8 col1\" >0.0154215</td> \n",
       "        <td id=\"T_391b25be_cc9d_11ec_98b0_f4ee08992b84row8_col2\" class=\"data row8 col2\" >-0.0217237</td> \n",
       "        <td id=\"T_391b25be_cc9d_11ec_98b0_f4ee08992b84row8_col3\" class=\"data row8 col3\" >-0.0177002</td> \n",
       "        <td id=\"T_391b25be_cc9d_11ec_98b0_f4ee08992b84row8_col4\" class=\"data row8 col4\" >0.0152878</td> \n",
       "        <td id=\"T_391b25be_cc9d_11ec_98b0_f4ee08992b84row8_col5\" class=\"data row8 col5\" >-0.28713</td> \n",
       "        <td id=\"T_391b25be_cc9d_11ec_98b0_f4ee08992b84row8_col6\" class=\"data row8 col6\" >0.000230263</td> \n",
       "        <td id=\"T_391b25be_cc9d_11ec_98b0_f4ee08992b84row8_col7\" class=\"data row8 col7\" >-0.0542108</td> \n",
       "        <td id=\"T_391b25be_cc9d_11ec_98b0_f4ee08992b84row8_col8\" class=\"data row8 col8\" >1</td> \n",
       "        <td id=\"T_391b25be_cc9d_11ec_98b0_f4ee08992b84row8_col9\" class=\"data row8 col9\" >-0.00699388</td> \n",
       "        <td id=\"T_391b25be_cc9d_11ec_98b0_f4ee08992b84row8_col10\" class=\"data row8 col10\" >0.00216601</td> \n",
       "        <td id=\"T_391b25be_cc9d_11ec_98b0_f4ee08992b84row8_col11\" class=\"data row8 col11\" >0.00195406</td> \n",
       "        <td id=\"T_391b25be_cc9d_11ec_98b0_f4ee08992b84row8_col12\" class=\"data row8 col12\" >-0.0265342</td> \n",
       "        <td id=\"T_391b25be_cc9d_11ec_98b0_f4ee08992b84row8_col13\" class=\"data row8 col13\" >0.00432144</td> \n",
       "        <td id=\"T_391b25be_cc9d_11ec_98b0_f4ee08992b84row8_col14\" class=\"data row8 col14\" >-0.0156873</td> \n",
       "        <td id=\"T_391b25be_cc9d_11ec_98b0_f4ee08992b84row8_col15\" class=\"data row8 col15\" >0.000196558</td> \n",
       "        <td id=\"T_391b25be_cc9d_11ec_98b0_f4ee08992b84row8_col16\" class=\"data row8 col16\" >-0.0109177</td> \n",
       "        <td id=\"T_391b25be_cc9d_11ec_98b0_f4ee08992b84row8_col17\" class=\"data row8 col17\" >nan</td> \n",
       "        <td id=\"T_391b25be_cc9d_11ec_98b0_f4ee08992b84row8_col18\" class=\"data row8 col18\" >-0.000196558</td> \n",
       "        <td id=\"T_391b25be_cc9d_11ec_98b0_f4ee08992b84row8_col19\" class=\"data row8 col19\" >0.0197578</td> \n",
       "        <td id=\"T_391b25be_cc9d_11ec_98b0_f4ee08992b84row8_col20\" class=\"data row8 col20\" >0.0224392</td> \n",
       "        <td id=\"T_391b25be_cc9d_11ec_98b0_f4ee08992b84row8_col21\" class=\"data row8 col21\" >0.00396888</td> \n",
       "    </tr>    <tr> \n",
       "        <th id=\"T_391b25be_cc9d_11ec_98b0_f4ee08992b84level0_row9\" class=\"row_heading level0 row9\" >Passport_flag</th> \n",
       "        <td id=\"T_391b25be_cc9d_11ec_98b0_f4ee08992b84row9_col0\" class=\"data row9 col0\" >0.00124179</td> \n",
       "        <td id=\"T_391b25be_cc9d_11ec_98b0_f4ee08992b84row9_col1\" class=\"data row9 col1\" >-0.00597082</td> \n",
       "        <td id=\"T_391b25be_cc9d_11ec_98b0_f4ee08992b84row9_col2\" class=\"data row9 col2\" >0.010548</td> \n",
       "        <td id=\"T_391b25be_cc9d_11ec_98b0_f4ee08992b84row9_col3\" class=\"data row9 col3\" >-0.0141586</td> \n",
       "        <td id=\"T_391b25be_cc9d_11ec_98b0_f4ee08992b84row9_col4\" class=\"data row9 col4\" >-0.00102771</td> \n",
       "        <td id=\"T_391b25be_cc9d_11ec_98b0_f4ee08992b84row9_col5\" class=\"data row9 col5\" >-0.0825455</td> \n",
       "        <td id=\"T_391b25be_cc9d_11ec_98b0_f4ee08992b84row9_col6\" class=\"data row9 col6\" >-0.00223982</td> \n",
       "        <td id=\"T_391b25be_cc9d_11ec_98b0_f4ee08992b84row9_col7\" class=\"data row9 col7\" >-0.0184071</td> \n",
       "        <td id=\"T_391b25be_cc9d_11ec_98b0_f4ee08992b84row9_col8\" class=\"data row9 col8\" >-0.00699388</td> \n",
       "        <td id=\"T_391b25be_cc9d_11ec_98b0_f4ee08992b84row9_col9\" class=\"data row9 col9\" >1</td> \n",
       "        <td id=\"T_391b25be_cc9d_11ec_98b0_f4ee08992b84row9_col10\" class=\"data row9 col10\" >0.0177847</td> \n",
       "        <td id=\"T_391b25be_cc9d_11ec_98b0_f4ee08992b84row9_col11\" class=\"data row9 col11\" >-0.00445378</td> \n",
       "        <td id=\"T_391b25be_cc9d_11ec_98b0_f4ee08992b84row9_col12\" class=\"data row9 col12\" >-0.0120031</td> \n",
       "        <td id=\"T_391b25be_cc9d_11ec_98b0_f4ee08992b84row9_col13\" class=\"data row9 col13\" >-0.0104032</td> \n",
       "        <td id=\"T_391b25be_cc9d_11ec_98b0_f4ee08992b84row9_col14\" class=\"data row9 col14\" >-0.00885683</td> \n",
       "        <td id=\"T_391b25be_cc9d_11ec_98b0_f4ee08992b84row9_col15\" class=\"data row9 col15\" >0.00855259</td> \n",
       "        <td id=\"T_391b25be_cc9d_11ec_98b0_f4ee08992b84row9_col16\" class=\"data row9 col16\" >-0.00882603</td> \n",
       "        <td id=\"T_391b25be_cc9d_11ec_98b0_f4ee08992b84row9_col17\" class=\"data row9 col17\" >nan</td> \n",
       "        <td id=\"T_391b25be_cc9d_11ec_98b0_f4ee08992b84row9_col18\" class=\"data row9 col18\" >-0.00855259</td> \n",
       "        <td id=\"T_391b25be_cc9d_11ec_98b0_f4ee08992b84row9_col19\" class=\"data row9 col19\" >-0.00889001</td> \n",
       "        <td id=\"T_391b25be_cc9d_11ec_98b0_f4ee08992b84row9_col20\" class=\"data row9 col20\" >0.0272957</td> \n",
       "        <td id=\"T_391b25be_cc9d_11ec_98b0_f4ee08992b84row9_col21\" class=\"data row9 col21\" >0.01699</td> \n",
       "    </tr>    <tr> \n",
       "        <th id=\"T_391b25be_cc9d_11ec_98b0_f4ee08992b84level0_row10\" class=\"row_heading level0 row10\" >PERFORM_CNS.SCORE</th> \n",
       "        <td id=\"T_391b25be_cc9d_11ec_98b0_f4ee08992b84row10_col0\" class=\"data row10 col0\" >0.00941437</td> \n",
       "        <td id=\"T_391b25be_cc9d_11ec_98b0_f4ee08992b84row10_col1\" class=\"data row10 col1\" >-0.0523278</td> \n",
       "        <td id=\"T_391b25be_cc9d_11ec_98b0_f4ee08992b84row10_col2\" class=\"data row10 col2\" >0.0885374</td> \n",
       "        <td id=\"T_391b25be_cc9d_11ec_98b0_f4ee08992b84row10_col3\" class=\"data row10 col3\" >-0.00645976</td> \n",
       "        <td id=\"T_391b25be_cc9d_11ec_98b0_f4ee08992b84row10_col4\" class=\"data row10 col4\" >-0.00935675</td> \n",
       "        <td id=\"T_391b25be_cc9d_11ec_98b0_f4ee08992b84row10_col5\" class=\"data row10 col5\" >0.0677885</td> \n",
       "        <td id=\"T_391b25be_cc9d_11ec_98b0_f4ee08992b84row10_col6\" class=\"data row10 col6\" >0.0228773</td> \n",
       "        <td id=\"T_391b25be_cc9d_11ec_98b0_f4ee08992b84row10_col7\" class=\"data row10 col7\" >-0.0706784</td> \n",
       "        <td id=\"T_391b25be_cc9d_11ec_98b0_f4ee08992b84row10_col8\" class=\"data row10 col8\" >0.00216601</td> \n",
       "        <td id=\"T_391b25be_cc9d_11ec_98b0_f4ee08992b84row10_col9\" class=\"data row10 col9\" >0.0177847</td> \n",
       "        <td id=\"T_391b25be_cc9d_11ec_98b0_f4ee08992b84row10_col10\" class=\"data row10 col10\" >1</td> \n",
       "        <td id=\"T_391b25be_cc9d_11ec_98b0_f4ee08992b84row10_col11\" class=\"data row10 col11\" >0.162501</td> \n",
       "        <td id=\"T_391b25be_cc9d_11ec_98b0_f4ee08992b84row10_col12\" class=\"data row10 col12\" >0.146122</td> \n",
       "        <td id=\"T_391b25be_cc9d_11ec_98b0_f4ee08992b84row10_col13\" class=\"data row10 col13\" >-0.0608364</td> \n",
       "        <td id=\"T_391b25be_cc9d_11ec_98b0_f4ee08992b84row10_col14\" class=\"data row10 col14\" >-0.016685</td> \n",
       "        <td id=\"T_391b25be_cc9d_11ec_98b0_f4ee08992b84row10_col15\" class=\"data row10 col15\" >-0.16875</td> \n",
       "        <td id=\"T_391b25be_cc9d_11ec_98b0_f4ee08992b84row10_col16\" class=\"data row10 col16\" >-0.00471352</td> \n",
       "        <td id=\"T_391b25be_cc9d_11ec_98b0_f4ee08992b84row10_col17\" class=\"data row10 col17\" >nan</td> \n",
       "        <td id=\"T_391b25be_cc9d_11ec_98b0_f4ee08992b84row10_col18\" class=\"data row10 col18\" >0.16875</td> \n",
       "        <td id=\"T_391b25be_cc9d_11ec_98b0_f4ee08992b84row10_col19\" class=\"data row10 col19\" >-0.0757411</td> \n",
       "        <td id=\"T_391b25be_cc9d_11ec_98b0_f4ee08992b84row10_col20\" class=\"data row10 col20\" >0.404417</td> \n",
       "        <td id=\"T_391b25be_cc9d_11ec_98b0_f4ee08992b84row10_col21\" class=\"data row10 col21\" >0.656772</td> \n",
       "    </tr>    <tr> \n",
       "        <th id=\"T_391b25be_cc9d_11ec_98b0_f4ee08992b84level0_row11\" class=\"row_heading level0 row11\" >DELINQUENT.ACCTS.IN.LAST.SIX.MONTHS</th> \n",
       "        <td id=\"T_391b25be_cc9d_11ec_98b0_f4ee08992b84row11_col0\" class=\"data row11 col0\" >0.0203509</td> \n",
       "        <td id=\"T_391b25be_cc9d_11ec_98b0_f4ee08992b84row11_col1\" class=\"data row11 col1\" >-0.00225663</td> \n",
       "        <td id=\"T_391b25be_cc9d_11ec_98b0_f4ee08992b84row11_col2\" class=\"data row11 col2\" >0.0386524</td> \n",
       "        <td id=\"T_391b25be_cc9d_11ec_98b0_f4ee08992b84row11_col3\" class=\"data row11 col3\" >0.00037732</td> \n",
       "        <td id=\"T_391b25be_cc9d_11ec_98b0_f4ee08992b84row11_col4\" class=\"data row11 col4\" >0.0237837</td> \n",
       "        <td id=\"T_391b25be_cc9d_11ec_98b0_f4ee08992b84row11_col5\" class=\"data row11 col5\" >0.022699</td> \n",
       "        <td id=\"T_391b25be_cc9d_11ec_98b0_f4ee08992b84row11_col6\" class=\"data row11 col6\" >-0.000498998</td> \n",
       "        <td id=\"T_391b25be_cc9d_11ec_98b0_f4ee08992b84row11_col7\" class=\"data row11 col7\" >-0.0212176</td> \n",
       "        <td id=\"T_391b25be_cc9d_11ec_98b0_f4ee08992b84row11_col8\" class=\"data row11 col8\" >0.00195406</td> \n",
       "        <td id=\"T_391b25be_cc9d_11ec_98b0_f4ee08992b84row11_col9\" class=\"data row11 col9\" >-0.00445378</td> \n",
       "        <td id=\"T_391b25be_cc9d_11ec_98b0_f4ee08992b84row11_col10\" class=\"data row11 col10\" >0.162501</td> \n",
       "        <td id=\"T_391b25be_cc9d_11ec_98b0_f4ee08992b84row11_col11\" class=\"data row11 col11\" >1</td> \n",
       "        <td id=\"T_391b25be_cc9d_11ec_98b0_f4ee08992b84row11_col12\" class=\"data row11 col12\" >0.0646627</td> \n",
       "        <td id=\"T_391b25be_cc9d_11ec_98b0_f4ee08992b84row11_col13\" class=\"data row11 col13\" >0.0322891</td> \n",
       "        <td id=\"T_391b25be_cc9d_11ec_98b0_f4ee08992b84row11_col14\" class=\"data row11 col14\" >0.0169171</td> \n",
       "        <td id=\"T_391b25be_cc9d_11ec_98b0_f4ee08992b84row11_col15\" class=\"data row11 col15\" >-0.0772143</td> \n",
       "        <td id=\"T_391b25be_cc9d_11ec_98b0_f4ee08992b84row11_col16\" class=\"data row11 col16\" >0.00255933</td> \n",
       "        <td id=\"T_391b25be_cc9d_11ec_98b0_f4ee08992b84row11_col17\" class=\"data row11 col17\" >nan</td> \n",
       "        <td id=\"T_391b25be_cc9d_11ec_98b0_f4ee08992b84row11_col18\" class=\"data row11 col18\" >0.0772143</td> \n",
       "        <td id=\"T_391b25be_cc9d_11ec_98b0_f4ee08992b84row11_col19\" class=\"data row11 col19\" >-0.0352119</td> \n",
       "        <td id=\"T_391b25be_cc9d_11ec_98b0_f4ee08992b84row11_col20\" class=\"data row11 col20\" >0.260013</td> \n",
       "        <td id=\"T_391b25be_cc9d_11ec_98b0_f4ee08992b84row11_col21\" class=\"data row11 col21\" >0.21172</td> \n",
       "    </tr>    <tr> \n",
       "        <th id=\"T_391b25be_cc9d_11ec_98b0_f4ee08992b84level0_row12\" class=\"row_heading level0 row12\" >NO.OF_INQUIRIES</th> \n",
       "        <td id=\"T_391b25be_cc9d_11ec_98b0_f4ee08992b84row12_col0\" class=\"data row12 col0\" >0.0354285</td> \n",
       "        <td id=\"T_391b25be_cc9d_11ec_98b0_f4ee08992b84row12_col1\" class=\"data row12 col1\" >-0.0189742</td> \n",
       "        <td id=\"T_391b25be_cc9d_11ec_98b0_f4ee08992b84row12_col2\" class=\"data row12 col2\" >0.0879595</td> \n",
       "        <td id=\"T_391b25be_cc9d_11ec_98b0_f4ee08992b84row12_col3\" class=\"data row12 col3\" >0.00401198</td> \n",
       "        <td id=\"T_391b25be_cc9d_11ec_98b0_f4ee08992b84row12_col4\" class=\"data row12 col4\" >0.00817586</td> \n",
       "        <td id=\"T_391b25be_cc9d_11ec_98b0_f4ee08992b84row12_col5\" class=\"data row12 col5\" >0.0285072</td> \n",
       "        <td id=\"T_391b25be_cc9d_11ec_98b0_f4ee08992b84row12_col6\" class=\"data row12 col6\" >0.024491</td> \n",
       "        <td id=\"T_391b25be_cc9d_11ec_98b0_f4ee08992b84row12_col7\" class=\"data row12 col7\" >-0.0163455</td> \n",
       "        <td id=\"T_391b25be_cc9d_11ec_98b0_f4ee08992b84row12_col8\" class=\"data row12 col8\" >-0.0265342</td> \n",
       "        <td id=\"T_391b25be_cc9d_11ec_98b0_f4ee08992b84row12_col9\" class=\"data row12 col9\" >-0.0120031</td> \n",
       "        <td id=\"T_391b25be_cc9d_11ec_98b0_f4ee08992b84row12_col10\" class=\"data row12 col10\" >0.146122</td> \n",
       "        <td id=\"T_391b25be_cc9d_11ec_98b0_f4ee08992b84row12_col11\" class=\"data row12 col11\" >0.0646627</td> \n",
       "        <td id=\"T_391b25be_cc9d_11ec_98b0_f4ee08992b84row12_col12\" class=\"data row12 col12\" >1</td> \n",
       "        <td id=\"T_391b25be_cc9d_11ec_98b0_f4ee08992b84row12_col13\" class=\"data row12 col13\" >0.0420416</td> \n",
       "        <td id=\"T_391b25be_cc9d_11ec_98b0_f4ee08992b84row12_col14\" class=\"data row12 col14\" >-0.00481865</td> \n",
       "        <td id=\"T_391b25be_cc9d_11ec_98b0_f4ee08992b84row12_col15\" class=\"data row12 col15\" >-0.0111601</td> \n",
       "        <td id=\"T_391b25be_cc9d_11ec_98b0_f4ee08992b84row12_col16\" class=\"data row12 col16\" >0.0111294</td> \n",
       "        <td id=\"T_391b25be_cc9d_11ec_98b0_f4ee08992b84row12_col17\" class=\"data row12 col17\" >nan</td> \n",
       "        <td id=\"T_391b25be_cc9d_11ec_98b0_f4ee08992b84row12_col18\" class=\"data row12 col18\" >0.0111601</td> \n",
       "        <td id=\"T_391b25be_cc9d_11ec_98b0_f4ee08992b84row12_col19\" class=\"data row12 col19\" >-0.072833</td> \n",
       "        <td id=\"T_391b25be_cc9d_11ec_98b0_f4ee08992b84row12_col20\" class=\"data row12 col20\" >0.0527365</td> \n",
       "        <td id=\"T_391b25be_cc9d_11ec_98b0_f4ee08992b84row12_col21\" class=\"data row12 col21\" >0.092381</td> \n",
       "    </tr>    <tr> \n",
       "        <th id=\"T_391b25be_cc9d_11ec_98b0_f4ee08992b84level0_row13\" class=\"row_heading level0 row13\" >loan_default</th> \n",
       "        <td id=\"T_391b25be_cc9d_11ec_98b0_f4ee08992b84row13_col0\" class=\"data row13 col0\" >0.0628052</td> \n",
       "        <td id=\"T_391b25be_cc9d_11ec_98b0_f4ee08992b84row13_col1\" class=\"data row13 col1\" >0.00253504</td> \n",
       "        <td id=\"T_391b25be_cc9d_11ec_98b0_f4ee08992b84row13_col2\" class=\"data row13 col2\" >0.095423</td> \n",
       "        <td id=\"T_391b25be_cc9d_11ec_98b0_f4ee08992b84row13_col3\" class=\"data row13 col3\" >0.0372428</td> \n",
       "        <td id=\"T_391b25be_cc9d_11ec_98b0_f4ee08992b84row13_col4\" class=\"data row13 col4\" >0.0233668</td> \n",
       "        <td id=\"T_391b25be_cc9d_11ec_98b0_f4ee08992b84row13_col5\" class=\"data row13 col5\" >-0.0506243</td> \n",
       "        <td id=\"T_391b25be_cc9d_11ec_98b0_f4ee08992b84row13_col6\" class=\"data row13 col6\" >0.00777149</td> \n",
       "        <td id=\"T_391b25be_cc9d_11ec_98b0_f4ee08992b84row13_col7\" class=\"data row13 col7\" >0.0469737</td> \n",
       "        <td id=\"T_391b25be_cc9d_11ec_98b0_f4ee08992b84row13_col8\" class=\"data row13 col8\" >0.00432144</td> \n",
       "        <td id=\"T_391b25be_cc9d_11ec_98b0_f4ee08992b84row13_col9\" class=\"data row13 col9\" >-0.0104032</td> \n",
       "        <td id=\"T_391b25be_cc9d_11ec_98b0_f4ee08992b84row13_col10\" class=\"data row13 col10\" >-0.0608364</td> \n",
       "        <td id=\"T_391b25be_cc9d_11ec_98b0_f4ee08992b84row13_col11\" class=\"data row13 col11\" >0.0322891</td> \n",
       "        <td id=\"T_391b25be_cc9d_11ec_98b0_f4ee08992b84row13_col12\" class=\"data row13 col12\" >0.0420416</td> \n",
       "        <td id=\"T_391b25be_cc9d_11ec_98b0_f4ee08992b84row13_col13\" class=\"data row13 col13\" >1</td> \n",
       "        <td id=\"T_391b25be_cc9d_11ec_98b0_f4ee08992b84row13_col14\" class=\"data row13 col14\" >0.0173635</td> \n",
       "        <td id=\"T_391b25be_cc9d_11ec_98b0_f4ee08992b84row13_col15\" class=\"data row13 col15\" >0.0373119</td> \n",
       "        <td id=\"T_391b25be_cc9d_11ec_98b0_f4ee08992b84row13_col16\" class=\"data row13 col16\" >0.0113062</td> \n",
       "        <td id=\"T_391b25be_cc9d_11ec_98b0_f4ee08992b84row13_col17\" class=\"data row13 col17\" >nan</td> \n",
       "        <td id=\"T_391b25be_cc9d_11ec_98b0_f4ee08992b84row13_col18\" class=\"data row13 col18\" >-0.0373119</td> \n",
       "        <td id=\"T_391b25be_cc9d_11ec_98b0_f4ee08992b84row13_col19\" class=\"data row13 col19\" >-0.082446</td> \n",
       "        <td id=\"T_391b25be_cc9d_11ec_98b0_f4ee08992b84row13_col20\" class=\"data row13 col20\" >-0.0393622</td> \n",
       "        <td id=\"T_391b25be_cc9d_11ec_98b0_f4ee08992b84row13_col21\" class=\"data row13 col21\" >-0.0301518</td> \n",
       "    </tr>    <tr> \n",
       "        <th id=\"T_391b25be_cc9d_11ec_98b0_f4ee08992b84level0_row14\" class=\"row_heading level0 row14\" >region</th> \n",
       "        <td id=\"T_391b25be_cc9d_11ec_98b0_f4ee08992b84row14_col0\" class=\"data row14 col0\" >0.0767351</td> \n",
       "        <td id=\"T_391b25be_cc9d_11ec_98b0_f4ee08992b84row14_col1\" class=\"data row14 col1\" >0.0872942</td> \n",
       "        <td id=\"T_391b25be_cc9d_11ec_98b0_f4ee08992b84row14_col2\" class=\"data row14 col2\" >-0.00801453</td> \n",
       "        <td id=\"T_391b25be_cc9d_11ec_98b0_f4ee08992b84row14_col3\" class=\"data row14 col3\" >0.588982</td> \n",
       "        <td id=\"T_391b25be_cc9d_11ec_98b0_f4ee08992b84row14_col4\" class=\"data row14 col4\" >-0.030499</td> \n",
       "        <td id=\"T_391b25be_cc9d_11ec_98b0_f4ee08992b84row14_col5\" class=\"data row14 col5\" >0.0637384</td> \n",
       "        <td id=\"T_391b25be_cc9d_11ec_98b0_f4ee08992b84row14_col6\" class=\"data row14 col6\" >-0.0118472</td> \n",
       "        <td id=\"T_391b25be_cc9d_11ec_98b0_f4ee08992b84row14_col7\" class=\"data row14 col7\" >-0.0688298</td> \n",
       "        <td id=\"T_391b25be_cc9d_11ec_98b0_f4ee08992b84row14_col8\" class=\"data row14 col8\" >-0.0156873</td> \n",
       "        <td id=\"T_391b25be_cc9d_11ec_98b0_f4ee08992b84row14_col9\" class=\"data row14 col9\" >-0.00885683</td> \n",
       "        <td id=\"T_391b25be_cc9d_11ec_98b0_f4ee08992b84row14_col10\" class=\"data row14 col10\" >-0.016685</td> \n",
       "        <td id=\"T_391b25be_cc9d_11ec_98b0_f4ee08992b84row14_col11\" class=\"data row14 col11\" >0.0169171</td> \n",
       "        <td id=\"T_391b25be_cc9d_11ec_98b0_f4ee08992b84row14_col12\" class=\"data row14 col12\" >-0.00481865</td> \n",
       "        <td id=\"T_391b25be_cc9d_11ec_98b0_f4ee08992b84row14_col13\" class=\"data row14 col13\" >0.0173635</td> \n",
       "        <td id=\"T_391b25be_cc9d_11ec_98b0_f4ee08992b84row14_col14\" class=\"data row14 col14\" >1</td> \n",
       "        <td id=\"T_391b25be_cc9d_11ec_98b0_f4ee08992b84row14_col15\" class=\"data row14 col15\" >0.0283113</td> \n",
       "        <td id=\"T_391b25be_cc9d_11ec_98b0_f4ee08992b84row14_col16\" class=\"data row14 col16\" >-0.0178631</td> \n",
       "        <td id=\"T_391b25be_cc9d_11ec_98b0_f4ee08992b84row14_col17\" class=\"data row14 col17\" >nan</td> \n",
       "        <td id=\"T_391b25be_cc9d_11ec_98b0_f4ee08992b84row14_col18\" class=\"data row14 col18\" >-0.0283113</td> \n",
       "        <td id=\"T_391b25be_cc9d_11ec_98b0_f4ee08992b84row14_col19\" class=\"data row14 col19\" >0.00652802</td> \n",
       "        <td id=\"T_391b25be_cc9d_11ec_98b0_f4ee08992b84row14_col20\" class=\"data row14 col20\" >0.0122946</td> \n",
       "        <td id=\"T_391b25be_cc9d_11ec_98b0_f4ee08992b84row14_col21\" class=\"data row14 col21\" >-0.00848617</td> \n",
       "    </tr>    <tr> \n",
       "        <th id=\"T_391b25be_cc9d_11ec_98b0_f4ee08992b84level0_row15\" class=\"row_heading level0 row15\" >Year_of_birth</th> \n",
       "        <td id=\"T_391b25be_cc9d_11ec_98b0_f4ee08992b84row15_col0\" class=\"data row15 col0\" >0.0666773</td> \n",
       "        <td id=\"T_391b25be_cc9d_11ec_98b0_f4ee08992b84row15_col1\" class=\"data row15 col1\" >0.123879</td> \n",
       "        <td id=\"T_391b25be_cc9d_11ec_98b0_f4ee08992b84row15_col2\" class=\"data row15 col2\" >-0.0776515</td> \n",
       "        <td id=\"T_391b25be_cc9d_11ec_98b0_f4ee08992b84row15_col3\" class=\"data row15 col3\" >-0.00324711</td> \n",
       "        <td id=\"T_391b25be_cc9d_11ec_98b0_f4ee08992b84row15_col4\" class=\"data row15 col4\" >-0.166425</td> \n",
       "        <td id=\"T_391b25be_cc9d_11ec_98b0_f4ee08992b84row15_col5\" class=\"data row15 col5\" >-0.00895704</td> \n",
       "        <td id=\"T_391b25be_cc9d_11ec_98b0_f4ee08992b84row15_col6\" class=\"data row15 col6\" >-0.00120251</td> \n",
       "        <td id=\"T_391b25be_cc9d_11ec_98b0_f4ee08992b84row15_col7\" class=\"data row15 col7\" >0.0102472</td> \n",
       "        <td id=\"T_391b25be_cc9d_11ec_98b0_f4ee08992b84row15_col8\" class=\"data row15 col8\" >0.000196558</td> \n",
       "        <td id=\"T_391b25be_cc9d_11ec_98b0_f4ee08992b84row15_col9\" class=\"data row15 col9\" >0.00855259</td> \n",
       "        <td id=\"T_391b25be_cc9d_11ec_98b0_f4ee08992b84row15_col10\" class=\"data row15 col10\" >-0.16875</td> \n",
       "        <td id=\"T_391b25be_cc9d_11ec_98b0_f4ee08992b84row15_col11\" class=\"data row15 col11\" >-0.0772143</td> \n",
       "        <td id=\"T_391b25be_cc9d_11ec_98b0_f4ee08992b84row15_col12\" class=\"data row15 col12\" >-0.0111601</td> \n",
       "        <td id=\"T_391b25be_cc9d_11ec_98b0_f4ee08992b84row15_col13\" class=\"data row15 col13\" >0.0373119</td> \n",
       "        <td id=\"T_391b25be_cc9d_11ec_98b0_f4ee08992b84row15_col14\" class=\"data row15 col14\" >0.0283113</td> \n",
       "        <td id=\"T_391b25be_cc9d_11ec_98b0_f4ee08992b84row15_col15\" class=\"data row15 col15\" >1</td> \n",
       "        <td id=\"T_391b25be_cc9d_11ec_98b0_f4ee08992b84row15_col16\" class=\"data row15 col16\" >-0.00578194</td> \n",
       "        <td id=\"T_391b25be_cc9d_11ec_98b0_f4ee08992b84row15_col17\" class=\"data row15 col17\" >nan</td> \n",
       "        <td id=\"T_391b25be_cc9d_11ec_98b0_f4ee08992b84row15_col18\" class=\"data row15 col18\" >-1</td> \n",
       "        <td id=\"T_391b25be_cc9d_11ec_98b0_f4ee08992b84row15_col19\" class=\"data row15 col19\" >0.0620769</td> \n",
       "        <td id=\"T_391b25be_cc9d_11ec_98b0_f4ee08992b84row15_col20\" class=\"data row15 col20\" >-0.284438</td> \n",
       "        <td id=\"T_391b25be_cc9d_11ec_98b0_f4ee08992b84row15_col21\" class=\"data row15 col21\" >-0.135373</td> \n",
       "    </tr>    <tr> \n",
       "        <th id=\"T_391b25be_cc9d_11ec_98b0_f4ee08992b84level0_row16\" class=\"row_heading level0 row16\" >DisbursalMonth</th> \n",
       "        <td id=\"T_391b25be_cc9d_11ec_98b0_f4ee08992b84row16_col0\" class=\"data row16 col0\" >0.0645363</td> \n",
       "        <td id=\"T_391b25be_cc9d_11ec_98b0_f4ee08992b84row16_col1\" class=\"data row16 col1\" >0.0649061</td> \n",
       "        <td id=\"T_391b25be_cc9d_11ec_98b0_f4ee08992b84row16_col2\" class=\"data row16 col2\" >-0.015262</td> \n",
       "        <td id=\"T_391b25be_cc9d_11ec_98b0_f4ee08992b84row16_col3\" class=\"data row16 col3\" >-0.003223</td> \n",
       "        <td id=\"T_391b25be_cc9d_11ec_98b0_f4ee08992b84row16_col4\" class=\"data row16 col4\" >-0.00359243</td> \n",
       "        <td id=\"T_391b25be_cc9d_11ec_98b0_f4ee08992b84row16_col5\" class=\"data row16 col5\" >-0.000340303</td> \n",
       "        <td id=\"T_391b25be_cc9d_11ec_98b0_f4ee08992b84row16_col6\" class=\"data row16 col6\" >-0.00520818</td> \n",
       "        <td id=\"T_391b25be_cc9d_11ec_98b0_f4ee08992b84row16_col7\" class=\"data row16 col7\" >0.00153965</td> \n",
       "        <td id=\"T_391b25be_cc9d_11ec_98b0_f4ee08992b84row16_col8\" class=\"data row16 col8\" >-0.0109177</td> \n",
       "        <td id=\"T_391b25be_cc9d_11ec_98b0_f4ee08992b84row16_col9\" class=\"data row16 col9\" >-0.00882603</td> \n",
       "        <td id=\"T_391b25be_cc9d_11ec_98b0_f4ee08992b84row16_col10\" class=\"data row16 col10\" >-0.00471352</td> \n",
       "        <td id=\"T_391b25be_cc9d_11ec_98b0_f4ee08992b84row16_col11\" class=\"data row16 col11\" >0.00255933</td> \n",
       "        <td id=\"T_391b25be_cc9d_11ec_98b0_f4ee08992b84row16_col12\" class=\"data row16 col12\" >0.0111294</td> \n",
       "        <td id=\"T_391b25be_cc9d_11ec_98b0_f4ee08992b84row16_col13\" class=\"data row16 col13\" >0.0113062</td> \n",
       "        <td id=\"T_391b25be_cc9d_11ec_98b0_f4ee08992b84row16_col14\" class=\"data row16 col14\" >-0.0178631</td> \n",
       "        <td id=\"T_391b25be_cc9d_11ec_98b0_f4ee08992b84row16_col15\" class=\"data row16 col15\" >-0.00578194</td> \n",
       "        <td id=\"T_391b25be_cc9d_11ec_98b0_f4ee08992b84row16_col16\" class=\"data row16 col16\" >1</td> \n",
       "        <td id=\"T_391b25be_cc9d_11ec_98b0_f4ee08992b84row16_col17\" class=\"data row16 col17\" >nan</td> \n",
       "        <td id=\"T_391b25be_cc9d_11ec_98b0_f4ee08992b84row16_col18\" class=\"data row16 col18\" >0.00578194</td> \n",
       "        <td id=\"T_391b25be_cc9d_11ec_98b0_f4ee08992b84row16_col19\" class=\"data row16 col19\" >0.00520698</td> \n",
       "        <td id=\"T_391b25be_cc9d_11ec_98b0_f4ee08992b84row16_col20\" class=\"data row16 col20\" >-0.0224848</td> \n",
       "        <td id=\"T_391b25be_cc9d_11ec_98b0_f4ee08992b84row16_col21\" class=\"data row16 col21\" >-0.00832123</td> \n",
       "    </tr>    <tr> \n",
       "        <th id=\"T_391b25be_cc9d_11ec_98b0_f4ee08992b84level0_row17\" class=\"row_heading level0 row17\" >CY</th> \n",
       "        <td id=\"T_391b25be_cc9d_11ec_98b0_f4ee08992b84row17_col0\" class=\"data row17 col0\" >nan</td> \n",
       "        <td id=\"T_391b25be_cc9d_11ec_98b0_f4ee08992b84row17_col1\" class=\"data row17 col1\" >nan</td> \n",
       "        <td id=\"T_391b25be_cc9d_11ec_98b0_f4ee08992b84row17_col2\" class=\"data row17 col2\" >nan</td> \n",
       "        <td id=\"T_391b25be_cc9d_11ec_98b0_f4ee08992b84row17_col3\" class=\"data row17 col3\" >nan</td> \n",
       "        <td id=\"T_391b25be_cc9d_11ec_98b0_f4ee08992b84row17_col4\" class=\"data row17 col4\" >nan</td> \n",
       "        <td id=\"T_391b25be_cc9d_11ec_98b0_f4ee08992b84row17_col5\" class=\"data row17 col5\" >nan</td> \n",
       "        <td id=\"T_391b25be_cc9d_11ec_98b0_f4ee08992b84row17_col6\" class=\"data row17 col6\" >nan</td> \n",
       "        <td id=\"T_391b25be_cc9d_11ec_98b0_f4ee08992b84row17_col7\" class=\"data row17 col7\" >nan</td> \n",
       "        <td id=\"T_391b25be_cc9d_11ec_98b0_f4ee08992b84row17_col8\" class=\"data row17 col8\" >nan</td> \n",
       "        <td id=\"T_391b25be_cc9d_11ec_98b0_f4ee08992b84row17_col9\" class=\"data row17 col9\" >nan</td> \n",
       "        <td id=\"T_391b25be_cc9d_11ec_98b0_f4ee08992b84row17_col10\" class=\"data row17 col10\" >nan</td> \n",
       "        <td id=\"T_391b25be_cc9d_11ec_98b0_f4ee08992b84row17_col11\" class=\"data row17 col11\" >nan</td> \n",
       "        <td id=\"T_391b25be_cc9d_11ec_98b0_f4ee08992b84row17_col12\" class=\"data row17 col12\" >nan</td> \n",
       "        <td id=\"T_391b25be_cc9d_11ec_98b0_f4ee08992b84row17_col13\" class=\"data row17 col13\" >nan</td> \n",
       "        <td id=\"T_391b25be_cc9d_11ec_98b0_f4ee08992b84row17_col14\" class=\"data row17 col14\" >nan</td> \n",
       "        <td id=\"T_391b25be_cc9d_11ec_98b0_f4ee08992b84row17_col15\" class=\"data row17 col15\" >nan</td> \n",
       "        <td id=\"T_391b25be_cc9d_11ec_98b0_f4ee08992b84row17_col16\" class=\"data row17 col16\" >nan</td> \n",
       "        <td id=\"T_391b25be_cc9d_11ec_98b0_f4ee08992b84row17_col17\" class=\"data row17 col17\" >nan</td> \n",
       "        <td id=\"T_391b25be_cc9d_11ec_98b0_f4ee08992b84row17_col18\" class=\"data row17 col18\" >nan</td> \n",
       "        <td id=\"T_391b25be_cc9d_11ec_98b0_f4ee08992b84row17_col19\" class=\"data row17 col19\" >nan</td> \n",
       "        <td id=\"T_391b25be_cc9d_11ec_98b0_f4ee08992b84row17_col20\" class=\"data row17 col20\" >nan</td> \n",
       "        <td id=\"T_391b25be_cc9d_11ec_98b0_f4ee08992b84row17_col21\" class=\"data row17 col21\" >nan</td> \n",
       "    </tr>    <tr> \n",
       "        <th id=\"T_391b25be_cc9d_11ec_98b0_f4ee08992b84level0_row18\" class=\"row_heading level0 row18\" >AGE</th> \n",
       "        <td id=\"T_391b25be_cc9d_11ec_98b0_f4ee08992b84row18_col0\" class=\"data row18 col0\" >-0.0666773</td> \n",
       "        <td id=\"T_391b25be_cc9d_11ec_98b0_f4ee08992b84row18_col1\" class=\"data row18 col1\" >-0.123879</td> \n",
       "        <td id=\"T_391b25be_cc9d_11ec_98b0_f4ee08992b84row18_col2\" class=\"data row18 col2\" >0.0776515</td> \n",
       "        <td id=\"T_391b25be_cc9d_11ec_98b0_f4ee08992b84row18_col3\" class=\"data row18 col3\" >0.00324711</td> \n",
       "        <td id=\"T_391b25be_cc9d_11ec_98b0_f4ee08992b84row18_col4\" class=\"data row18 col4\" >0.166425</td> \n",
       "        <td id=\"T_391b25be_cc9d_11ec_98b0_f4ee08992b84row18_col5\" class=\"data row18 col5\" >0.00895704</td> \n",
       "        <td id=\"T_391b25be_cc9d_11ec_98b0_f4ee08992b84row18_col6\" class=\"data row18 col6\" >0.00120251</td> \n",
       "        <td id=\"T_391b25be_cc9d_11ec_98b0_f4ee08992b84row18_col7\" class=\"data row18 col7\" >-0.0102472</td> \n",
       "        <td id=\"T_391b25be_cc9d_11ec_98b0_f4ee08992b84row18_col8\" class=\"data row18 col8\" >-0.000196558</td> \n",
       "        <td id=\"T_391b25be_cc9d_11ec_98b0_f4ee08992b84row18_col9\" class=\"data row18 col9\" >-0.00855259</td> \n",
       "        <td id=\"T_391b25be_cc9d_11ec_98b0_f4ee08992b84row18_col10\" class=\"data row18 col10\" >0.16875</td> \n",
       "        <td id=\"T_391b25be_cc9d_11ec_98b0_f4ee08992b84row18_col11\" class=\"data row18 col11\" >0.0772143</td> \n",
       "        <td id=\"T_391b25be_cc9d_11ec_98b0_f4ee08992b84row18_col12\" class=\"data row18 col12\" >0.0111601</td> \n",
       "        <td id=\"T_391b25be_cc9d_11ec_98b0_f4ee08992b84row18_col13\" class=\"data row18 col13\" >-0.0373119</td> \n",
       "        <td id=\"T_391b25be_cc9d_11ec_98b0_f4ee08992b84row18_col14\" class=\"data row18 col14\" >-0.0283113</td> \n",
       "        <td id=\"T_391b25be_cc9d_11ec_98b0_f4ee08992b84row18_col15\" class=\"data row18 col15\" >-1</td> \n",
       "        <td id=\"T_391b25be_cc9d_11ec_98b0_f4ee08992b84row18_col16\" class=\"data row18 col16\" >0.00578194</td> \n",
       "        <td id=\"T_391b25be_cc9d_11ec_98b0_f4ee08992b84row18_col17\" class=\"data row18 col17\" >nan</td> \n",
       "        <td id=\"T_391b25be_cc9d_11ec_98b0_f4ee08992b84row18_col18\" class=\"data row18 col18\" >1</td> \n",
       "        <td id=\"T_391b25be_cc9d_11ec_98b0_f4ee08992b84row18_col19\" class=\"data row18 col19\" >-0.0620769</td> \n",
       "        <td id=\"T_391b25be_cc9d_11ec_98b0_f4ee08992b84row18_col20\" class=\"data row18 col20\" >0.284438</td> \n",
       "        <td id=\"T_391b25be_cc9d_11ec_98b0_f4ee08992b84row18_col21\" class=\"data row18 col21\" >0.135373</td> \n",
       "    </tr>    <tr> \n",
       "        <th id=\"T_391b25be_cc9d_11ec_98b0_f4ee08992b84level0_row19\" class=\"row_heading level0 row19\" >asset_disburse</th> \n",
       "        <td id=\"T_391b25be_cc9d_11ec_98b0_f4ee08992b84row19_col0\" class=\"data row19 col0\" >-0.399267</td> \n",
       "        <td id=\"T_391b25be_cc9d_11ec_98b0_f4ee08992b84row19_col1\" class=\"data row19 col1\" >0.250191</td> \n",
       "        <td id=\"T_391b25be_cc9d_11ec_98b0_f4ee08992b84row19_col2\" class=\"data row19 col2\" >-0.930535</td> \n",
       "        <td id=\"T_391b25be_cc9d_11ec_98b0_f4ee08992b84row19_col3\" class=\"data row19 col3\" >-0.0164056</td> \n",
       "        <td id=\"T_391b25be_cc9d_11ec_98b0_f4ee08992b84row19_col4\" class=\"data row19 col4\" >0.0674478</td> \n",
       "        <td id=\"T_391b25be_cc9d_11ec_98b0_f4ee08992b84row19_col5\" class=\"data row19 col5\" >-0.0779899</td> \n",
       "        <td id=\"T_391b25be_cc9d_11ec_98b0_f4ee08992b84row19_col6\" class=\"data row19 col6\" >0.0277217</td> \n",
       "        <td id=\"T_391b25be_cc9d_11ec_98b0_f4ee08992b84row19_col7\" class=\"data row19 col7\" >0.0713801</td> \n",
       "        <td id=\"T_391b25be_cc9d_11ec_98b0_f4ee08992b84row19_col8\" class=\"data row19 col8\" >0.0197578</td> \n",
       "        <td id=\"T_391b25be_cc9d_11ec_98b0_f4ee08992b84row19_col9\" class=\"data row19 col9\" >-0.00889001</td> \n",
       "        <td id=\"T_391b25be_cc9d_11ec_98b0_f4ee08992b84row19_col10\" class=\"data row19 col10\" >-0.0757411</td> \n",
       "        <td id=\"T_391b25be_cc9d_11ec_98b0_f4ee08992b84row19_col11\" class=\"data row19 col11\" >-0.0352119</td> \n",
       "        <td id=\"T_391b25be_cc9d_11ec_98b0_f4ee08992b84row19_col12\" class=\"data row19 col12\" >-0.072833</td> \n",
       "        <td id=\"T_391b25be_cc9d_11ec_98b0_f4ee08992b84row19_col13\" class=\"data row19 col13\" >-0.082446</td> \n",
       "        <td id=\"T_391b25be_cc9d_11ec_98b0_f4ee08992b84row19_col14\" class=\"data row19 col14\" >0.00652802</td> \n",
       "        <td id=\"T_391b25be_cc9d_11ec_98b0_f4ee08992b84row19_col15\" class=\"data row19 col15\" >0.0620769</td> \n",
       "        <td id=\"T_391b25be_cc9d_11ec_98b0_f4ee08992b84row19_col16\" class=\"data row19 col16\" >0.00520698</td> \n",
       "        <td id=\"T_391b25be_cc9d_11ec_98b0_f4ee08992b84row19_col17\" class=\"data row19 col17\" >nan</td> \n",
       "        <td id=\"T_391b25be_cc9d_11ec_98b0_f4ee08992b84row19_col18\" class=\"data row19 col18\" >-0.0620769</td> \n",
       "        <td id=\"T_391b25be_cc9d_11ec_98b0_f4ee08992b84row19_col19\" class=\"data row19 col19\" >1</td> \n",
       "        <td id=\"T_391b25be_cc9d_11ec_98b0_f4ee08992b84row19_col20\" class=\"data row19 col20\" >-0.0332135</td> \n",
       "        <td id=\"T_391b25be_cc9d_11ec_98b0_f4ee08992b84row19_col21\" class=\"data row19 col21\" >-0.0599692</td> \n",
       "    </tr>    <tr> \n",
       "        <th id=\"T_391b25be_cc9d_11ec_98b0_f4ee08992b84level0_row20\" class=\"row_heading level0 row20\" >CREDIT.HISTORY.LENGTH.YEAR</th> \n",
       "        <td id=\"T_391b25be_cc9d_11ec_98b0_f4ee08992b84row20_col0\" class=\"data row20 col0\" >0.0128329</td> \n",
       "        <td id=\"T_391b25be_cc9d_11ec_98b0_f4ee08992b84row20_col1\" class=\"data row20 col1\" >-0.0156547</td> \n",
       "        <td id=\"T_391b25be_cc9d_11ec_98b0_f4ee08992b84row20_col2\" class=\"data row20 col2\" >0.0415187</td> \n",
       "        <td id=\"T_391b25be_cc9d_11ec_98b0_f4ee08992b84row20_col3\" class=\"data row20 col3\" >0.00362634</td> \n",
       "        <td id=\"T_391b25be_cc9d_11ec_98b0_f4ee08992b84row20_col4\" class=\"data row20 col4\" >0.0200114</td> \n",
       "        <td id=\"T_391b25be_cc9d_11ec_98b0_f4ee08992b84row20_col5\" class=\"data row20 col5\" >0.0334598</td> \n",
       "        <td id=\"T_391b25be_cc9d_11ec_98b0_f4ee08992b84row20_col6\" class=\"data row20 col6\" >0.0160899</td> \n",
       "        <td id=\"T_391b25be_cc9d_11ec_98b0_f4ee08992b84row20_col7\" class=\"data row20 col7\" >-0.0422433</td> \n",
       "        <td id=\"T_391b25be_cc9d_11ec_98b0_f4ee08992b84row20_col8\" class=\"data row20 col8\" >0.0224392</td> \n",
       "        <td id=\"T_391b25be_cc9d_11ec_98b0_f4ee08992b84row20_col9\" class=\"data row20 col9\" >0.0272957</td> \n",
       "        <td id=\"T_391b25be_cc9d_11ec_98b0_f4ee08992b84row20_col10\" class=\"data row20 col10\" >0.404417</td> \n",
       "        <td id=\"T_391b25be_cc9d_11ec_98b0_f4ee08992b84row20_col11\" class=\"data row20 col11\" >0.260013</td> \n",
       "        <td id=\"T_391b25be_cc9d_11ec_98b0_f4ee08992b84row20_col12\" class=\"data row20 col12\" >0.0527365</td> \n",
       "        <td id=\"T_391b25be_cc9d_11ec_98b0_f4ee08992b84row20_col13\" class=\"data row20 col13\" >-0.0393622</td> \n",
       "        <td id=\"T_391b25be_cc9d_11ec_98b0_f4ee08992b84row20_col14\" class=\"data row20 col14\" >0.0122946</td> \n",
       "        <td id=\"T_391b25be_cc9d_11ec_98b0_f4ee08992b84row20_col15\" class=\"data row20 col15\" >-0.284438</td> \n",
       "        <td id=\"T_391b25be_cc9d_11ec_98b0_f4ee08992b84row20_col16\" class=\"data row20 col16\" >-0.0224848</td> \n",
       "        <td id=\"T_391b25be_cc9d_11ec_98b0_f4ee08992b84row20_col17\" class=\"data row20 col17\" >nan</td> \n",
       "        <td id=\"T_391b25be_cc9d_11ec_98b0_f4ee08992b84row20_col18\" class=\"data row20 col18\" >0.284438</td> \n",
       "        <td id=\"T_391b25be_cc9d_11ec_98b0_f4ee08992b84row20_col19\" class=\"data row20 col19\" >-0.0332135</td> \n",
       "        <td id=\"T_391b25be_cc9d_11ec_98b0_f4ee08992b84row20_col20\" class=\"data row20 col20\" >1</td> \n",
       "        <td id=\"T_391b25be_cc9d_11ec_98b0_f4ee08992b84row20_col21\" class=\"data row20 col21\" >0.333159</td> \n",
       "    </tr>    <tr> \n",
       "        <th id=\"T_391b25be_cc9d_11ec_98b0_f4ee08992b84level0_row21\" class=\"row_heading level0 row21\" >CREDIT.HISTORY.LENGTH.MONTH</th> \n",
       "        <td id=\"T_391b25be_cc9d_11ec_98b0_f4ee08992b84row21_col0\" class=\"data row21 col0\" >0.00653183</td> \n",
       "        <td id=\"T_391b25be_cc9d_11ec_98b0_f4ee08992b84row21_col1\" class=\"data row21 col1\" >-0.0416164</td> \n",
       "        <td id=\"T_391b25be_cc9d_11ec_98b0_f4ee08992b84row21_col2\" class=\"data row21 col2\" >0.0695743</td> \n",
       "        <td id=\"T_391b25be_cc9d_11ec_98b0_f4ee08992b84row21_col3\" class=\"data row21 col3\" >-0.00361642</td> \n",
       "        <td id=\"T_391b25be_cc9d_11ec_98b0_f4ee08992b84row21_col4\" class=\"data row21 col4\" >0.00042986</td> \n",
       "        <td id=\"T_391b25be_cc9d_11ec_98b0_f4ee08992b84row21_col5\" class=\"data row21 col5\" >0.0552072</td> \n",
       "        <td id=\"T_391b25be_cc9d_11ec_98b0_f4ee08992b84row21_col6\" class=\"data row21 col6\" >0.0199061</td> \n",
       "        <td id=\"T_391b25be_cc9d_11ec_98b0_f4ee08992b84row21_col7\" class=\"data row21 col7\" >-0.0557113</td> \n",
       "        <td id=\"T_391b25be_cc9d_11ec_98b0_f4ee08992b84row21_col8\" class=\"data row21 col8\" >0.00396888</td> \n",
       "        <td id=\"T_391b25be_cc9d_11ec_98b0_f4ee08992b84row21_col9\" class=\"data row21 col9\" >0.01699</td> \n",
       "        <td id=\"T_391b25be_cc9d_11ec_98b0_f4ee08992b84row21_col10\" class=\"data row21 col10\" >0.656772</td> \n",
       "        <td id=\"T_391b25be_cc9d_11ec_98b0_f4ee08992b84row21_col11\" class=\"data row21 col11\" >0.21172</td> \n",
       "        <td id=\"T_391b25be_cc9d_11ec_98b0_f4ee08992b84row21_col12\" class=\"data row21 col12\" >0.092381</td> \n",
       "        <td id=\"T_391b25be_cc9d_11ec_98b0_f4ee08992b84row21_col13\" class=\"data row21 col13\" >-0.0301518</td> \n",
       "        <td id=\"T_391b25be_cc9d_11ec_98b0_f4ee08992b84row21_col14\" class=\"data row21 col14\" >-0.00848617</td> \n",
       "        <td id=\"T_391b25be_cc9d_11ec_98b0_f4ee08992b84row21_col15\" class=\"data row21 col15\" >-0.135373</td> \n",
       "        <td id=\"T_391b25be_cc9d_11ec_98b0_f4ee08992b84row21_col16\" class=\"data row21 col16\" >-0.00832123</td> \n",
       "        <td id=\"T_391b25be_cc9d_11ec_98b0_f4ee08992b84row21_col17\" class=\"data row21 col17\" >nan</td> \n",
       "        <td id=\"T_391b25be_cc9d_11ec_98b0_f4ee08992b84row21_col18\" class=\"data row21 col18\" >0.135373</td> \n",
       "        <td id=\"T_391b25be_cc9d_11ec_98b0_f4ee08992b84row21_col19\" class=\"data row21 col19\" >-0.0599692</td> \n",
       "        <td id=\"T_391b25be_cc9d_11ec_98b0_f4ee08992b84row21_col20\" class=\"data row21 col20\" >0.333159</td> \n",
       "        <td id=\"T_391b25be_cc9d_11ec_98b0_f4ee08992b84row21_col21\" class=\"data row21 col21\" >1</td> \n",
       "    </tr></tbody> \n",
       "</table> "
      ],
      "text/plain": [
       "<pandas.io.formats.style.Styler at 0x19d0da3dcc0>"
      ]
     },
     "execution_count": 33,
     "metadata": {},
     "output_type": "execute_result"
    }
   ],
   "source": [
    "corr = FNL.corr()\n",
    "corr.style.background_gradient(cmap ='coolwarm')"
   ]
  },
  {
   "cell_type": "code",
   "execution_count": null,
   "metadata": {
    "id": "aQ58MM_cbI8q"
   },
   "outputs": [],
   "source": [
    "from statsmodels.stats.outliers_influence import variance_inflation_factor\n",
    "X = FNL[[ 'disbursed_amount', 'asset_cost','branch_id', 'Employment.Type',\n",
    "       'Aadhar_flag', 'PAN_flag', 'VoterID_flag', 'Driving_flag', 'ltv',\n",
    "       'Passport_flag', 'PERFORM_CNS.SCORE',\n",
    "       'DELINQUENT.ACCTS.IN.LAST.SIX.MONTHS',\n",
    "       'NO.OF_INQUIRIES', 'region', 'Year_of_birth',\n",
    "       'DisbursalMonth','asset_disburse',\n",
    "       'CREDIT.HISTORY.LENGTH.YEAR', 'CREDIT.HISTORY.LENGTH.MONTH','AGE']]\n",
    "vif = pd.DataFrame()\n",
    "vif['variables'] = X.columns\n",
    "vif['VIF'] = [variance_inflation_factor(X.values,i) for i in range(X.shape[1])]"
   ]
  },
  {
   "cell_type": "code",
   "execution_count": null,
   "metadata": {
    "id": "KPzUfY-KbI8q",
    "outputId": "242a3ecc-b3d4-40c8-a698-f1f3013cc22d"
   },
   "outputs": [
    {
     "data": {
      "text/html": [
       "<div>\n",
       "<style scoped>\n",
       "    .dataframe tbody tr th:only-of-type {\n",
       "        vertical-align: middle;\n",
       "    }\n",
       "\n",
       "    .dataframe tbody tr th {\n",
       "        vertical-align: top;\n",
       "    }\n",
       "\n",
       "    .dataframe thead th {\n",
       "        text-align: right;\n",
       "    }\n",
       "</style>\n",
       "<table border=\"1\" class=\"dataframe\">\n",
       "  <thead>\n",
       "    <tr style=\"text-align: right;\">\n",
       "      <th></th>\n",
       "      <th>variables</th>\n",
       "      <th>VIF</th>\n",
       "    </tr>\n",
       "  </thead>\n",
       "  <tbody>\n",
       "    <tr>\n",
       "      <th>15</th>\n",
       "      <td>DisbursalMonth</td>\n",
       "      <td>1.011246</td>\n",
       "    </tr>\n",
       "    <tr>\n",
       "      <th>12</th>\n",
       "      <td>NO.OF_INQUIRIES</td>\n",
       "      <td>1.033408</td>\n",
       "    </tr>\n",
       "    <tr>\n",
       "      <th>5</th>\n",
       "      <td>PAN_flag</td>\n",
       "      <td>1.047651</td>\n",
       "    </tr>\n",
       "    <tr>\n",
       "      <th>3</th>\n",
       "      <td>Employment.Type</td>\n",
       "      <td>1.050303</td>\n",
       "    </tr>\n",
       "    <tr>\n",
       "      <th>9</th>\n",
       "      <td>Passport_flag</td>\n",
       "      <td>1.081132</td>\n",
       "    </tr>\n",
       "    <tr>\n",
       "      <th>11</th>\n",
       "      <td>DELINQUENT.ACCTS.IN.LAST.SIX.MONTHS</td>\n",
       "      <td>1.098249</td>\n",
       "    </tr>\n",
       "    <tr>\n",
       "      <th>17</th>\n",
       "      <td>CREDIT.HISTORY.LENGTH.YEAR</td>\n",
       "      <td>1.338745</td>\n",
       "    </tr>\n",
       "    <tr>\n",
       "      <th>2</th>\n",
       "      <td>branch_id</td>\n",
       "      <td>1.550291</td>\n",
       "    </tr>\n",
       "    <tr>\n",
       "      <th>13</th>\n",
       "      <td>region</td>\n",
       "      <td>1.565296</td>\n",
       "    </tr>\n",
       "    <tr>\n",
       "      <th>18</th>\n",
       "      <td>CREDIT.HISTORY.LENGTH.MONTH</td>\n",
       "      <td>1.804535</td>\n",
       "    </tr>\n",
       "    <tr>\n",
       "      <th>7</th>\n",
       "      <td>Driving_flag</td>\n",
       "      <td>1.861593</td>\n",
       "    </tr>\n",
       "    <tr>\n",
       "      <th>10</th>\n",
       "      <td>PERFORM_CNS.SCORE</td>\n",
       "      <td>1.924794</td>\n",
       "    </tr>\n",
       "    <tr>\n",
       "      <th>6</th>\n",
       "      <td>VoterID_flag</td>\n",
       "      <td>6.849119</td>\n",
       "    </tr>\n",
       "    <tr>\n",
       "      <th>4</th>\n",
       "      <td>Aadhar_flag</td>\n",
       "      <td>7.614610</td>\n",
       "    </tr>\n",
       "    <tr>\n",
       "      <th>16</th>\n",
       "      <td>asset_disburse</td>\n",
       "      <td>8.371644</td>\n",
       "    </tr>\n",
       "    <tr>\n",
       "      <th>8</th>\n",
       "      <td>ltv</td>\n",
       "      <td>16.234743</td>\n",
       "    </tr>\n",
       "    <tr>\n",
       "      <th>19</th>\n",
       "      <td>AGE</td>\n",
       "      <td>18.253860</td>\n",
       "    </tr>\n",
       "    <tr>\n",
       "      <th>1</th>\n",
       "      <td>asset_cost</td>\n",
       "      <td>29.962120</td>\n",
       "    </tr>\n",
       "    <tr>\n",
       "      <th>0</th>\n",
       "      <td>disbursed_amount</td>\n",
       "      <td>32.057689</td>\n",
       "    </tr>\n",
       "    <tr>\n",
       "      <th>14</th>\n",
       "      <td>Year_of_birth</td>\n",
       "      <td>841.894365</td>\n",
       "    </tr>\n",
       "  </tbody>\n",
       "</table>\n",
       "</div>"
      ],
      "text/plain": [
       "                              variables         VIF\n",
       "15                       DisbursalMonth    1.011246\n",
       "12                      NO.OF_INQUIRIES    1.033408\n",
       "5                              PAN_flag    1.047651\n",
       "3                       Employment.Type    1.050303\n",
       "9                         Passport_flag    1.081132\n",
       "11  DELINQUENT.ACCTS.IN.LAST.SIX.MONTHS    1.098249\n",
       "17           CREDIT.HISTORY.LENGTH.YEAR    1.338745\n",
       "2                             branch_id    1.550291\n",
       "13                               region    1.565296\n",
       "18          CREDIT.HISTORY.LENGTH.MONTH    1.804535\n",
       "7                          Driving_flag    1.861593\n",
       "10                    PERFORM_CNS.SCORE    1.924794\n",
       "6                          VoterID_flag    6.849119\n",
       "4                           Aadhar_flag    7.614610\n",
       "16                       asset_disburse    8.371644\n",
       "8                                   ltv   16.234743\n",
       "19                                  AGE   18.253860\n",
       "1                            asset_cost   29.962120\n",
       "0                      disbursed_amount   32.057689\n",
       "14                        Year_of_birth  841.894365"
      ]
     },
     "execution_count": 35,
     "metadata": {},
     "output_type": "execute_result"
    }
   ],
   "source": [
    "VIF = pd.DataFrame(vif)\n",
    "VIF.sort_values(by=['VIF'])"
   ]
  },
  {
   "cell_type": "code",
   "execution_count": null,
   "metadata": {
    "id": "b4rtdZKAbI8q",
    "outputId": "008225d3-c0f6-4b1a-eecb-3437b06b86b5"
   },
   "outputs": [
    {
     "name": "stdout",
     "output_type": "stream",
     "text": [
      "Shape of train : (23315, 14)\n",
      "Shape of test : (23315,)\n",
      "Train set: (16320, 14) (16320,)\n",
      "Test set: (6995, 14) (6995,)\n"
     ]
    }
   ],
   "source": [
    "X = FNL[['Passport_flag','NO.OF_INQUIRIES','PAN_flag','DELINQUENT.ACCTS.IN.LAST.SIX.MONTHS',\n",
    "        'CREDIT.HISTORY.LENGTH.MONTH','PERFORM_CNS.SCORE','Employment.Type','region',\n",
    "        'asset_disburse','DisbursalMonth','disbursed_amount','asset_cost','ltv','AGE']]\n",
    "y = FNL['loan_default']\n",
    "\n",
    "\n",
    "# checking the shape of train and test\n",
    "print(\"Shape of train :\", X.shape)\n",
    "print(\"Shape of test :\", y.shape)\n",
    "\n",
    "from sklearn.model_selection import train_test_split\n",
    "x_train,x_test,y_train,y_test=train_test_split(X,y,test_size=0.3,random_state=3,stratify=y)\n",
    "print ('Train set:', x_train.shape,  y_train.shape)\n",
    "print ('Test set:', x_test.shape,  y_test.shape)"
   ]
  },
  {
   "cell_type": "code",
   "execution_count": null,
   "metadata": {
    "id": "QPvBbfOkbI8r"
   },
   "outputs": [],
   "source": [
    "from xgboost import XGBClassifier\n",
    "from sklearn.linear_model import LogisticRegression\n",
    "from sklearn.model_selection import GridSearchCV, StratifiedKFold\n",
    "from sklearn.preprocessing import StandardScaler\n",
    "from sklearn.ensemble import RandomForestClassifier"
   ]
  },
  {
   "cell_type": "code",
   "execution_count": null,
   "metadata": {
    "id": "1uc2YOh0bI8r"
   },
   "outputs": [],
   "source": [
    "from sklearn.model_selection import train_test_split\n",
    "x_train,x_test,y_train,y_test=train_test_split(X,y,test_size=0.3,random_state=3,stratify=y)\n",
    "print ('Train set:', x_train.shape,  y_train.shape)\n",
    "print ('Test set:', x_test.shape,  y_test.shape)"
   ]
  },
  {
   "cell_type": "markdown",
   "metadata": {
    "id": "vbXgEvOmbI8r"
   },
   "source": [
    "### Logistic Regression Base Model"
   ]
  },
  {
   "cell_type": "code",
   "execution_count": null,
   "metadata": {
    "id": "y_NxTFrebI8r"
   },
   "outputs": [],
   "source": [
    "clf = LogisticRegression()\n",
    "clf.fit(x_train,y_train)\n",
    "y_pred = np.array(clf.predict(x_test))\n",
    "y = np.array(y_test)"
   ]
  },
  {
   "cell_type": "code",
   "execution_count": null,
   "metadata": {
    "id": "PfFU5GOTbI8s"
   },
   "outputs": [],
   "source": [
    "from sklearn.metrics import accuracy_score\n",
    "from sklearn.metrics import plot_confusion_matrix\n",
    "from sklearn.metrics import confusion_matrix\n",
    "print('Logistic Regression Base Model Accuracy',\n",
    "      accuracy_score(y_test,y_pred)*100)"
   ]
  },
  {
   "cell_type": "code",
   "execution_count": null,
   "metadata": {
    "id": "cg1CQlIcbI8s"
   },
   "outputs": [],
   "source": [
    "from sklearn.metrics import classification_report\n",
    "import sklearn.metrics as metrics\n",
    "print(classification_report(y_test,y_pred))"
   ]
  },
  {
   "cell_type": "code",
   "execution_count": null,
   "metadata": {
    "id": "RYP5QT6EbI8t"
   },
   "outputs": [],
   "source": [
    "y_pred_proba = clf.predict_proba(x_test)[::,1]\n",
    "fpr, tpr, _ = metrics.roc_curve(y_test,  y_pred_proba)\n",
    "auc = metrics.roc_auc_score(y_test, y_pred_proba)\n",
    "plt.plot(fpr,tpr,label=\"AUC=\"+str(auc))\n",
    "plt.ylabel('True Positive Rate')\n",
    "plt.xlabel('False Positive Rate')\n",
    "plt.legend(loc=4)\n",
    "plt.show()\n",
    "\n",
    "cm = confusion_matrix(y_test, y_pred)\n",
    "sns.heatmap(cm, annot = True)"
   ]
  },
  {
   "cell_type": "markdown",
   "metadata": {
    "id": "SsAaLagDbI8t"
   },
   "source": [
    "### Decision Tree Classifier Model"
   ]
  },
  {
   "cell_type": "code",
   "execution_count": null,
   "metadata": {
    "id": "eaO0GZJMbI8t"
   },
   "outputs": [],
   "source": [
    "from sklearn.tree import DecisionTreeClassifier\n",
    "DT_clf = DecisionTreeClassifier()\n",
    "DT_clf.fit(x_train,y_train)\n",
    "y_pred = np.array(DT_clf.predict(x_test))\n",
    "y = np.array(y_test)\n",
    "print('Decision Tree Classifier Base Model Accuracy',accuracy_score(y_test,y_pred)*100)"
   ]
  },
  {
   "cell_type": "code",
   "execution_count": null,
   "metadata": {
    "id": "qTGI2GpUbI8t",
    "outputId": "b159eb8f-4217-4f4d-8996-23e8026c0656"
   },
   "outputs": [
    {
     "data": {
      "text/plain": [
       "[<matplotlib.lines.Line2D at 0x19d308d8240>]"
      ]
     },
     "execution_count": 44,
     "metadata": {},
     "output_type": "execute_result"
    },
    {
     "data": {
      "text/plain": [
       "Text(0,0.5,'True Positive Rate')"
      ]
     },
     "execution_count": 44,
     "metadata": {},
     "output_type": "execute_result"
    },
    {
     "data": {
      "text/plain": [
       "Text(0.5,0,'False Positive Rate')"
      ]
     },
     "execution_count": 44,
     "metadata": {},
     "output_type": "execute_result"
    },
    {
     "data": {
      "text/plain": [
       "<matplotlib.legend.Legend at 0x19d3082e208>"
      ]
     },
     "execution_count": 44,
     "metadata": {},
     "output_type": "execute_result"
    },
    {
     "data": {
      "image/png": "[encoded data removed]",
      "text/plain": [
       "<Figure size 432x288 with 1 Axes>"
      ]
     },
     "metadata": {},
     "output_type": "display_data"
    },
    {
     "data": {
      "text/plain": [
       "<matplotlib.axes._subplots.AxesSubplot at 0x19d308df588>"
      ]
     },
     "execution_count": 44,
     "metadata": {},
     "output_type": "execute_result"
    },
    {
     "data": {
      "image/png": "[encoded data removed]",
      "text/plain": [
       "<Figure size 432x288 with 2 Axes>"
      ]
     },
     "metadata": {},
     "output_type": "display_data"
    }
   ],
   "source": [
    "y_pred_proba = DT_clf.predict_proba(x_test)[::,1]\n",
    "fpr, tpr, _ = metrics.roc_curve(y_test,  y_pred_proba)\n",
    "auc = metrics.roc_auc_score(y_test, y_pred_proba)\n",
    "\n",
    "#create ROC curve\n",
    "plt.plot(fpr,tpr,label=\"AUC=\"+str(auc))\n",
    "plt.ylabel('True Positive Rate')\n",
    "plt.xlabel('False Positive Rate')\n",
    "plt.legend(loc=4)\n",
    "plt.show()\n",
    "\n",
    "cm = confusion_matrix(y_test, y_pred)\n",
    "sns.heatmap(cm, annot = True)"
   ]
  },
  {
   "cell_type": "markdown",
   "metadata": {
    "id": "tASsmVZPbI8u"
   },
   "source": [
    "### Random Forest Model "
   ]
  },
  {
   "cell_type": "code",
   "execution_count": null,
   "metadata": {
    "id": "Q6zxtwXZbI8u"
   },
   "outputs": [],
   "source": [
    "from sklearn.ensemble import RandomForestClassifier\n",
    "from sklearn.metrics import confusion_matrix\n",
    "\n",
    "model_rf = RandomForestClassifier()\n",
    "model_rf.fit(x_train, y_train)\n",
    "\n",
    "y_pred = model_rf.predict(x_test)\n",
    "\n",
    "print(\"Training Accuracy: \", model_rf.score(x_train, y_train))\n",
    "print('Testing Accuarcy: ', model_rf.score(x_test, y_test))\n",
    "\n",
    "cr = classification_report(y_test,  y_pred)\n",
    "print(cr)\n",
    "\n",
    "cm = confusion_matrix(y_test, y_pred)\n",
    "sns.heatmap(cm, annot = True)"
   ]
  },
  {
   "cell_type": "code",
   "execution_count": null,
   "metadata": {
    "id": "D0hFOfzobI8u"
   },
   "outputs": [],
   "source": [
    "y_pred_proba = model_rf.predict_proba(x_test)[::,1]\n",
    "fpr, tpr, _ = metrics.roc_curve(y_test,  y_pred_proba)\n",
    "auc = metrics.roc_auc_score(y_test, y_pred_proba)\n",
    "\n",
    "#create ROC curve\n",
    "plt.plot(fpr,tpr,label=\"AUC=\"+str(auc))\n",
    "plt.ylabel('True Positive Rate')\n",
    "plt.xlabel('False Positive Rate')\n",
    "plt.legend(loc=4)\n",
    "plt.show()\n",
    "\n",
    "print('Radom Forest Base Model Accuracy',accuracy_score(y_test,y_pred)*100)"
   ]
  },
  {
   "cell_type": "markdown",
   "metadata": {
    "id": "Vns6Kc_sbI8v"
   },
   "source": [
    "### Ada Boost Classifier Model "
   ]
  },
  {
   "cell_type": "code",
   "execution_count": null,
   "metadata": {
    "id": "D6pFvF0PbI8v"
   },
   "outputs": [],
   "source": [
    "\n",
    "from sklearn.ensemble import AdaBoostClassifier\n",
    "from sklearn.metrics import confusion_matrix\n",
    "from sklearn.metrics import classification_report\n",
    "\n",
    "model_ada = AdaBoostClassifier()\n",
    "model_ada.fit(x_train, y_train)\n",
    "\n",
    "y_pred = model_ada.predict(x_test)\n",
    "\n",
    "print(\"Training Accuracy: \", model_ada.score(x_train, y_train))\n",
    "print('Testing Accuarcy: ', model_ada.score(x_test, y_test))\n",
    "\n",
    "cr = classification_report(y_test,  y_pred)\n",
    "print(cr)\n",
    "\n",
    "cm = confusion_matrix(y_test, y_pred)\n",
    "sns.heatmap(cm, annot = True)"
   ]
  },
  {
   "cell_type": "code",
   "execution_count": null,
   "metadata": {
    "id": "NBbPcByKbI8v"
   },
   "outputs": [],
   "source": [
    "y_pred_proba = model_ada.predict_proba(x_test)[::,1]\n",
    "fpr, tpr, _ = metrics.roc_curve(y_test,  y_pred_proba)\n",
    "auc = metrics.roc_auc_score(y_test, y_pred_proba)\n",
    "\n",
    "#create ROC curve\n",
    "plt.plot(fpr,tpr,label=\"AUC=\"+str(auc))\n",
    "plt.ylabel('True Positive Rate')\n",
    "plt.xlabel('False Positive Rate')\n",
    "plt.legend(loc=4)\n",
    "plt.show()\n",
    "\n",
    "print('Ada Boost Classifier',accuracy_score(y_test,y_pred)*100)"
   ]
  },
  {
   "cell_type": "markdown",
   "metadata": {
    "id": "f8uTDeLHbI8w"
   },
   "source": [
    "**All the Base Model have good accuracy score but they fail to discriminate good and defualt customer. We build and select classifier which does the needful.**"
   ]
  },
  {
   "cell_type": "markdown",
   "metadata": {
    "id": "FkLYK_PLbI8w"
   },
   "source": [
    "### Model with Best Hyper-parameter"
   ]
  },
  {
   "cell_type": "code",
   "execution_count": null,
   "metadata": {
    "id": "wFJBwu2RbI8w"
   },
   "outputs": [],
   "source": [
    "lr = LogisticRegression(random_state=24, class_weight='balanced')\n",
    "parameters = {'C': (0.00001, 0.0001, 0.001, 0.01)}\n",
    "skf = StratifiedKFold(n_splits=5, shuffle=True, random_state=5)\n",
    "grid_search = GridSearchCV(lr, parameters, n_jobs=-1, scoring='roc_auc', cv=skf)\n",
    "grid_search = grid_search.fit(x_train, y_train)\n",
    "grid_search.best_estimator_\n",
    "grid_search.best_score_"
   ]
  },
  {
   "cell_type": "code",
   "execution_count": null,
   "metadata": {
    "id": "VyfDTjFybI8x"
   },
   "outputs": [],
   "source": [
    "lr = LogisticRegression(C=0.0001, random_state=24, class_weight='balanced')\n",
    "scal = StandardScaler()\n",
    "lr.fit(scal.fit_transform(x_train), y_train)\n",
    "\n",
    "importance_df = pd.DataFrame({'feature': x_train.columns,\n",
    "              'coefficient': lr.coef_.flatten().tolist()}).sort_values(by='coefficient', ascending=False)"
   ]
  },
  {
   "cell_type": "code",
   "execution_count": null,
   "metadata": {
    "id": "AFSHOEQtbI8x"
   },
   "outputs": [],
   "source": [
    "plt.figure(figsize=(10,6))\n",
    "plt.title('Feature Importance')\n",
    "sns.barplot(data=importance_df, x='coefficient', y='feature');"
   ]
  },
  {
   "cell_type": "code",
   "execution_count": null,
   "metadata": {
    "id": "Hji82O-VbI8x"
   },
   "outputs": [],
   "source": [
    "rf = RandomForestClassifier(n_estimators=100, n_jobs=-1, random_state=23, \n",
    "                            class_weight='balanced')\n",
    "parameters = {'max_features': [1, 2, 4], 'min_samples_leaf': [3, 5, 7, 9], 'max_depth': [5,10,15]}\n",
    "rf_grid_search = GridSearchCV(rf, parameters, n_jobs=-1, scoring='roc_auc', cv=skf, verbose=True)\n",
    "rf_grid_search = rf_grid_search.fit(x_train, y_train)\n",
    "print(rf_grid_search.best_score_)"
   ]
  },
  {
   "cell_type": "code",
   "execution_count": null,
   "metadata": {
    "id": "ITMmnQHIbI8y"
   },
   "outputs": [],
   "source": [
    "rf_grid_search.best_estimator_"
   ]
  },
  {
   "cell_type": "code",
   "execution_count": null,
   "metadata": {
    "id": "Sm0axMv6bI8y"
   },
   "outputs": [],
   "source": [
    "importance_df = pd.DataFrame({'feature': x_train.columns,\n",
    "              'coefficient': rf_grid_search.best_estimator_.feature_importances_}).sort_values(by='coefficient', ascending=False)"
   ]
  },
  {
   "cell_type": "code",
   "execution_count": null,
   "metadata": {
    "id": "MsCAnhEgbI8y"
   },
   "outputs": [],
   "source": [
    "rf_model = RandomForestClassifier(class_weight='balanced', max_depth=10, max_features=2,\n",
    "                       min_samples_leaf=9, n_jobs=-1, random_state=23)\n",
    "rf_model.fit(x_train,y_train)"
   ]
  },
  {
   "cell_type": "code",
   "execution_count": null,
   "metadata": {
    "id": "ZNGKCr8JbI8y"
   },
   "outputs": [],
   "source": [
    "plt.figure(figsize=(10,6))\n",
    "plt.title('Feature Importance')\n",
    "sns.barplot(data=importance_df, x='coefficient', y='feature');"
   ]
  },
  {
   "cell_type": "code",
   "execution_count": null,
   "metadata": {
    "id": "-k3zncgtbI8z"
   },
   "outputs": [],
   "source": [
    "from sklearn.model_selection import RandomizedSearchCV\n",
    "xgb_model = XGBClassifier(random_state=23,booster='gbtree',\n",
    "                          objective='binary:logistic',)\n",
    "params = {\n",
    "    'eta' : [0.01,0.015,0.025,0.05,0.10],\n",
    "    'gamma' : [0.05,0.10,0.3,0.5,0.7,0.9],\n",
    "    'max_depth' : [3,5,7,9,12],\n",
    "    'min_child_weight' : [1,3,5,7],\n",
    "    'subsample' : [0.6,0.7,0.8,0.9,1.0],\n",
    "    'colsample_bytree' : [0.6,0.7,0.8,0.9,1.0],\n",
    "    'reg_alpha' : [0.01,0.03,0.05,0.7,0.9],\n",
    "    'scale_pos_weight' : [3,4,5,6]\n",
    "}\n",
    "Randomsearch = RandomizedSearchCV(xgb_model, param_distributions=params, cv=skf, n_jobs=-1, scoring='roc_auc')\n",
    "Randomsearch = Randomsearch.fit(x_train, y_train)\n",
    "print(Randomsearch.best_score_)"
   ]
  },
  {
   "cell_type": "code",
   "execution_count": null,
   "metadata": {
    "id": "3wG_1AGWbI8z"
   },
   "outputs": [],
   "source": [
    "Randomsearch.best_params_"
   ]
  },
  {
   "cell_type": "code",
   "execution_count": null,
   "metadata": {
    "id": "dNvczDqCbI8z"
   },
   "outputs": [],
   "source": [
    "xgb_model = XGBClassifier(random_state=23,n_jobs=-1,colsample_bytree= 1.0, eta= 0.05, gamma= 0.7, max_depth= 3,\n",
    "                     min_child_weight= 1, reg_alpha= 0.01, scale_pos_weight= 5,\n",
    "                     subsample= 1.0).fit(x_train,y_train,eval_metric='auc',verbose=True)"
   ]
  },
  {
   "cell_type": "code",
   "execution_count": null,
   "metadata": {
    "id": "Mfr64t_ZbI80"
   },
   "outputs": [],
   "source": [
    "importance_df = pd.DataFrame({'feature': x_train.columns,\n",
    "              'coefficient': Randomsearch.best_estimator_.feature_importances_}).sort_values(by='coefficient', ascending=False)"
   ]
  },
  {
   "cell_type": "code",
   "execution_count": null,
   "metadata": {
    "id": "i8BKE7jFbI80"
   },
   "outputs": [],
   "source": [
    "plt.figure(figsize=(10,6))\n",
    "plt.title('Feature Importance')\n",
    "sns.barplot(data=importance_df, x='coefficient', y='feature');"
   ]
  },
  {
   "cell_type": "code",
   "execution_count": null,
   "metadata": {
    "id": "mZNNXA4dbI80"
   },
   "outputs": [],
   "source": [
    "x_train = pd.concat([x_train,y_train],axis=1)\n",
    "x_train.columns"
   ]
  },
  {
   "cell_type": "code",
   "execution_count": null,
   "metadata": {
    "id": "oDJlFRkxbI80"
   },
   "outputs": [],
   "source": [
    "x_train.drop(columns=['loan_default'],axis=1,inplace=True)"
   ]
  },
  {
   "cell_type": "code",
   "execution_count": null,
   "metadata": {
    "id": "wjkCV43tbI80"
   },
   "outputs": [],
   "source": [
    "from sklearn import metrics\n",
    "train_auc = metrics.roc_auc_score(y_train, xgb_model.predict_proba(x_train)[:,1])\n",
    "print(\"The AUC for the model built on the Train Data is : \",train_auc)\n",
    "train_gini = 2*train_auc- 1\n",
    "print(\"The Gini Index for the model built on the Train Data is : \", train_gini)"
   ]
  },
  {
   "cell_type": "code",
   "execution_count": null,
   "metadata": {
    "id": "bYqCSS0FbI81"
   },
   "outputs": [],
   "source": [
    "model_val_data =  pd.concat([x_test,y_test],axis=1).reset_index(drop=True)\n",
    "model_val_data.head(2)"
   ]
  },
  {
   "cell_type": "code",
   "execution_count": null,
   "metadata": {
    "id": "WbczRGAnbI81"
   },
   "outputs": [],
   "source": [
    "model_val_data_AUC = metrics.roc_auc_score(model_val_data['loan_default'], \n",
    "                    xgb_model.predict_proba(model_val_data.drop(columns=['loan_default'],axis=1))[:,1])\n",
    "print(\"The AUC for the model_val_data dataset is : \",model_val_data_AUC)\n",
    "# Model_val_data Gini Coefficient\n",
    "model_val_data_Gini_Coefficient = 2*model_val_data_AUC - 1\n",
    "print('The Gini Coefficient for the mode_val_data dataset is : ',model_val_data_Gini_Coefficient)"
   ]
  },
  {
   "cell_type": "markdown",
   "metadata": {
    "id": "7MRdjozzbI81"
   },
   "source": [
    "Both in Train & OOS test model did a good job of discriminating good & bad customer than predicting the class at random"
   ]
  },
  {
   "cell_type": "code",
   "execution_count": null,
   "metadata": {
    "id": "rrEOmygjbI81"
   },
   "outputs": [],
   "source": [
    "train_predicted_prob = pd.DataFrame(xgb_model.predict_proba(x_train)[:,1])\n",
    "train_predicted_prob.columns = ['prob']\n",
    "train_actual = y_train\n",
    "train_predict = pd.concat([train_actual, train_predicted_prob], axis=1)\n",
    "train_predict.columns = ['actual','prob_defaulter']"
   ]
  },
  {
   "cell_type": "code",
   "execution_count": null,
   "metadata": {
    "id": "EcH9oUAlbI82"
   },
   "outputs": [],
   "source": [
    "model_val_data_predicted_prob = pd.DataFrame(xgb_model.predict_proba(model_val_data.drop(columns=['loan_default'],axis=1))[:,1])\n",
    "model_val_data_predicted_prob.columns = ['prob']\n",
    "model_val_data_actual = model_val_data['loan_default']\n",
    "model_val_data_predict = pd.concat([model_val_data_actual, model_val_data_predicted_prob], axis=1)\n",
    "model_val_data_predict.columns = ['actual','prob_defaulter']"
   ]
  },
  {
   "cell_type": "code",
   "execution_count": null,
   "metadata": {
    "id": "7t87asMrbI82"
   },
   "outputs": [],
   "source": [
    "roc_like_df = pd.DataFrame()\n",
    "train_temp = train_predict.copy()\n",
    "\n",
    "for cut_off in np.linspace(0,1,50):\n",
    "    train_temp['cut_off'] = cut_off\n",
    "    train_temp['predicted'] = train_temp['prob_defaulter'].apply(lambda x: 0.0 if x < cut_off else 1.0)\n",
    "    train_temp['tp'] = train_temp.apply(lambda x: 1.0 if x['actual']==1.0 and x['predicted']==1 else 0.0, axis=1)\n",
    "    train_temp['fp'] = train_temp.apply(lambda x: 1.0 if x['actual']==0.0 and x['predicted']==1 else 0.0, axis=1)\n",
    "    train_temp['tn'] = train_temp.apply(lambda x: 1.0 if x['actual']==0.0 and x['predicted']==0 else 0.0, axis=1)\n",
    "    train_temp['fn'] = train_temp.apply(lambda x: 1.0 if x['actual']==1.0 and x['predicted']==0 else 0.0, axis=1)\n",
    "    sensitivity = train_temp['tp'].sum() / (train_temp['tp'].sum() + train_temp['fn'].sum())\n",
    "    specificity = train_temp['tn'].sum() / (train_temp['tn'].sum() + train_temp['fp'].sum())\n",
    "    roc_like_table = pd.DataFrame([cut_off, sensitivity, specificity]).T\n",
    "    roc_like_table.columns = ['cutoff', 'sensitivity', 'specificity']\n",
    "    roc_like_df = pd.concat([roc_like_df, roc_like_table], axis=0)"
   ]
  },
  {
   "cell_type": "code",
   "execution_count": null,
   "metadata": {
    "id": "P2H4vde3bI82"
   },
   "outputs": [],
   "source": [
    "roc_like_df['total'] = roc_like_df['sensitivity'] + roc_like_df['specificity']\n",
    "roc_like_df[roc_like_df['total']==roc_like_df['total'].max()]"
   ]
  },
  {
   "cell_type": "code",
   "execution_count": null,
   "metadata": {
    "id": "4bcdRgw7bI82"
   },
   "outputs": [],
   "source": [
    "model_val_data_predict['predicted'] = model_val_data_predict['prob_defaulter'].apply(lambda x: 1 if x > 0.40 else 0)\n",
    "train_predict['predicted'] = train_predict['prob_defaulter'].apply(lambda x: 1 if x > 0.40 else 0)"
   ]
  },
  {
   "cell_type": "code",
   "execution_count": null,
   "metadata": {
    "id": "8flE3dSbbI83"
   },
   "outputs": [],
   "source": [
    "# Creating a Confusion Matrix for training dataset\n",
    "sns.heatmap(pd.crosstab(train_predict['actual'], train_predict['predicted']), annot=True, fmt='.0f')\n",
    "plt.title('Train Data Confusion Matrix')\n",
    "plt.show()"
   ]
  },
  {
   "cell_type": "code",
   "execution_count": null,
   "metadata": {
    "id": "-ClAI-_MbI83"
   },
   "outputs": [],
   "source": [
    "# Creating a Confusion Matrix for model_val_data dataset\n",
    "sns.heatmap(pd.crosstab(model_val_data_predict['actual'], model_val_data_predict['predicted']), annot=True, fmt='.0f')\n",
    "plt.title('Model_val_data Data Confusion Matrix')\n",
    "plt.show()"
   ]
  },
  {
   "cell_type": "code",
   "execution_count": null,
   "metadata": {
    "id": "bedSqa6VbI83"
   },
   "outputs": [],
   "source": [
    "model_val_data_predict = model_val_data_predict.sort_values(by=['prob_defaulter'],ascending=False).reset_index(drop=True)\n",
    "model_val_data_predict['Deciles'] = pd.qcut(model_val_data_predict['prob_defaulter'],10,labels=range(10,0,-1))\n",
    "Number_of_1s = pd.DataFrame(model_val_data_predict[['Deciles',\n",
    "                    'actual']].groupby('Deciles')['actual'].sum().sort_index(ascending=False)).reset_index()\n",
    "Number_of_1s.columns = ['Decile','Defaulters']\n",
    "Totals = pd.DataFrame(model_val_data_predict[['Deciles',\n",
    "                    'actual']].groupby('Deciles')['actual'].count().sort_index(ascending=False)).reset_index()\n",
    "Totals.columns = ['Decile','Total_Num_Borrowers']\n",
    "Number_of_0s = pd.DataFrame(Totals['Total_Num_Borrowers'] - Number_of_1s['Defaulters'])\n",
    "Number_of_0s.columns = ['Non-Defaulters']\n",
    "decile_table = pd.concat([Number_of_1s,Number_of_0s],axis=1)\n",
    "percentage_of_defaulters = pd.DataFrame(decile_table['Defaulters']/sum(decile_table['Defaulters'])*100)\n",
    "percentage_of_defaulters.columns = ['Pctage_of_defaulters']\n",
    "percentage_of_non_defaulters = pd.DataFrame(decile_table['Non-Defaulters']/sum(decile_table['Non-Defaulters'])*100)\n",
    "percentage_of_non_defaulters.columns = ['Pctage_of_non_defaulters']\n",
    "cumulative_percentage_of_defaulters = pd.DataFrame(percentage_of_defaulters.cumsum())\n",
    "cumulative_percentage_of_defaulters.columns = ['Cumulative_perct_of_defaulters']\n",
    "cumulative_percentage_of_non_defaulters = pd.DataFrame(percentage_of_non_defaulters.cumsum())\n",
    "cumulative_percentage_of_non_defaulters.columns = ['Cumulative_perct_of_non_defaulters']\n",
    "KS_Statistics = pd.DataFrame(round(np.absolute(cumulative_percentage_of_defaulters['Cumulative_perct_of_defaulters'] - cumulative_percentage_of_non_defaulters['Cumulative_perct_of_non_defaulters']),2))\n",
    "KS_Statistics.columns = ['KS_Statistics']\n",
    "model_val_data_decile_table = pd.concat([decile_table, percentage_of_defaulters, percentage_of_non_defaulters,\n",
    "                               cumulative_percentage_of_defaulters, cumulative_percentage_of_non_defaulters,\n",
    "                               KS_Statistics],axis=1)\n",
    "model_val_data_decile_table.style.highlight_max(axis=0,subset='KS_Statistics')"
   ]
  },
  {
   "cell_type": "markdown",
   "metadata": {
    "id": "pqBY8FQ7bI84"
   },
   "source": [
    "### Results & Recommendation\n",
    "\n",
    "OOS test results shows rank ordering condition holds true across all the deciles with KS value of 30.2 in top three deciles which is much less than industry wide expected KS value of 40 to 70. Given the constraints of limited provision of data points the model does good job in predicting the defualt customers. Further scope of work would include ingesting key data points namely gender, customer income, Number of outstanding tradelines, Live outstanding amt, Affluence level."
   ]
  }
 ],
 "metadata": {
  "colab": {
   "collapsed_sections": [
    "pqBY8FQ7bI84"
   ],
   "provenance": []
  },
  "kernelspec": {
   "display_name": "Python 3 (ipykernel)",
   "language": "python",
   "name": "python3"
  },
  "language_info": {
   "codemirror_mode": {
    "name": "ipython",
    "version": 3
   },
   "file_extension": ".py",
   "mimetype": "text/x-python",
   "name": "python",
   "nbconvert_exporter": "python",
   "pygments_lexer": "ipython3",
   "version": "3.9.12"
  }
 },
 "nbformat": 4,
 "nbformat_minor": 1
}
